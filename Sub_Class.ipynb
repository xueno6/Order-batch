{
 "cells": [
  {
   "cell_type": "code",
   "execution_count": 4,
   "id": "2baeedc4",
   "metadata": {},
   "outputs": [],
   "source": [
    "import random\n",
    "%run Class.ipynb\n",
    "class Problem_MIP(Problem):\n",
    "    def __init__(self, number_of_order=0, number_of_sku=0, number_of_unique_sku=0, number_of_batch=0, number_of_subbatch=0):\n",
    "        super(Problem_MIP, self).__init__(number_of_order, number_of_sku, number_of_unique_sku, number_of_batch)\n",
    "        self.number_of_subbatch=number_of_subbatch\n",
    "        self.alpha=0.4\n",
    "    def Obj_Matrix_Return(self,matrix):\n",
    "        # Solver to calculate the objective value of matrix in return-shape\n",
    "        %run Obj_Matrix_Return.ipynb\n",
    "        #print(Obj_Matrix_Return_solver(self, matrix))\n",
    "        return Obj_Matrix_Return_solver(self, matrix)\n",
    "    def Obj_Matrix_Sshape(self,matrix):\n",
    "        # Solver to calculate the objective value of matrix in S-shape\n",
    "        %run Obj_Matrix_Sshape.ipynb\n",
    "        #print(Obj_Matrix_Sshape_solver(self, matrix))\n",
    "        return Obj_Matrix_Sshape_solver(self, matrix)\n",
    "    def Direct_MIP_Return(self,timebound):\n",
    "        # A MIP model to solve the return-shape problem directly\n",
    "        %run Direct_MIP_Return.ipynb\n",
    "        return Direct_MIP_Return_solver(self,timebound)\n",
    "    def Direct_MIP_Sshape(self,timebound):\n",
    "        # A MIP model to solve the S-shape problem directly\n",
    "        %run Direct_MIP_Sshape.ipynb\n",
    "        return Direct_MIP_Sshape_solver(self,timebound)\n",
    "    def Seed(self):\n",
    "        pass\n",
    "    def Pattern_Appro(self,timebound,para):\n",
    "        # An approximation approach for the MIP model\n",
    "        %run Pattern_Appro.ipynb\n",
    "        self.InitialIndex = random.sample(range(0, self.number_of_order-1), self.number_of_batch)\n",
    "        return Pattern_Appro_solver(self,timebound,para)\n",
    "    def Pattern_Appro_Weak(self,timebound):\n",
    "        %run Pattern_Appro_Weak.ipynb\n",
    "        self.InitialIndex = random.sample(range(0, self.number_of_order-1), self.number_of_batch)\n",
    "        return Pattern_Appro_Weak_solver(self,timebound)"
   ]
  }
 ],
 "metadata": {
  "kernelspec": {
   "display_name": "Python 3.8 (XPython)",
   "language": "python",
   "name": "xpython"
  },
  "language_info": {
   "file_extension": ".py",
   "mimetype": "text/x-python",
   "name": "python",
   "version": "3.8.10"
  }
 },
 "nbformat": 4,
 "nbformat_minor": 5
}
