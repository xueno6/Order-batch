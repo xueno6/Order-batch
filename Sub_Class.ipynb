{
 "cells": [
  {
   "cell_type": "code",
   "execution_count": null,
   "id": "2baeedc4",
   "metadata": {},
   "outputs": [],
   "source": [
    "%run Class.ipynb\n",
    "class Problem_MIP(Problem):\n",
    "    def __init__(self, number_of_order=0, number_of_sku=0, number_of_unique_sku=0, number_of_batch=0, number_of_subbatch=0):\n",
    "        super(Problem_MIP, self).__init__(number_of_order, number_of_sku, number_of_unique_sku, number_of_batch)\n",
    "        self.number_of_subbatch=number_of_subbatch\n",
    "        self.alpha=0.4\n",
    "    def Direct_MIP_Return(self):\n",
    "        pass\n",
    "    def Direct_MIP_Sshape(self):\n",
    "        pass\n",
    "    def k_way_partition(self):\n",
    "        %run k_way_partition.ipynb\n",
    "        k_way_partition_solver(self)\n",
    "    def Seed(self):\n",
    "        pass"
   ]
  }
 ],
 "metadata": {
  "kernelspec": {
   "display_name": "Python 3.8 (XPython)",
   "language": "python",
   "name": "xpython"
  },
  "language_info": {
   "file_extension": ".py",
   "mimetype": "text/x-python",
   "name": "python",
   "version": "3.8.10"
  }
 },
 "nbformat": 4,
 "nbformat_minor": 5
}
