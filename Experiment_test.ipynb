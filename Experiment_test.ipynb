{
 "cells": [
  {
   "cell_type": "code",
   "execution_count": 1,
   "id": "df3c3e3c",
   "metadata": {},
   "outputs": [],
   "source": [
    "import numpy as np\n",
    "import pandas as pd\n",
    "from tqdm import tqdm\n",
    "%run Sub_Class.ipynb\n",
    "%run Seed_Heuristic.ipynb\n",
    "%run Random_Sample.ipynb\n",
    "%run ILS.ipynb\n",
    "%run CWI.ipynb\n",
    "%run CWII.ipynb\n",
    "%run EVP.ipynb\n",
    "s= Problem_MIP(number_of_order=1, number_of_sku=1, number_of_unique_sku=1, number_of_batch=1)\n",
    "s.form_data()"
   ]
  },
  {
   "cell_type": "code",
   "execution_count": 2,
   "id": "a0437dec",
   "metadata": {},
   "outputs": [],
   "source": [
    "list_order=[]\n",
    "list_item =[]\n",
    "list_uitem=[]\n",
    "list_batch=[]\n",
    "\n",
    "list_order=[480, 480, 480, 600, 600, 600, 720, 720, 720, 840, 840, 840, 960, 960, 960, 1080,1080,1080,1200,1200,1200]\n",
    "\n",
    "\n",
    "for i,j in zip(list_order,[_ for _ in range(len(list_order))]):\n",
    "    list_item.append(int(i*2.8))\n",
    "    list_uitem.append(int(i*2.8/3*2))\n",
    "    if j%3==0:\n",
    "        list_batch.append(int(i/10))\n",
    "        j=j+1\n",
    "    elif j%3==1:\n",
    "        list_batch.append(int(i/15))\n",
    "    elif j%3==2:\n",
    "        list_batch.append(int(i/20))\n"
   ]
  },
  {
   "cell_type": "code",
   "execution_count": 4,
   "id": "07586e25",
   "metadata": {},
   "outputs": [],
   "source": [
    "result_Return=[[] for i in range(12)]\n",
    "result_Sshape=[[] for i in range(12)]\n",
    "\n",
    "list_PA_obj_Return=[]\n",
    "list_PA_weak_obj_Return=[]\n",
    "list_PA_ils_Return_obj=[]\n",
    "list_PA_ils_Return_time=[]\n",
    "list_ils_Return_obj=[]\n",
    "list_ils_Return_time=[]\n",
    "list_seed_save_Return_obj=[]\n",
    "list_seed_save_Return_time=[]\n",
    "list_cwi_Return_obj=[]\n",
    "list_cwi_Return_time=[]\n",
    "list_cwii_Return_obj=[]\n",
    "list_cwii_Return_time=[]"
   ]
  },
  {
   "cell_type": "code",
   "execution_count": 5,
   "id": "403ffc8f",
   "metadata": {},
   "outputs": [
    {
     "name": "stderr",
     "output_type": "stream",
     "text": [
      "\r",
      "  0%|                                                                                           | 0/21 [00:00<?, ?it/s]"
     ]
    },
    {
     "name": "stdout",
     "output_type": "stream",
     "text": [
      "Set parameter Username\n",
      "Academic license - for non-commercial use only - expires 2022-07-29\n",
      "Set parameter TimeLimit to value 100\n",
      "Set parameter TimeLimit to value 100\n",
      "Set parameter TimeLimit to value 100\n",
      "Set parameter TimeLimit to value 100\n",
      "Set parameter TimeLimit to value 100\n",
      "Set parameter TimeLimit to value 100\n",
      "Set parameter TimeLimit to value 100\n",
      "Set parameter TimeLimit to value 100\n",
      "Set parameter TimeLimit to value 100\n",
      "Set parameter TimeLimit to value 100\n",
      "Set parameter TimeLimit to value 100\n",
      "Set parameter TimeLimit to value 100\n",
      "Set parameter TimeLimit to value 100\n",
      "Set parameter TimeLimit to value 100\n",
      "Set parameter TimeLimit to value 100\n",
      "Set parameter TimeLimit to value 100\n",
      "Set parameter TimeLimit to value 100\n",
      "Set parameter TimeLimit to value 100\n",
      "Set parameter TimeLimit to value 100\n",
      "Set parameter TimeLimit to value 100\n"
     ]
    },
    {
     "name": "stderr",
     "output_type": "stream",
     "text": [
      "\r",
      "  5%|###7                                                                          | 1/21 [46:26<15:28:48, 2786.42s/it]"
     ]
    },
    {
     "name": "stdout",
     "output_type": "stream",
     "text": [
      "Set parameter TimeLimit to value 100\n",
      "Set parameter TimeLimit to value 100\n",
      "Set parameter TimeLimit to value 100\n",
      "Set parameter TimeLimit to value 100\n",
      "Set parameter TimeLimit to value 100\n",
      "Set parameter TimeLimit to value 100\n",
      "Set parameter TimeLimit to value 100\n",
      "Set parameter TimeLimit to value 100\n",
      "Set parameter TimeLimit to value 100\n",
      "Set parameter TimeLimit to value 100\n",
      "Set parameter TimeLimit to value 100\n",
      "Set parameter TimeLimit to value 100\n",
      "Set parameter TimeLimit to value 100\n",
      "Set parameter TimeLimit to value 100\n",
      "Set parameter TimeLimit to value 100\n",
      "Set parameter TimeLimit to value 100\n",
      "Set parameter TimeLimit to value 100\n",
      "Set parameter TimeLimit to value 100\n",
      "Set parameter TimeLimit to value 100\n",
      "Set parameter TimeLimit to value 100\n"
     ]
    },
    {
     "name": "stderr",
     "output_type": "stream",
     "text": [
      "\r",
      " 10%|#######2                                                                    | 2/21 [1:33:58<14:54:35, 2825.04s/it]"
     ]
    },
    {
     "name": "stdout",
     "output_type": "stream",
     "text": [
      "Set parameter TimeLimit to value 100\n",
      "Set parameter TimeLimit to value 100\n",
      "Set parameter TimeLimit to value 100\n",
      "Set parameter TimeLimit to value 100\n",
      "Set parameter TimeLimit to value 100\n",
      "Set parameter TimeLimit to value 100\n",
      "Set parameter TimeLimit to value 100\n",
      "Set parameter TimeLimit to value 100\n",
      "Set parameter TimeLimit to value 100\n",
      "Set parameter TimeLimit to value 100\n",
      "Set parameter TimeLimit to value 100\n",
      "Set parameter TimeLimit to value 100\n",
      "Set parameter TimeLimit to value 100\n",
      "Set parameter TimeLimit to value 100\n",
      "Set parameter TimeLimit to value 100\n",
      "Set parameter TimeLimit to value 100\n",
      "Set parameter TimeLimit to value 100\n",
      "Set parameter TimeLimit to value 100\n",
      "Set parameter TimeLimit to value 100\n",
      "Set parameter TimeLimit to value 100\n"
     ]
    },
    {
     "name": "stderr",
     "output_type": "stream",
     "text": [
      "\r",
      " 14%|##########8                                                                 | 3/21 [2:22:26<14:18:52, 2862.90s/it]"
     ]
    },
    {
     "name": "stdout",
     "output_type": "stream",
     "text": [
      "Set parameter TimeLimit to value 100\n",
      "Set parameter TimeLimit to value 100\n",
      "Set parameter TimeLimit to value 100\n",
      "Set parameter TimeLimit to value 100\n",
      "Set parameter TimeLimit to value 100\n",
      "Set parameter TimeLimit to value 100\n",
      "Set parameter TimeLimit to value 100\n",
      "Set parameter TimeLimit to value 100\n",
      "Set parameter TimeLimit to value 100\n",
      "Set parameter TimeLimit to value 100\n",
      "Set parameter TimeLimit to value 100\n",
      "Set parameter TimeLimit to value 100\n",
      "Set parameter TimeLimit to value 100\n",
      "Set parameter TimeLimit to value 100\n",
      "Set parameter TimeLimit to value 100\n",
      "Set parameter TimeLimit to value 100\n",
      "Set parameter TimeLimit to value 100\n",
      "Set parameter TimeLimit to value 100\n",
      "Set parameter TimeLimit to value 100\n",
      "Set parameter TimeLimit to value 100\n"
     ]
    },
    {
     "name": "stderr",
     "output_type": "stream",
     "text": [
      "\r",
      " 19%|##############4                                                             | 4/21 [3:17:16<14:18:59, 3031.73s/it]"
     ]
    },
    {
     "name": "stdout",
     "output_type": "stream",
     "text": [
      "Set parameter TimeLimit to value 100\n",
      "Set parameter TimeLimit to value 100\n",
      "Set parameter TimeLimit to value 100\n",
      "Set parameter TimeLimit to value 100\n",
      "Set parameter TimeLimit to value 100\n",
      "Set parameter TimeLimit to value 100\n",
      "Set parameter TimeLimit to value 100\n",
      "Set parameter TimeLimit to value 100\n",
      "Set parameter TimeLimit to value 100\n",
      "Set parameter TimeLimit to value 100\n",
      "Set parameter TimeLimit to value 100\n",
      "Set parameter TimeLimit to value 100\n",
      "Set parameter TimeLimit to value 100\n",
      "Set parameter TimeLimit to value 100\n",
      "Set parameter TimeLimit to value 100\n",
      "Set parameter TimeLimit to value 100\n",
      "Set parameter TimeLimit to value 100\n",
      "Set parameter TimeLimit to value 100\n",
      "Set parameter TimeLimit to value 100\n",
      "Set parameter TimeLimit to value 100\n"
     ]
    },
    {
     "name": "stderr",
     "output_type": "stream",
     "text": [
      "\r",
      " 24%|##################                                                          | 5/21 [4:14:08<14:04:56, 3168.53s/it]"
     ]
    },
    {
     "name": "stdout",
     "output_type": "stream",
     "text": [
      "Set parameter TimeLimit to value 100\n",
      "Set parameter TimeLimit to value 100\n",
      "Set parameter TimeLimit to value 100\n",
      "Set parameter TimeLimit to value 100\n",
      "Set parameter TimeLimit to value 100\n",
      "Set parameter TimeLimit to value 100\n",
      "Set parameter TimeLimit to value 100\n",
      "Set parameter TimeLimit to value 100\n",
      "Set parameter TimeLimit to value 100\n",
      "Set parameter TimeLimit to value 100\n",
      "Set parameter TimeLimit to value 100\n",
      "Set parameter TimeLimit to value 100\n",
      "Set parameter TimeLimit to value 100\n",
      "Set parameter TimeLimit to value 100\n",
      "Set parameter TimeLimit to value 100\n",
      "Set parameter TimeLimit to value 100\n",
      "Set parameter TimeLimit to value 100\n",
      "Set parameter TimeLimit to value 100\n",
      "Set parameter TimeLimit to value 100\n",
      "Set parameter TimeLimit to value 100\n"
     ]
    },
    {
     "name": "stderr",
     "output_type": "stream",
     "text": [
      "\r",
      " 29%|#####################7                                                      | 6/21 [5:12:28<13:40:19, 3281.32s/it]"
     ]
    },
    {
     "name": "stdout",
     "output_type": "stream",
     "text": [
      "Set parameter TimeLimit to value 100\n",
      "Set parameter TimeLimit to value 100\n",
      "Set parameter TimeLimit to value 100\n",
      "Set parameter TimeLimit to value 100\n",
      "Set parameter TimeLimit to value 100\n",
      "Set parameter TimeLimit to value 100\n",
      "Set parameter TimeLimit to value 100\n",
      "Set parameter TimeLimit to value 100\n",
      "Set parameter TimeLimit to value 100\n",
      "Set parameter TimeLimit to value 100\n",
      "Set parameter TimeLimit to value 100\n",
      "Set parameter TimeLimit to value 100\n",
      "Set parameter TimeLimit to value 100\n",
      "Set parameter TimeLimit to value 100\n",
      "Set parameter TimeLimit to value 100\n",
      "Set parameter TimeLimit to value 100\n",
      "Set parameter TimeLimit to value 100\n",
      "Set parameter TimeLimit to value 100\n",
      "Set parameter TimeLimit to value 100\n",
      "Set parameter TimeLimit to value 100\n"
     ]
    },
    {
     "name": "stderr",
     "output_type": "stream",
     "text": [
      "\r",
      " 33%|#########################3                                                  | 7/21 [6:17:15<13:31:50, 3479.36s/it]"
     ]
    },
    {
     "name": "stdout",
     "output_type": "stream",
     "text": [
      "Set parameter TimeLimit to value 100\n",
      "Set parameter TimeLimit to value 100\n",
      "Set parameter TimeLimit to value 100\n",
      "Set parameter TimeLimit to value 100\n",
      "Set parameter TimeLimit to value 100\n",
      "Set parameter TimeLimit to value 100\n",
      "Set parameter TimeLimit to value 100\n",
      "Set parameter TimeLimit to value 100\n",
      "Set parameter TimeLimit to value 100\n",
      "Set parameter TimeLimit to value 100\n",
      "Set parameter TimeLimit to value 100\n",
      "Set parameter TimeLimit to value 100\n",
      "Set parameter TimeLimit to value 100\n",
      "Set parameter TimeLimit to value 100\n",
      "Set parameter TimeLimit to value 100\n",
      "Set parameter TimeLimit to value 100\n",
      "Set parameter TimeLimit to value 100\n",
      "Set parameter TimeLimit to value 100\n",
      "Set parameter TimeLimit to value 100\n",
      "Set parameter TimeLimit to value 100\n"
     ]
    },
    {
     "name": "stderr",
     "output_type": "stream",
     "text": [
      "\r",
      " 38%|############################9                                               | 8/21 [7:27:03<13:22:45, 3705.01s/it]"
     ]
    },
    {
     "name": "stdout",
     "output_type": "stream",
     "text": [
      "Set parameter TimeLimit to value 100\n",
      "Set parameter TimeLimit to value 100\n",
      "Set parameter TimeLimit to value 100\n",
      "Set parameter TimeLimit to value 100\n",
      "Set parameter TimeLimit to value 100\n",
      "Set parameter TimeLimit to value 100\n",
      "Set parameter TimeLimit to value 100\n",
      "Set parameter TimeLimit to value 100\n",
      "Set parameter TimeLimit to value 100\n",
      "Set parameter TimeLimit to value 100\n",
      "Set parameter TimeLimit to value 100\n",
      "Set parameter TimeLimit to value 100\n",
      "Set parameter TimeLimit to value 100\n",
      "Set parameter TimeLimit to value 100\n",
      "Set parameter TimeLimit to value 100\n",
      "Set parameter TimeLimit to value 100\n",
      "Set parameter TimeLimit to value 100\n",
      "Set parameter TimeLimit to value 100\n",
      "Set parameter TimeLimit to value 100\n",
      "Set parameter TimeLimit to value 100\n"
     ]
    },
    {
     "name": "stderr",
     "output_type": "stream",
     "text": [
      "\r",
      " 43%|################################5                                           | 9/21 [8:38:21<12:56:48, 3884.07s/it]"
     ]
    },
    {
     "name": "stdout",
     "output_type": "stream",
     "text": [
      "Set parameter TimeLimit to value 100\n",
      "Set parameter TimeLimit to value 100\n",
      "Set parameter TimeLimit to value 100\n",
      "Set parameter TimeLimit to value 100\n",
      "Set parameter TimeLimit to value 100\n",
      "Set parameter TimeLimit to value 100\n",
      "Set parameter TimeLimit to value 100\n",
      "Set parameter TimeLimit to value 100\n",
      "Set parameter TimeLimit to value 100\n",
      "Set parameter TimeLimit to value 100\n",
      "Set parameter TimeLimit to value 100\n",
      "Set parameter TimeLimit to value 100\n",
      "Set parameter TimeLimit to value 100\n",
      "Set parameter TimeLimit to value 100\n",
      "Set parameter TimeLimit to value 100\n",
      "Set parameter TimeLimit to value 100\n",
      "Set parameter TimeLimit to value 100\n",
      "Set parameter TimeLimit to value 100\n",
      "Set parameter TimeLimit to value 100\n",
      "Set parameter TimeLimit to value 100\n"
     ]
    },
    {
     "name": "stderr",
     "output_type": "stream",
     "text": [
      "\r",
      " 48%|###################################2                                      | 10/21 [10:01:38<12:55:03, 4227.63s/it]"
     ]
    },
    {
     "name": "stdout",
     "output_type": "stream",
     "text": [
      "Set parameter TimeLimit to value 100\n",
      "Set parameter TimeLimit to value 100\n",
      "Set parameter TimeLimit to value 100\n",
      "Set parameter TimeLimit to value 100\n",
      "Set parameter TimeLimit to value 100\n",
      "Set parameter TimeLimit to value 100\n",
      "Set parameter TimeLimit to value 100\n",
      "Set parameter TimeLimit to value 100\n",
      "Set parameter TimeLimit to value 100\n",
      "Set parameter TimeLimit to value 100\n",
      "Set parameter TimeLimit to value 100\n",
      "Set parameter TimeLimit to value 100\n",
      "Set parameter TimeLimit to value 100\n",
      "Set parameter TimeLimit to value 100\n",
      "Set parameter TimeLimit to value 100\n",
      "Set parameter TimeLimit to value 100\n",
      "Set parameter TimeLimit to value 100\n",
      "Set parameter TimeLimit to value 100\n",
      "Set parameter TimeLimit to value 100\n",
      "Set parameter TimeLimit to value 100\n"
     ]
    },
    {
     "name": "stderr",
     "output_type": "stream",
     "text": [
      "\r",
      " 52%|######################################7                                   | 11/21 [11:27:39<12:32:14, 4513.47s/it]"
     ]
    },
    {
     "name": "stdout",
     "output_type": "stream",
     "text": [
      "Set parameter TimeLimit to value 100\n",
      "Set parameter TimeLimit to value 100\n",
      "Set parameter TimeLimit to value 100\n",
      "Set parameter TimeLimit to value 100\n",
      "Set parameter TimeLimit to value 100\n",
      "Set parameter TimeLimit to value 100\n",
      "Set parameter TimeLimit to value 100\n",
      "Set parameter TimeLimit to value 100\n",
      "Set parameter TimeLimit to value 100\n",
      "Set parameter TimeLimit to value 100\n",
      "Set parameter TimeLimit to value 100\n",
      "Set parameter TimeLimit to value 100\n",
      "Set parameter TimeLimit to value 100\n",
      "Set parameter TimeLimit to value 100\n",
      "Set parameter TimeLimit to value 100\n",
      "Set parameter TimeLimit to value 100\n",
      "Set parameter TimeLimit to value 100\n",
      "Set parameter TimeLimit to value 100\n",
      "Set parameter TimeLimit to value 100\n",
      "Set parameter TimeLimit to value 100\n"
     ]
    },
    {
     "name": "stderr",
     "output_type": "stream",
     "text": [
      "\r",
      " 57%|##########################################2                               | 12/21 [12:57:16<11:56:23, 4775.94s/it]"
     ]
    },
    {
     "name": "stdout",
     "output_type": "stream",
     "text": [
      "Set parameter TimeLimit to value 100\n",
      "Set parameter TimeLimit to value 100\n",
      "Set parameter TimeLimit to value 100\n",
      "Set parameter TimeLimit to value 100\n",
      "Set parameter TimeLimit to value 100\n",
      "Set parameter TimeLimit to value 100\n",
      "Set parameter TimeLimit to value 100\n",
      "Set parameter TimeLimit to value 100\n",
      "Set parameter TimeLimit to value 100\n",
      "Set parameter TimeLimit to value 100\n",
      "Set parameter TimeLimit to value 100\n",
      "Set parameter TimeLimit to value 100\n",
      "Set parameter TimeLimit to value 100\n",
      "Set parameter TimeLimit to value 100\n",
      "Set parameter TimeLimit to value 100\n",
      "Set parameter TimeLimit to value 100\n",
      "Set parameter TimeLimit to value 100\n",
      "Set parameter TimeLimit to value 100\n",
      "Set parameter TimeLimit to value 100\n",
      "Set parameter TimeLimit to value 100\n"
     ]
    },
    {
     "name": "stderr",
     "output_type": "stream",
     "text": [
      "\r",
      " 62%|#############################################8                            | 13/21 [14:40:30<11:34:04, 5205.62s/it]"
     ]
    },
    {
     "name": "stdout",
     "output_type": "stream",
     "text": [
      "Set parameter TimeLimit to value 100\n",
      "Set parameter TimeLimit to value 100\n",
      "Set parameter TimeLimit to value 100\n",
      "Set parameter TimeLimit to value 100\n",
      "Set parameter TimeLimit to value 100\n",
      "Set parameter TimeLimit to value 100\n",
      "Set parameter TimeLimit to value 100\n",
      "Set parameter TimeLimit to value 100\n",
      "Set parameter TimeLimit to value 100\n",
      "Set parameter TimeLimit to value 100\n",
      "Set parameter TimeLimit to value 100\n",
      "Set parameter TimeLimit to value 100\n",
      "Set parameter TimeLimit to value 100\n",
      "Set parameter TimeLimit to value 100\n",
      "Set parameter TimeLimit to value 100\n",
      "Set parameter TimeLimit to value 100\n",
      "Set parameter TimeLimit to value 100\n",
      "Set parameter TimeLimit to value 100\n",
      "Set parameter TimeLimit to value 100\n",
      "Set parameter TimeLimit to value 100\n"
     ]
    },
    {
     "name": "stderr",
     "output_type": "stream",
     "text": [
      "\r",
      " 67%|#################################################3                        | 14/21 [16:28:06<10:51:23, 5583.31s/it]"
     ]
    },
    {
     "name": "stdout",
     "output_type": "stream",
     "text": [
      "Set parameter TimeLimit to value 100\n",
      "Set parameter TimeLimit to value 100\n",
      "Set parameter TimeLimit to value 100\n",
      "Set parameter TimeLimit to value 100\n",
      "Set parameter TimeLimit to value 100\n",
      "Set parameter TimeLimit to value 100\n",
      "Set parameter TimeLimit to value 100\n",
      "Set parameter TimeLimit to value 100\n",
      "Set parameter TimeLimit to value 100\n",
      "Set parameter TimeLimit to value 100\n",
      "Set parameter TimeLimit to value 100\n",
      "Set parameter TimeLimit to value 100\n",
      "Set parameter TimeLimit to value 100\n",
      "Set parameter TimeLimit to value 100\n",
      "Set parameter TimeLimit to value 100\n",
      "Set parameter TimeLimit to value 100\n",
      "Set parameter TimeLimit to value 100\n",
      "Set parameter TimeLimit to value 100\n",
      "Set parameter TimeLimit to value 100\n",
      "Set parameter TimeLimit to value 100\n"
     ]
    },
    {
     "name": "stderr",
     "output_type": "stream",
     "text": [
      "\r",
      " 71%|#####################################################5                     | 15/21 [18:20:26<9:53:11, 5931.92s/it]"
     ]
    },
    {
     "name": "stdout",
     "output_type": "stream",
     "text": [
      "Set parameter TimeLimit to value 100\n",
      "Set parameter TimeLimit to value 100\n",
      "Set parameter TimeLimit to value 100\n",
      "Set parameter TimeLimit to value 100\n",
      "Set parameter TimeLimit to value 100\n",
      "Set parameter TimeLimit to value 100\n",
      "Set parameter TimeLimit to value 100\n",
      "Set parameter TimeLimit to value 100\n",
      "Set parameter TimeLimit to value 100\n",
      "Set parameter TimeLimit to value 100\n",
      "Set parameter TimeLimit to value 100\n",
      "Set parameter TimeLimit to value 100\n",
      "Set parameter TimeLimit to value 100\n",
      "Set parameter TimeLimit to value 100\n",
      "Set parameter TimeLimit to value 100\n",
      "Set parameter TimeLimit to value 100\n",
      "Set parameter TimeLimit to value 100\n",
      "Set parameter TimeLimit to value 100\n",
      "Set parameter TimeLimit to value 100\n",
      "Set parameter TimeLimit to value 100\n"
     ]
    },
    {
     "name": "stderr",
     "output_type": "stream",
     "text": [
      "\r",
      " 76%|#########################################################1                 | 16/21 [20:29:11<8:59:17, 6471.58s/it]"
     ]
    },
    {
     "name": "stdout",
     "output_type": "stream",
     "text": [
      "Set parameter TimeLimit to value 100\n",
      "Set parameter TimeLimit to value 100\n",
      "Set parameter TimeLimit to value 100\n",
      "Set parameter TimeLimit to value 100\n",
      "Set parameter TimeLimit to value 100\n",
      "Set parameter TimeLimit to value 100\n",
      "Set parameter TimeLimit to value 100\n",
      "Set parameter TimeLimit to value 100\n",
      "Set parameter TimeLimit to value 100\n",
      "Set parameter TimeLimit to value 100\n",
      "Set parameter TimeLimit to value 100\n",
      "Set parameter TimeLimit to value 100\n",
      "Set parameter TimeLimit to value 100\n",
      "Set parameter TimeLimit to value 100\n",
      "Set parameter TimeLimit to value 100\n",
      "Set parameter TimeLimit to value 100\n",
      "Set parameter TimeLimit to value 100\n",
      "Set parameter TimeLimit to value 100\n",
      "Set parameter TimeLimit to value 100\n",
      "Set parameter TimeLimit to value 100\n"
     ]
    },
    {
     "name": "stderr",
     "output_type": "stream",
     "text": [
      "\r",
      " 81%|############################################################7              | 17/21 [22:45:52<7:46:07, 6991.79s/it]"
     ]
    },
    {
     "name": "stdout",
     "output_type": "stream",
     "text": [
      "Set parameter TimeLimit to value 100\n",
      "Set parameter TimeLimit to value 100\n",
      "Set parameter TimeLimit to value 100\n",
      "Set parameter TimeLimit to value 100\n",
      "Set parameter TimeLimit to value 100\n",
      "Set parameter TimeLimit to value 100\n",
      "Set parameter TimeLimit to value 100\n",
      "Set parameter TimeLimit to value 100\n",
      "Set parameter TimeLimit to value 100\n",
      "Set parameter TimeLimit to value 100\n",
      "Set parameter TimeLimit to value 100\n",
      "Set parameter TimeLimit to value 100\n",
      "Set parameter TimeLimit to value 100\n",
      "Set parameter TimeLimit to value 100\n",
      "Set parameter TimeLimit to value 100\n",
      "Set parameter TimeLimit to value 100\n",
      "Set parameter TimeLimit to value 100\n",
      "Set parameter TimeLimit to value 100\n",
      "Set parameter TimeLimit to value 100\n",
      "Set parameter TimeLimit to value 100\n"
     ]
    },
    {
     "name": "stderr",
     "output_type": "stream",
     "text": [
      "\r",
      " 86%|################################################################2          | 18/21 [25:09:13<6:13:46, 7475.35s/it]"
     ]
    },
    {
     "name": "stdout",
     "output_type": "stream",
     "text": [
      "Set parameter TimeLimit to value 100\n",
      "Set parameter TimeLimit to value 100\n",
      "Set parameter TimeLimit to value 100\n",
      "Set parameter TimeLimit to value 100\n",
      "Set parameter TimeLimit to value 100\n",
      "Set parameter TimeLimit to value 100\n",
      "Set parameter TimeLimit to value 100\n",
      "Set parameter TimeLimit to value 100\n",
      "Set parameter TimeLimit to value 100\n",
      "Set parameter TimeLimit to value 100\n",
      "Set parameter TimeLimit to value 100\n",
      "Set parameter TimeLimit to value 100\n",
      "Set parameter TimeLimit to value 100\n",
      "Set parameter TimeLimit to value 100\n",
      "Set parameter TimeLimit to value 100\n",
      "Set parameter TimeLimit to value 100\n",
      "Set parameter TimeLimit to value 100\n",
      "Set parameter TimeLimit to value 100\n",
      "Set parameter TimeLimit to value 100\n",
      "Set parameter TimeLimit to value 100\n"
     ]
    },
    {
     "name": "stderr",
     "output_type": "stream",
     "text": [
      "\r",
      " 90%|###################################################################8       | 19/21 [27:55:05<4:33:57, 8218.96s/it]"
     ]
    },
    {
     "name": "stdout",
     "output_type": "stream",
     "text": [
      "Set parameter TimeLimit to value 100\n",
      "Set parameter TimeLimit to value 100\n",
      "Set parameter TimeLimit to value 100\n",
      "Set parameter TimeLimit to value 100\n",
      "Set parameter TimeLimit to value 100\n",
      "Set parameter TimeLimit to value 100\n",
      "Set parameter TimeLimit to value 100\n",
      "Set parameter TimeLimit to value 100\n",
      "Set parameter TimeLimit to value 100\n",
      "Set parameter TimeLimit to value 100\n",
      "Set parameter TimeLimit to value 100\n",
      "Set parameter TimeLimit to value 100\n",
      "Set parameter TimeLimit to value 100\n",
      "Set parameter TimeLimit to value 100\n",
      "Set parameter TimeLimit to value 100\n",
      "Set parameter TimeLimit to value 100\n",
      "Set parameter TimeLimit to value 100\n",
      "Set parameter TimeLimit to value 100\n",
      "Set parameter TimeLimit to value 100\n",
      "Set parameter TimeLimit to value 100\n"
     ]
    },
    {
     "name": "stderr",
     "output_type": "stream",
     "text": [
      "\r",
      " 95%|#######################################################################4   | 20/21 [30:43:57<2:26:33, 8793.59s/it]"
     ]
    },
    {
     "name": "stdout",
     "output_type": "stream",
     "text": [
      "Set parameter TimeLimit to value 100\n",
      "Set parameter TimeLimit to value 100\n",
      "Set parameter TimeLimit to value 100\n",
      "Set parameter TimeLimit to value 100\n",
      "Set parameter TimeLimit to value 100\n",
      "Set parameter TimeLimit to value 100\n",
      "Set parameter TimeLimit to value 100\n",
      "Set parameter TimeLimit to value 100\n",
      "Set parameter TimeLimit to value 100\n",
      "Set parameter TimeLimit to value 100\n",
      "Set parameter TimeLimit to value 100\n",
      "Set parameter TimeLimit to value 100\n",
      "Set parameter TimeLimit to value 100\n",
      "Set parameter TimeLimit to value 100\n",
      "Set parameter TimeLimit to value 100\n",
      "Set parameter TimeLimit to value 100\n",
      "Set parameter TimeLimit to value 100\n",
      "Set parameter TimeLimit to value 100\n",
      "Set parameter TimeLimit to value 100\n",
      "Set parameter TimeLimit to value 100\n"
     ]
    },
    {
     "name": "stderr",
     "output_type": "stream",
     "text": [
      "100%|#############################################################################| 21/21 [33:37:46<00:00, 5765.05s/it]\n"
     ]
    }
   ],
   "source": [
    "for i in tqdm(range(len(list_order))):\n",
    "    for _ in range(10):\n",
    "        try:\n",
    "            s= Problem_MIP(number_of_order=list_order[i], number_of_sku=list_item[i], number_of_unique_sku=list_uitem[i], number_of_batch=list_batch[i])\n",
    "            s.form_data()\n",
    "            #Exact\n",
    "\n",
    "            #Appro\n",
    "            PA_obj,PA_gap=s.Pattern_Appro(100)\n",
    "            PA_obj_Return=s.Obj_Matrix_Return(s.Pattern_Appro_matrix)\n",
    "\n",
    "            list_PA_obj_Return.append(PA_obj_Return)\n",
    "            #Approweak\n",
    "            PA_weak_obj,PA_weak_gap=s.Pattern_Appro_Weak(100)\n",
    "            PA_weak_obj_Return=s.Obj_Matrix_Return(s.Pattern_Appro_Weak_matrix)\n",
    "\n",
    "            list_PA_weak_obj_Return.append(PA_weak_obj_Return)\n",
    "            #Appro+ILS\n",
    "            PA_ils_Return_m,PA_ils_Return_obj,PA_ils_Return_time=Return_iterated_local_search(s,s.Pattern_Appro_matrix,PA_obj_Return,1000,100,0.005)\n",
    "\n",
    "            list_PA_ils_Return_obj.append(PA_ils_Return_obj)\n",
    "            list_PA_ils_Return_time.append(PA_ils_Return_time)\n",
    "            #ILS\n",
    "            ils_m=Random_Sample_operator(s)\n",
    "            ils_Return_obj=s.Obj_Matrix_Return(ils_m)\n",
    "            ils_Return_m,ils_Return_obj,ils_Return_time=Return_iterated_local_search(s,ils_m,ils_Return_obj,1000,100,0.005)\n",
    "\n",
    "            list_ils_Return_obj.append(ils_Return_obj)\n",
    "            list_ils_Return_time.append(ils_Return_time)\n",
    "            #Seed_save\n",
    "            seed_save_Return_m,seed_save_Return_obj,seed_save_Return_time=Return_Seed_Heuristic_Solver(s)\n",
    "\n",
    "            list_seed_save_Return_obj.append(seed_save_Return_obj)\n",
    "            list_seed_save_Return_time.append(seed_save_Return_time)\n",
    "            #CWI\n",
    "            cwi_Return_m,cwi_Return_obj,cwi_Return_time=Return_CWI_Heuristic_Solver(s)\n",
    "            list_cwi_Return_obj.append(cwi_Return_obj)\n",
    "            list_cwi_Return_time.append(cwi_Return_time)\n",
    "            #CWII\n",
    "            cwii_Return_m,cwii_Return_obj,cwii_Return_time=Return_CWII_Heuristic_Solver(s)\n",
    "            list_cwii_Return_obj.append(cwii_Return_obj)\n",
    "            list_cwii_Return_time.append(cwii_Return_time)\n",
    "        except:\n",
    "            pass\n",
    "    result_Return[0].append(np.mean(list_PA_obj_Return))\n",
    "    result_Return[1].append(np.mean(list_PA_weak_obj_Return))\n",
    "    result_Return[2].append(np.mean(list_PA_ils_Return_obj))\n",
    "    result_Return[3].append(np.mean(list_PA_ils_Return_time))\n",
    "    result_Return[4].append(np.mean(list_ils_Return_obj))\n",
    "    result_Return[5].append(np.mean(list_ils_Return_time))\n",
    "    result_Return[6].append(np.mean(list_seed_save_Return_obj))\n",
    "    result_Return[7].append(np.mean(list_seed_save_Return_time))\n",
    "    result_Return[8].append(np.mean(list_cwi_Return_obj))\n",
    "    result_Return[9].append(np.mean(list_cwi_Return_time))\n",
    "    result_Return[10].append(np.mean(list_cwii_Return_obj))\n",
    "    result_Return[11].append(np.mean(list_cwii_Return_time))\n"
   ]
  },
  {
   "cell_type": "code",
   "execution_count": 8,
   "id": "4fbaab63",
   "metadata": {},
   "outputs": [],
   "source": [
    "c_Return={\n",
    "          'PA_obj_Return' : result_Return[0],\n",
    "          'PA_weak_obj_Return' : result_Return[1],\n",
    "          'PA+ils_Return_obj':result_Return[2],\n",
    "          'PA+ils_Return_time':result_Return[3],\n",
    "          'ils_Return':result_Return[4],\n",
    "          'ils_Return_time':result_Return[5],\n",
    "          'Seed_save_Return_obj':result_Return[6],\n",
    "          'Seed_save_Return_time':result_Return[7],\n",
    "          'CWI_Return_obj':result_Return[8],\n",
    "          'CWI_Return_time':result_Return[9],\n",
    "          'CWII_Return_obj':result_Return[10],\n",
    "          'CWII_Return_time':result_Return[11]\n",
    "#           'Seed_Return_obj':result_Return[14],\n",
    "#           'Seed_Return_time':result_Return[15]\n",
    "         }\n",
    "data_return=data= pd.DataFrame(c_Return)"
   ]
  },
  {
   "cell_type": "code",
   "execution_count": 10,
   "id": "b55f5266",
   "metadata": {},
   "outputs": [],
   "source": [
    "data_return.to_excel('Return_exp1.xlsx')"
   ]
  },
  {
   "cell_type": "code",
   "execution_count": 5,
   "id": "73f63d84",
   "metadata": {},
   "outputs": [],
   "source": [
    "list_PA_obj_Sshape=[]\n",
    "list_PA_weak_obj_Sshape=[]\n",
    "list_PA_ils_Sshape_obj=[]\n",
    "list_PA_ils_Sshape_time=[]\n",
    "list_ils_Sshape_obj=[]\n",
    "list_ils_Sshape_time=[]\n",
    "list_seed_save_Sshape_obj=[]\n",
    "list_seed_save_Sshape_time=[]\n",
    "list_cwi_Sshape_obj=[]\n",
    "list_cwi_Sshape_time=[]\n",
    "list_cwii_Sshape_obj=[]\n",
    "list_cwii_Sshape_time=[]\n"
   ]
  },
  {
   "cell_type": "code",
   "execution_count": 7,
   "id": "c66a20aa",
   "metadata": {},
   "outputs": [
    {
     "name": "stderr",
     "output_type": "stream",
     "text": [
      "\r",
      "  0%|                                                                                           | 0/21 [00:00<?, ?it/s]"
     ]
    },
    {
     "name": "stdout",
     "output_type": "stream",
     "text": [
      "Set parameter Username\n",
      "Academic license - for non-commercial use only - expires 2022-07-29\n",
      "Set parameter TimeLimit to value 100\n",
      "Set parameter TimeLimit to value 100\n",
      "Set parameter TimeLimit to value 100\n",
      "Set parameter TimeLimit to value 100\n",
      "Set parameter TimeLimit to value 100\n",
      "Set parameter TimeLimit to value 100\n",
      "Set parameter TimeLimit to value 100\n",
      "Set parameter TimeLimit to value 100\n",
      "Set parameter TimeLimit to value 100\n",
      "Set parameter TimeLimit to value 100\n",
      "Set parameter TimeLimit to value 100\n",
      "Set parameter TimeLimit to value 100\n",
      "Set parameter TimeLimit to value 100\n",
      "Set parameter TimeLimit to value 100\n",
      "Set parameter TimeLimit to value 100\n",
      "Set parameter TimeLimit to value 100\n",
      "Set parameter TimeLimit to value 100\n",
      "Set parameter TimeLimit to value 100\n",
      "Set parameter TimeLimit to value 100\n",
      "Set parameter TimeLimit to value 100\n"
     ]
    },
    {
     "name": "stderr",
     "output_type": "stream",
     "text": [
      "\r",
      "  5%|###7                                                                          | 1/21 [40:17<13:25:40, 2417.01s/it]"
     ]
    },
    {
     "name": "stdout",
     "output_type": "stream",
     "text": [
      "Set parameter TimeLimit to value 100\n",
      "Set parameter TimeLimit to value 100\n",
      "Set parameter TimeLimit to value 100\n",
      "Set parameter TimeLimit to value 100\n",
      "Set parameter TimeLimit to value 100\n",
      "Set parameter TimeLimit to value 100\n",
      "Set parameter TimeLimit to value 100\n",
      "Set parameter TimeLimit to value 100\n",
      "Set parameter TimeLimit to value 100\n",
      "Set parameter TimeLimit to value 100\n",
      "Set parameter TimeLimit to value 100\n",
      "Set parameter TimeLimit to value 100\n",
      "Set parameter TimeLimit to value 100\n",
      "Set parameter TimeLimit to value 100\n",
      "Set parameter TimeLimit to value 100\n",
      "Set parameter TimeLimit to value 100\n",
      "Set parameter TimeLimit to value 100\n",
      "Set parameter TimeLimit to value 100\n",
      "Set parameter TimeLimit to value 100\n",
      "Set parameter TimeLimit to value 100\n"
     ]
    },
    {
     "name": "stderr",
     "output_type": "stream",
     "text": [
      "\r",
      " 10%|#######2                                                                    | 2/21 [1:21:27<12:55:23, 2448.62s/it]"
     ]
    },
    {
     "name": "stdout",
     "output_type": "stream",
     "text": [
      "Set parameter TimeLimit to value 100\n",
      "Set parameter TimeLimit to value 100\n",
      "Set parameter TimeLimit to value 100\n",
      "Set parameter TimeLimit to value 100\n",
      "Set parameter TimeLimit to value 100\n",
      "Set parameter TimeLimit to value 100\n",
      "Set parameter TimeLimit to value 100\n",
      "Set parameter TimeLimit to value 100\n",
      "Set parameter TimeLimit to value 100\n",
      "Set parameter TimeLimit to value 100\n",
      "Set parameter TimeLimit to value 100\n",
      "Set parameter TimeLimit to value 100\n",
      "Set parameter TimeLimit to value 100\n",
      "Set parameter TimeLimit to value 100\n",
      "Set parameter TimeLimit to value 100\n",
      "Set parameter TimeLimit to value 100\n",
      "Set parameter TimeLimit to value 100\n",
      "Set parameter TimeLimit to value 100\n",
      "Set parameter TimeLimit to value 100\n",
      "Set parameter TimeLimit to value 100\n"
     ]
    },
    {
     "name": "stderr",
     "output_type": "stream",
     "text": [
      "\r",
      " 14%|##########8                                                                 | 3/21 [2:03:19<12:23:11, 2477.31s/it]"
     ]
    },
    {
     "name": "stdout",
     "output_type": "stream",
     "text": [
      "Set parameter TimeLimit to value 100\n",
      "Set parameter TimeLimit to value 100\n",
      "Set parameter TimeLimit to value 100\n",
      "Set parameter TimeLimit to value 100\n",
      "Set parameter TimeLimit to value 100\n",
      "Set parameter TimeLimit to value 100\n",
      "Set parameter TimeLimit to value 100\n",
      "Set parameter TimeLimit to value 100\n",
      "Set parameter TimeLimit to value 100\n",
      "Set parameter TimeLimit to value 100\n",
      "Set parameter TimeLimit to value 100\n",
      "Set parameter TimeLimit to value 100\n",
      "Set parameter TimeLimit to value 100\n",
      "Set parameter TimeLimit to value 100\n",
      "Set parameter TimeLimit to value 100\n",
      "Set parameter TimeLimit to value 100\n",
      "Set parameter TimeLimit to value 100\n",
      "Set parameter TimeLimit to value 100\n",
      "Set parameter TimeLimit to value 100\n",
      "Set parameter TimeLimit to value 100\n"
     ]
    },
    {
     "name": "stderr",
     "output_type": "stream",
     "text": [
      "\r",
      " 19%|##############4                                                             | 4/21 [3:27:07<16:27:17, 3484.54s/it]"
     ]
    },
    {
     "name": "stdout",
     "output_type": "stream",
     "text": [
      "Set parameter TimeLimit to value 100\n",
      "Set parameter TimeLimit to value 100\n",
      "Set parameter TimeLimit to value 100\n",
      "Set parameter TimeLimit to value 100\n",
      "Set parameter TimeLimit to value 100\n",
      "Set parameter TimeLimit to value 100\n",
      "Set parameter TimeLimit to value 100\n",
      "Set parameter TimeLimit to value 100\n",
      "Set parameter TimeLimit to value 100\n",
      "Set parameter TimeLimit to value 100\n",
      "Set parameter TimeLimit to value 100\n",
      "Set parameter TimeLimit to value 100\n",
      "Set parameter TimeLimit to value 100\n",
      "Set parameter TimeLimit to value 100\n",
      "Set parameter TimeLimit to value 100\n",
      "Set parameter TimeLimit to value 100\n",
      "Set parameter TimeLimit to value 100\n",
      "Set parameter TimeLimit to value 100\n",
      "Set parameter TimeLimit to value 100\n",
      "Set parameter TimeLimit to value 100\n"
     ]
    },
    {
     "name": "stderr",
     "output_type": "stream",
     "text": [
      "\r",
      " 24%|##################                                                          | 5/21 [4:14:53<14:29:39, 3261.22s/it]"
     ]
    },
    {
     "name": "stdout",
     "output_type": "stream",
     "text": [
      "Set parameter TimeLimit to value 100\n",
      "Set parameter TimeLimit to value 100\n",
      "Set parameter TimeLimit to value 100\n",
      "Set parameter TimeLimit to value 100\n",
      "Set parameter TimeLimit to value 100\n",
      "Set parameter TimeLimit to value 100\n",
      "Set parameter TimeLimit to value 100\n",
      "Set parameter TimeLimit to value 100\n",
      "Set parameter TimeLimit to value 100\n",
      "Set parameter TimeLimit to value 100\n",
      "Set parameter TimeLimit to value 100\n",
      "Set parameter TimeLimit to value 100\n",
      "Set parameter TimeLimit to value 100\n",
      "Set parameter TimeLimit to value 100\n",
      "Set parameter TimeLimit to value 100\n",
      "Set parameter TimeLimit to value 100\n",
      "Set parameter TimeLimit to value 100\n",
      "Set parameter TimeLimit to value 100\n",
      "Set parameter TimeLimit to value 100\n",
      "Set parameter TimeLimit to value 100\n"
     ]
    },
    {
     "name": "stderr",
     "output_type": "stream",
     "text": [
      "\r",
      " 29%|#####################7                                                      | 6/21 [5:03:57<13:08:25, 3153.68s/it]"
     ]
    },
    {
     "name": "stdout",
     "output_type": "stream",
     "text": [
      "Set parameter TimeLimit to value 100\n",
      "Set parameter TimeLimit to value 100\n",
      "Set parameter TimeLimit to value 100\n",
      "Set parameter TimeLimit to value 100\n",
      "Set parameter TimeLimit to value 100\n",
      "Set parameter TimeLimit to value 100\n",
      "Set parameter TimeLimit to value 100\n",
      "Set parameter TimeLimit to value 100\n",
      "Set parameter TimeLimit to value 100\n",
      "Set parameter TimeLimit to value 100\n",
      "Set parameter TimeLimit to value 100\n",
      "Set parameter TimeLimit to value 100\n",
      "Set parameter TimeLimit to value 100\n",
      "Set parameter TimeLimit to value 100\n",
      "Set parameter TimeLimit to value 100\n",
      "Set parameter TimeLimit to value 100\n",
      "Set parameter TimeLimit to value 100\n",
      "Set parameter TimeLimit to value 100\n",
      "Set parameter TimeLimit to value 100\n",
      "Set parameter TimeLimit to value 100\n"
     ]
    },
    {
     "name": "stderr",
     "output_type": "stream",
     "text": [
      "\r",
      " 33%|#########################3                                                  | 7/21 [6:01:06<12:36:48, 3243.48s/it]"
     ]
    },
    {
     "name": "stdout",
     "output_type": "stream",
     "text": [
      "Set parameter TimeLimit to value 100\n",
      "Set parameter TimeLimit to value 100\n",
      "Set parameter TimeLimit to value 100\n",
      "Set parameter TimeLimit to value 100\n",
      "Set parameter TimeLimit to value 100\n",
      "Set parameter TimeLimit to value 100\n",
      "Set parameter TimeLimit to value 100\n",
      "Set parameter TimeLimit to value 100\n",
      "Set parameter TimeLimit to value 100\n",
      "Set parameter TimeLimit to value 100\n",
      "Set parameter TimeLimit to value 100\n",
      "Set parameter TimeLimit to value 100\n",
      "Set parameter TimeLimit to value 100\n",
      "Set parameter TimeLimit to value 100\n",
      "Set parameter TimeLimit to value 100\n",
      "Set parameter TimeLimit to value 100\n",
      "Set parameter TimeLimit to value 100\n",
      "Set parameter TimeLimit to value 100\n",
      "Set parameter TimeLimit to value 100\n",
      "Set parameter TimeLimit to value 100\n"
     ]
    },
    {
     "name": "stderr",
     "output_type": "stream",
     "text": [
      "\r",
      " 38%|############################9                                               | 8/21 [7:00:03<12:03:00, 3336.94s/it]"
     ]
    },
    {
     "name": "stdout",
     "output_type": "stream",
     "text": [
      "Set parameter TimeLimit to value 100\n",
      "Set parameter TimeLimit to value 100\n",
      "Set parameter TimeLimit to value 100\n",
      "Set parameter TimeLimit to value 100\n",
      "Set parameter TimeLimit to value 100\n",
      "Set parameter TimeLimit to value 100\n",
      "Set parameter TimeLimit to value 100\n",
      "Set parameter TimeLimit to value 100\n",
      "Set parameter TimeLimit to value 100\n",
      "Set parameter TimeLimit to value 100\n",
      "Set parameter TimeLimit to value 100\n",
      "Set parameter TimeLimit to value 100\n",
      "Set parameter TimeLimit to value 100\n",
      "Set parameter TimeLimit to value 100\n",
      "Set parameter TimeLimit to value 100\n",
      "Set parameter TimeLimit to value 100\n",
      "Set parameter TimeLimit to value 100\n",
      "Set parameter TimeLimit to value 100\n",
      "Set parameter TimeLimit to value 100\n",
      "Set parameter TimeLimit to value 100\n"
     ]
    },
    {
     "name": "stderr",
     "output_type": "stream",
     "text": [
      "\r",
      " 43%|################################5                                           | 9/21 [8:00:28<11:25:25, 3427.17s/it]"
     ]
    },
    {
     "name": "stdout",
     "output_type": "stream",
     "text": [
      "Set parameter TimeLimit to value 100\n",
      "Set parameter TimeLimit to value 100\n",
      "Set parameter TimeLimit to value 100\n",
      "Set parameter TimeLimit to value 100\n",
      "Set parameter TimeLimit to value 100\n",
      "Set parameter TimeLimit to value 100\n",
      "Set parameter TimeLimit to value 100\n",
      "Set parameter TimeLimit to value 100\n",
      "Set parameter TimeLimit to value 100\n",
      "Set parameter TimeLimit to value 100\n",
      "Set parameter TimeLimit to value 100\n",
      "Set parameter TimeLimit to value 100\n",
      "Set parameter TimeLimit to value 100\n",
      "Set parameter TimeLimit to value 100\n",
      "Set parameter TimeLimit to value 100\n",
      "Set parameter TimeLimit to value 100\n",
      "Set parameter TimeLimit to value 100\n",
      "Set parameter TimeLimit to value 100\n",
      "Set parameter TimeLimit to value 100\n",
      "Set parameter TimeLimit to value 100\n"
     ]
    },
    {
     "name": "stderr",
     "output_type": "stream",
     "text": [
      "\r",
      " 48%|###################################7                                       | 10/21 [9:13:00<11:20:37, 3712.47s/it]"
     ]
    },
    {
     "name": "stdout",
     "output_type": "stream",
     "text": [
      "Set parameter TimeLimit to value 100\n",
      "Set parameter TimeLimit to value 100\n",
      "Set parameter TimeLimit to value 100\n",
      "Set parameter TimeLimit to value 100\n",
      "Set parameter TimeLimit to value 100\n",
      "Set parameter TimeLimit to value 100\n",
      "Set parameter TimeLimit to value 100\n",
      "Set parameter TimeLimit to value 100\n",
      "Set parameter TimeLimit to value 100\n",
      "Set parameter TimeLimit to value 100\n",
      "Set parameter TimeLimit to value 100\n",
      "Set parameter TimeLimit to value 100\n",
      "Set parameter TimeLimit to value 100\n",
      "Set parameter TimeLimit to value 100\n",
      "Set parameter TimeLimit to value 100\n",
      "Set parameter TimeLimit to value 100\n",
      "Set parameter TimeLimit to value 100\n",
      "Set parameter TimeLimit to value 100\n",
      "Set parameter TimeLimit to value 100\n",
      "Set parameter TimeLimit to value 100\n"
     ]
    },
    {
     "name": "stderr",
     "output_type": "stream",
     "text": [
      "\r",
      " 52%|######################################7                                   | 11/21 [10:28:02<10:59:00, 3954.04s/it]"
     ]
    },
    {
     "name": "stdout",
     "output_type": "stream",
     "text": [
      "Set parameter TimeLimit to value 100\n",
      "Set parameter TimeLimit to value 100\n",
      "Set parameter TimeLimit to value 100\n",
      "Set parameter TimeLimit to value 100\n",
      "Set parameter TimeLimit to value 100\n",
      "Set parameter TimeLimit to value 100\n",
      "Set parameter TimeLimit to value 100\n",
      "Set parameter TimeLimit to value 100\n",
      "Set parameter TimeLimit to value 100\n",
      "Set parameter TimeLimit to value 100\n",
      "Set parameter TimeLimit to value 100\n",
      "Set parameter TimeLimit to value 100\n",
      "Set parameter TimeLimit to value 100\n",
      "Set parameter TimeLimit to value 100\n",
      "Set parameter TimeLimit to value 100\n",
      "Set parameter TimeLimit to value 100\n",
      "Set parameter TimeLimit to value 100\n",
      "Set parameter TimeLimit to value 100\n",
      "Set parameter TimeLimit to value 100\n",
      "Set parameter TimeLimit to value 100\n"
     ]
    },
    {
     "name": "stderr",
     "output_type": "stream",
     "text": [
      "\r",
      " 57%|##########################################2                               | 12/21 [11:44:07<10:20:59, 4139.97s/it]"
     ]
    },
    {
     "name": "stdout",
     "output_type": "stream",
     "text": [
      "Set parameter TimeLimit to value 100\n",
      "Set parameter TimeLimit to value 100\n",
      "Set parameter TimeLimit to value 100\n",
      "Set parameter TimeLimit to value 100\n",
      "Set parameter TimeLimit to value 100\n",
      "Set parameter TimeLimit to value 100\n",
      "Set parameter TimeLimit to value 100\n",
      "Set parameter TimeLimit to value 100\n",
      "Set parameter TimeLimit to value 100\n",
      "Set parameter TimeLimit to value 100\n",
      "Set parameter TimeLimit to value 100\n",
      "Set parameter TimeLimit to value 100\n",
      "Set parameter TimeLimit to value 100\n",
      "Set parameter TimeLimit to value 100\n",
      "Set parameter TimeLimit to value 100\n",
      "Set parameter TimeLimit to value 100\n",
      "Set parameter TimeLimit to value 100\n",
      "Set parameter TimeLimit to value 100\n",
      "Set parameter TimeLimit to value 100\n",
      "Set parameter TimeLimit to value 100\n"
     ]
    },
    {
     "name": "stderr",
     "output_type": "stream",
     "text": [
      "\r",
      " 62%|#############################################8                            | 13/21 [13:16:37<10:08:57, 4567.16s/it]"
     ]
    },
    {
     "name": "stdout",
     "output_type": "stream",
     "text": [
      "Set parameter TimeLimit to value 100\n",
      "Set parameter TimeLimit to value 100\n",
      "Set parameter TimeLimit to value 100\n",
      "Set parameter TimeLimit to value 100\n",
      "Set parameter TimeLimit to value 100\n",
      "Set parameter TimeLimit to value 100\n",
      "Set parameter TimeLimit to value 100\n",
      "Set parameter TimeLimit to value 100\n",
      "Set parameter TimeLimit to value 100\n",
      "Set parameter TimeLimit to value 100\n",
      "Set parameter TimeLimit to value 100\n",
      "Set parameter TimeLimit to value 100\n",
      "Set parameter TimeLimit to value 100\n",
      "Set parameter TimeLimit to value 100\n",
      "Set parameter TimeLimit to value 100\n",
      "Set parameter TimeLimit to value 100\n",
      "Set parameter TimeLimit to value 100\n",
      "Set parameter TimeLimit to value 100\n",
      "Set parameter TimeLimit to value 100\n",
      "Set parameter TimeLimit to value 100\n"
     ]
    },
    {
     "name": "stderr",
     "output_type": "stream",
     "text": [
      "\r",
      " 67%|##################################################                         | 14/21 [14:51:04<9:31:34, 4899.28s/it]"
     ]
    },
    {
     "name": "stdout",
     "output_type": "stream",
     "text": [
      "Set parameter TimeLimit to value 100\n",
      "Set parameter TimeLimit to value 100\n",
      "Set parameter TimeLimit to value 100\n",
      "Set parameter TimeLimit to value 100\n",
      "Set parameter TimeLimit to value 100\n",
      "Set parameter TimeLimit to value 100\n",
      "Set parameter TimeLimit to value 100\n",
      "Set parameter TimeLimit to value 100\n",
      "Set parameter TimeLimit to value 100\n",
      "Set parameter TimeLimit to value 100\n",
      "Set parameter TimeLimit to value 100\n",
      "Set parameter TimeLimit to value 100\n",
      "Set parameter TimeLimit to value 100\n",
      "Set parameter TimeLimit to value 100\n",
      "Set parameter TimeLimit to value 100\n",
      "Set parameter TimeLimit to value 100\n",
      "Set parameter TimeLimit to value 100\n",
      "Set parameter TimeLimit to value 100\n",
      "Set parameter TimeLimit to value 100\n",
      "Set parameter TimeLimit to value 100\n"
     ]
    },
    {
     "name": "stderr",
     "output_type": "stream",
     "text": [
      "\r",
      " 71%|#####################################################5                     | 15/21 [16:30:11<8:41:32, 5215.34s/it]"
     ]
    },
    {
     "name": "stdout",
     "output_type": "stream",
     "text": [
      "Set parameter TimeLimit to value 100\n",
      "Set parameter TimeLimit to value 100\n",
      "Set parameter TimeLimit to value 100\n",
      "Set parameter TimeLimit to value 100\n",
      "Set parameter TimeLimit to value 100\n",
      "Set parameter TimeLimit to value 100\n",
      "Set parameter TimeLimit to value 100\n",
      "Set parameter TimeLimit to value 100\n",
      "Set parameter TimeLimit to value 100\n",
      "Set parameter TimeLimit to value 100\n",
      "Set parameter TimeLimit to value 100\n",
      "Set parameter TimeLimit to value 100\n",
      "Set parameter TimeLimit to value 100\n",
      "Set parameter TimeLimit to value 100\n",
      "Set parameter TimeLimit to value 100\n",
      "Set parameter TimeLimit to value 100\n",
      "Set parameter TimeLimit to value 100\n",
      "Set parameter TimeLimit to value 100\n",
      "Set parameter TimeLimit to value 100\n",
      "Set parameter TimeLimit to value 100\n"
     ]
    },
    {
     "name": "stderr",
     "output_type": "stream",
     "text": [
      "\r",
      " 76%|#######################################################6                 | 16/21 [22:53:38<14:40:52, 10570.51s/it]"
     ]
    },
    {
     "name": "stdout",
     "output_type": "stream",
     "text": [
      "Set parameter TimeLimit to value 100\n",
      "Set parameter TimeLimit to value 100\n",
      "Set parameter TimeLimit to value 100\n",
      "Set parameter TimeLimit to value 100\n",
      "Set parameter TimeLimit to value 100\n",
      "Set parameter TimeLimit to value 100\n",
      "Set parameter TimeLimit to value 100\n",
      "Set parameter TimeLimit to value 100\n",
      "Set parameter TimeLimit to value 100\n",
      "Set parameter TimeLimit to value 100\n",
      "Set parameter TimeLimit to value 100\n",
      "Set parameter TimeLimit to value 100\n",
      "Set parameter TimeLimit to value 100\n",
      "Set parameter TimeLimit to value 100\n",
      "Set parameter TimeLimit to value 100\n",
      "Set parameter TimeLimit to value 100\n",
      "Set parameter TimeLimit to value 100\n",
      "Set parameter TimeLimit to value 100\n",
      "Set parameter TimeLimit to value 100\n",
      "Set parameter TimeLimit to value 100\n"
     ]
    },
    {
     "name": "stderr",
     "output_type": "stream",
     "text": [
      "\r",
      " 81%|###########################################################9              | 17/21 [25:01:37<10:46:44, 9701.13s/it]"
     ]
    },
    {
     "name": "stdout",
     "output_type": "stream",
     "text": [
      "Set parameter TimeLimit to value 100\n",
      "Set parameter TimeLimit to value 100\n",
      "Set parameter TimeLimit to value 100\n",
      "Set parameter TimeLimit to value 100\n",
      "Set parameter TimeLimit to value 100\n",
      "Set parameter TimeLimit to value 100\n",
      "Set parameter TimeLimit to value 100\n",
      "Set parameter TimeLimit to value 100\n",
      "Set parameter TimeLimit to value 100\n",
      "Set parameter TimeLimit to value 100\n",
      "Set parameter TimeLimit to value 100\n",
      "Set parameter TimeLimit to value 100\n",
      "Set parameter TimeLimit to value 100\n",
      "Set parameter TimeLimit to value 100\n",
      "Set parameter TimeLimit to value 100\n",
      "Set parameter TimeLimit to value 100\n",
      "Set parameter TimeLimit to value 100\n",
      "Set parameter TimeLimit to value 100\n",
      "Set parameter TimeLimit to value 100\n",
      "Set parameter TimeLimit to value 100\n"
     ]
    },
    {
     "name": "stderr",
     "output_type": "stream",
     "text": [
      "\r",
      " 86%|################################################################2          | 18/21 [27:08:22<7:33:33, 9071.26s/it]"
     ]
    },
    {
     "name": "stdout",
     "output_type": "stream",
     "text": [
      "Set parameter TimeLimit to value 100\n",
      "Set parameter TimeLimit to value 100\n",
      "Set parameter TimeLimit to value 100\n",
      "Set parameter TimeLimit to value 100\n",
      "Set parameter TimeLimit to value 100\n",
      "Set parameter TimeLimit to value 100\n",
      "Set parameter TimeLimit to value 100\n",
      "Set parameter TimeLimit to value 100\n",
      "Set parameter TimeLimit to value 100\n",
      "Set parameter TimeLimit to value 100\n",
      "Set parameter TimeLimit to value 100\n",
      "Set parameter TimeLimit to value 100\n",
      "Set parameter TimeLimit to value 100\n",
      "Set parameter TimeLimit to value 100\n",
      "Set parameter TimeLimit to value 100\n",
      "Set parameter TimeLimit to value 100\n",
      "Set parameter TimeLimit to value 100\n",
      "Set parameter TimeLimit to value 100\n",
      "Set parameter TimeLimit to value 100\n",
      "Set parameter TimeLimit to value 100\n"
     ]
    },
    {
     "name": "stderr",
     "output_type": "stream",
     "text": [
      "\r",
      " 90%|###################################################################8       | 19/21 [29:46:40<5:06:38, 9199.24s/it]"
     ]
    },
    {
     "name": "stdout",
     "output_type": "stream",
     "text": [
      "Set parameter TimeLimit to value 100\n",
      "Set parameter TimeLimit to value 100\n",
      "Set parameter TimeLimit to value 100\n",
      "Set parameter TimeLimit to value 100\n",
      "Set parameter TimeLimit to value 100\n",
      "Set parameter TimeLimit to value 100\n",
      "Set parameter TimeLimit to value 100\n",
      "Set parameter TimeLimit to value 100\n",
      "Set parameter TimeLimit to value 100\n",
      "Set parameter TimeLimit to value 100\n",
      "Set parameter TimeLimit to value 100\n",
      "Set parameter TimeLimit to value 100\n",
      "Set parameter TimeLimit to value 100\n",
      "Set parameter TimeLimit to value 100\n",
      "Set parameter TimeLimit to value 100\n",
      "Set parameter TimeLimit to value 100\n",
      "Set parameter TimeLimit to value 100\n",
      "Set parameter TimeLimit to value 100\n",
      "Set parameter TimeLimit to value 100\n",
      "Set parameter TimeLimit to value 100\n"
     ]
    },
    {
     "name": "stderr",
     "output_type": "stream",
     "text": [
      "\r",
      " 95%|#######################################################################4   | 20/21 [32:19:30<2:33:10, 9190.53s/it]"
     ]
    },
    {
     "name": "stdout",
     "output_type": "stream",
     "text": [
      "Set parameter TimeLimit to value 100\n",
      "Set parameter TimeLimit to value 100\n",
      "Set parameter TimeLimit to value 100\n",
      "Set parameter TimeLimit to value 100\n",
      "Set parameter TimeLimit to value 100\n",
      "Set parameter TimeLimit to value 100\n",
      "Set parameter TimeLimit to value 100\n",
      "Set parameter TimeLimit to value 100\n",
      "Set parameter TimeLimit to value 100\n",
      "Set parameter TimeLimit to value 100\n",
      "Set parameter TimeLimit to value 100\n",
      "Set parameter TimeLimit to value 100\n",
      "Set parameter TimeLimit to value 100\n",
      "Set parameter TimeLimit to value 100\n",
      "Set parameter TimeLimit to value 100\n",
      "Set parameter TimeLimit to value 100\n",
      "Set parameter TimeLimit to value 100\n",
      "Set parameter TimeLimit to value 100\n",
      "Set parameter TimeLimit to value 100\n",
      "Set parameter TimeLimit to value 100\n"
     ]
    },
    {
     "name": "stderr",
     "output_type": "stream",
     "text": [
      "100%|#############################################################################| 21/21 [34:59:44<00:00, 5999.24s/it]\n"
     ]
    }
   ],
   "source": [
    "for i in tqdm(range(len(list_order))):\n",
    "    for _ in range(10):\n",
    "        try:\n",
    "            s= Problem_MIP(number_of_order=list_order[i], number_of_sku=list_item[i], number_of_unique_sku=list_uitem[i], number_of_batch=list_batch[i])\n",
    "            s.form_data()\n",
    "            #Exact\n",
    "\n",
    "            #Appro\n",
    "            PA_obj,PA_gap=s.Pattern_Appro(100)\n",
    "            PA_obj_Sshape=s.Obj_Matrix_Sshape(s.Pattern_Appro_matrix)\n",
    "\n",
    "            list_PA_obj_Sshape.append(PA_obj_Sshape)\n",
    "            #Approweak\n",
    "            PA_weak_obj,PA_weak_gap=s.Pattern_Appro_Weak(100)\n",
    "            PA_weak_obj_Sshape=s.Obj_Matrix_Sshape(s.Pattern_Appro_Weak_matrix)\n",
    "\n",
    "            list_PA_weak_obj_Sshape.append(PA_weak_obj_Sshape)\n",
    "            #Appro+ILS\n",
    "            PA_ils_Sshape_m,PA_ils_Sshape_obj,PA_ils_Sshape_time=Sshape_iterated_local_search(s,s.Pattern_Appro_matrix,PA_obj_Sshape,1000,100,0.005)\n",
    "\n",
    "            list_PA_ils_Sshape_obj.append(PA_ils_Sshape_obj)\n",
    "            list_PA_ils_Sshape_time.append(PA_ils_Sshape_time)\n",
    "            #ILS\n",
    "            ils_m=Random_Sample_operator(s)\n",
    "            ils_Sshape_obj=s.Obj_Matrix_Sshape(ils_m)\n",
    "            ils_Sshape_m,ils_Sshape_obj,ils_Sshape_time=Sshape_iterated_local_search(s,ils_m,ils_Sshape_obj,1000,100,0.005)\n",
    "\n",
    "            list_ils_Sshape_obj.append(ils_Sshape_obj)\n",
    "            list_ils_Sshape_time.append(ils_Sshape_time)\n",
    "            #Seed_save\n",
    "            seed_save_Sshape_m,seed_save_Sshape_obj,seed_save_Sshape_time=Sshape_Seed_Heuristic_Solver(s)\n",
    "\n",
    "            list_seed_save_Sshape_obj.append(seed_save_Sshape_obj)\n",
    "            list_seed_save_Sshape_time.append(seed_save_Sshape_time)\n",
    "            #CWI\n",
    "            cwi_Sshape_m,cwi_Sshape_obj,cwi_Sshape_time=Sshape_CWI_Heuristic_Solver(s)\n",
    "            list_cwi_Sshape_obj.append(cwi_Sshape_obj)\n",
    "            list_cwi_Sshape_time.append(cwi_Sshape_time)\n",
    "            #CWII\n",
    "            cwii_Sshape_m,cwii_Sshape_obj,cwii_Sshape_time=Sshape_CWII_Heuristic_Solver(s)\n",
    "            list_cwii_Sshape_obj.append(cwii_Sshape_obj)\n",
    "            list_cwii_Sshape_time.append(cwii_Sshape_time)\n",
    "        except:\n",
    "            pass\n",
    "    result_Sshape[0].append(np.mean(list_PA_obj_Sshape))\n",
    "    result_Sshape[1].append(np.mean(list_PA_weak_obj_Sshape))\n",
    "    result_Sshape[2].append(np.mean(list_PA_ils_Sshape_obj))\n",
    "    result_Sshape[3].append(np.mean(list_PA_ils_Sshape_time))\n",
    "    result_Sshape[4].append(np.mean(list_ils_Sshape_obj))\n",
    "    result_Sshape[5].append(np.mean(list_ils_Sshape_time))\n",
    "    result_Sshape[6].append(np.mean(list_seed_save_Sshape_obj))\n",
    "    result_Sshape[7].append(np.mean(list_seed_save_Sshape_time))\n",
    "    result_Sshape[8].append(np.mean(list_cwi_Sshape_obj))\n",
    "    result_Sshape[9].append(np.mean(list_cwi_Sshape_time))\n",
    "    result_Sshape[10].append(np.mean(list_cwii_Sshape_obj))\n",
    "    result_Sshape[11].append(np.mean(list_cwii_Sshape_time))\n"
   ]
  },
  {
   "cell_type": "code",
   "execution_count": 9,
   "id": "c5835fd8",
   "metadata": {},
   "outputs": [],
   "source": [
    "c_Sshape={\n",
    "          'PA_obj_Sshape' : result_Sshape[0],\n",
    "          'PA_weak_obj_Sshape' : result_Sshape[1],\n",
    "          'PA+ils_Sshape_obj':result_Sshape[2],\n",
    "          'PA+ils_Sshape_time':result_Sshape[3],\n",
    "          'ils_Sshape':result_Sshape[4],\n",
    "          'ils_Sshape_time':result_Sshape[5],\n",
    "          'Seed_save_Sshape_obj':result_Sshape[6],\n",
    "          'Seed_save_Sshape_time':result_Sshape[7],\n",
    "          'CWI_Sshape_obj':result_Sshape[8],\n",
    "          'CWI_Sshape_time':result_Sshape[9],\n",
    "          'CWII_Sshape_obj':result_Sshape[10],\n",
    "          'CWII_Sshape_time':result_Sshape[11]\n",
    "#           'Seed_Sshape_obj':result_Sshape[14],\n",
    "#           'Seed_Sshape_time':result_Sshape[15]\n",
    "         }\n",
    "data_Sshape=data= pd.DataFrame(c_Sshape)\n"
   ]
  },
  {
   "cell_type": "code",
   "execution_count": 10,
   "id": "d1c13b20",
   "metadata": {},
   "outputs": [],
   "source": [
    "data_Sshape.to_excel('Sshape_exp1.xlsx')"
   ]
  },
  {
   "cell_type": "code",
   "execution_count": 10,
   "id": "40a8e0e0",
   "metadata": {},
   "outputs": [],
   "source": [
    "result_Return[0].append(np.mean(list_PA_obj_Return))\n",
    "result_Return[1].append(np.mean(list_PA_weak_obj_Return))\n",
    "result_Return[2].append(np.mean(list_PA_ils_Return_obj))\n",
    "result_Return[3].append(np.mean(list_PA_ils_Return_time))\n",
    "result_Return[4].append(np.mean(list_ils_Return_obj))\n",
    "result_Return[5].append(np.mean(list_ils_Return_time))\n",
    "result_Return[6].append(np.mean(list_seed_save_Return_obj))\n",
    "result_Return[7].append(np.mean(list_seed_save_Return_time))\n",
    "result_Return[8].append(np.mean(list_cwi_Return_obj))\n",
    "result_Return[9].append(np.mean(list_cwi_Return_time))\n",
    "result_Return[10].append(np.mean(list_cwii_Return_obj))\n",
    "result_Return[11].append(np.mean(list_cwii_Return_time))"
   ]
  },
  {
   "cell_type": "code",
   "execution_count": 23,
   "id": "130b072c",
   "metadata": {},
   "outputs": [
    {
     "data": {
      "text/plain": [
       "[[6628.0],\n",
       " [6982.2],\n",
       " [6623.2],\n",
       " [1.8873164653778076],\n",
       " [8138.799999999999],\n",
       " [10.233477354049683],\n",
       " [10771.0],\n",
       " [16.140809059143066],\n",
       " [9278.0],\n",
       " [68.60341811180115],\n",
       " [7484.0],\n",
       " [144.18893814086914]]"
      ]
     },
     "execution_count": 21,
     "metadata": {},
     "output_type": "execute_result"
    }
   ],
   "source": [
    "result_Sshape"
   ]
  },
  {
   "cell_type": "code",
   "execution_count": 7,
   "id": "4798698e",
   "metadata": {},
   "outputs": [],
   "source": [
    "R_para=[ 6.87611595,  8.23752014,  0.        ,  8.84902976,  8.09508416,\n",
    "        6.88629601,  8.40841958,  9.31021878,  7.82528008,  9.42007888,\n",
    "        9.77508254,  7.38141752,  8.85135889, 11.63124574,  4.15494103,\n",
    "        5.23319926,  4.9347513 ,  7.41728209,  7.48980566,  6.14238723,\n",
    "        8.94889281,  6.69146907,  8.02302326,  7.21090048,  7.55682764,\n",
    "        8.44120695,  7.32679665,  2.97962715,  4.98103936,  4.19509177,\n",
    "        4.60915659,  3.54452842,  5.34542199,  4.09351197,  3.01321222,\n",
    "        2.8175223 ,  4.82376894,  3.82683247,  3.74616063,  4.57014523,\n",
    "        2.4696889 ,  4.84178789,  3.2791909 ,  5.99374602,  5.52049358,\n",
    "        3.57229439,  2.74964002,  0.        ]"
   ]
  },
  {
   "cell_type": "code",
   "execution_count": 8,
   "id": "e590e32e",
   "metadata": {},
   "outputs": [],
   "source": [
    "S_para=[33.44704302,  8.15614378,  0.        ,  9.53079304,  9.55689666,\n",
    "        9.76665863,  9.58183911,  9.70697779,  9.68313751,  9.48681817,\n",
    "        9.47335672,  9.59483272,  9.70891243,  9.8186641 ,  4.03431572,\n",
    "        4.00707382,  8.33806681,  8.24797558,  8.3874587 ,  8.54249424,\n",
    "        8.35190427,  8.4403111 ,  8.36883447,  8.62167696,  8.49184806,\n",
    "        8.23637611,  8.23219079,  3.14008352,  4.85251063,  4.72463477,\n",
    "        4.21373343,  5.02984386,  4.65586459,  4.95355888,  4.30144884,\n",
    "        4.94478987,  4.92840565,  4.16460223,  4.15788234,  4.67209072,\n",
    "        4.94598831,  4.58625497,  3.94456734,  4.66315108,  4.75931291,\n",
    "        4.24663965,  2.86723143,  0.        ]"
   ]
  },
  {
   "cell_type": "code",
   "execution_count": 6,
   "id": "02860a24",
   "metadata": {},
   "outputs": [
    {
     "name": "stderr",
     "output_type": "stream",
     "text": [
      "\r",
      "  0%|                                                                                           | 0/21 [00:00<?, ?it/s]"
     ]
    },
    {
     "name": "stdout",
     "output_type": "stream",
     "text": [
      "Set parameter Username\n",
      "Academic license - for non-commercial use only - expires 2022-07-29\n",
      "Set parameter TimeLimit to value 100\n",
      "Set parameter TimeLimit to value 100\n",
      "Set parameter TimeLimit to value 100\n",
      "Set parameter TimeLimit to value 100\n",
      "Set parameter TimeLimit to value 100\n",
      "Set parameter TimeLimit to value 100\n",
      "Set parameter TimeLimit to value 100\n",
      "Set parameter TimeLimit to value 100\n",
      "Set parameter TimeLimit to value 100\n",
      "Set parameter TimeLimit to value 100\n"
     ]
    },
    {
     "name": "stderr",
     "output_type": "stream",
     "text": [
      "\r",
      "  5%|###7                                                                           | 1/21 [18:26<6:08:51, 1106.59s/it]"
     ]
    },
    {
     "name": "stdout",
     "output_type": "stream",
     "text": [
      "Set parameter TimeLimit to value 100\n",
      "Set parameter TimeLimit to value 100\n",
      "Set parameter TimeLimit to value 100\n",
      "Set parameter TimeLimit to value 100\n",
      "Set parameter TimeLimit to value 100\n",
      "Set parameter TimeLimit to value 100\n",
      "Set parameter TimeLimit to value 100\n",
      "Set parameter TimeLimit to value 100\n",
      "Set parameter TimeLimit to value 100\n",
      "Set parameter TimeLimit to value 100\n"
     ]
    },
    {
     "name": "stderr",
     "output_type": "stream",
     "text": [
      "\r",
      " 10%|#######5                                                                       | 2/21 [36:53<5:50:30, 1106.85s/it]"
     ]
    },
    {
     "name": "stdout",
     "output_type": "stream",
     "text": [
      "Set parameter TimeLimit to value 100\n",
      "Set parameter TimeLimit to value 100\n",
      "Set parameter TimeLimit to value 100\n",
      "Set parameter TimeLimit to value 100\n",
      "Set parameter TimeLimit to value 100\n",
      "Set parameter TimeLimit to value 100\n",
      "Set parameter TimeLimit to value 100\n",
      "Set parameter TimeLimit to value 100\n",
      "Set parameter TimeLimit to value 100\n",
      "Set parameter TimeLimit to value 100\n"
     ]
    },
    {
     "name": "stderr",
     "output_type": "stream",
     "text": [
      "\r",
      " 14%|###########2                                                                   | 3/21 [55:30<5:33:22, 1111.26s/it]"
     ]
    },
    {
     "name": "stdout",
     "output_type": "stream",
     "text": [
      "Set parameter TimeLimit to value 100\n",
      "Set parameter TimeLimit to value 100\n",
      "Set parameter TimeLimit to value 100\n",
      "Set parameter TimeLimit to value 100\n",
      "Set parameter TimeLimit to value 100\n",
      "Set parameter TimeLimit to value 100\n",
      "Set parameter TimeLimit to value 100\n",
      "Set parameter TimeLimit to value 100\n",
      "Set parameter TimeLimit to value 100\n",
      "Set parameter TimeLimit to value 100\n"
     ]
    },
    {
     "name": "stderr",
     "output_type": "stream",
     "text": [
      "\r",
      " 19%|##############6                                                              | 4/21 [1:15:27<5:24:31, 1145.38s/it]"
     ]
    },
    {
     "name": "stdout",
     "output_type": "stream",
     "text": [
      "Set parameter TimeLimit to value 100\n",
      "Set parameter TimeLimit to value 100\n",
      "Set parameter TimeLimit to value 100\n",
      "Set parameter TimeLimit to value 100\n",
      "Set parameter TimeLimit to value 100\n",
      "Set parameter TimeLimit to value 100\n",
      "Set parameter TimeLimit to value 100\n",
      "Set parameter TimeLimit to value 100\n",
      "Set parameter TimeLimit to value 100\n",
      "Set parameter TimeLimit to value 100\n"
     ]
    },
    {
     "name": "stderr",
     "output_type": "stream",
     "text": [
      "\r",
      " 24%|##################3                                                          | 5/21 [1:35:25<5:10:26, 1164.13s/it]"
     ]
    },
    {
     "name": "stdout",
     "output_type": "stream",
     "text": [
      "Set parameter TimeLimit to value 100\n",
      "Set parameter TimeLimit to value 100\n",
      "Set parameter TimeLimit to value 100\n",
      "Set parameter TimeLimit to value 100\n",
      "Set parameter TimeLimit to value 100\n",
      "Set parameter TimeLimit to value 100\n",
      "Set parameter TimeLimit to value 100\n",
      "Set parameter TimeLimit to value 100\n",
      "Set parameter TimeLimit to value 100\n",
      "Set parameter TimeLimit to value 100\n"
     ]
    },
    {
     "name": "stderr",
     "output_type": "stream",
     "text": [
      "\r",
      " 29%|######################                                                       | 6/21 [1:55:32<4:54:40, 1178.72s/it]"
     ]
    },
    {
     "name": "stdout",
     "output_type": "stream",
     "text": [
      "Set parameter TimeLimit to value 100\n",
      "Set parameter TimeLimit to value 100\n",
      "Set parameter TimeLimit to value 100\n",
      "Set parameter TimeLimit to value 100\n",
      "Set parameter TimeLimit to value 100\n",
      "Set parameter TimeLimit to value 100\n",
      "Set parameter TimeLimit to value 100\n",
      "Set parameter TimeLimit to value 100\n",
      "Set parameter TimeLimit to value 100\n",
      "Set parameter TimeLimit to value 100\n"
     ]
    },
    {
     "name": "stderr",
     "output_type": "stream",
     "text": [
      "\r",
      " 33%|#########################6                                                   | 7/21 [2:17:21<4:45:01, 1221.52s/it]"
     ]
    },
    {
     "name": "stdout",
     "output_type": "stream",
     "text": [
      "Set parameter TimeLimit to value 100\n",
      "Set parameter TimeLimit to value 100\n",
      "Set parameter TimeLimit to value 100\n",
      "Set parameter TimeLimit to value 100\n",
      "Set parameter TimeLimit to value 100\n",
      "Set parameter TimeLimit to value 100\n",
      "Set parameter TimeLimit to value 100\n",
      "Set parameter TimeLimit to value 100\n",
      "Set parameter TimeLimit to value 100\n",
      "Set parameter TimeLimit to value 100\n"
     ]
    },
    {
     "name": "stderr",
     "output_type": "stream",
     "text": [
      "\r",
      " 38%|#############################3                                               | 8/21 [2:39:15<4:30:59, 1250.74s/it]"
     ]
    },
    {
     "name": "stdout",
     "output_type": "stream",
     "text": [
      "Set parameter TimeLimit to value 100\n",
      "Set parameter TimeLimit to value 100\n",
      "Set parameter TimeLimit to value 100\n",
      "Set parameter TimeLimit to value 100\n",
      "Set parameter TimeLimit to value 100\n",
      "Set parameter TimeLimit to value 100\n",
      "Set parameter TimeLimit to value 100\n",
      "Set parameter TimeLimit to value 100\n",
      "Set parameter TimeLimit to value 100\n",
      "Set parameter TimeLimit to value 100\n"
     ]
    },
    {
     "name": "stderr",
     "output_type": "stream",
     "text": [
      "\r",
      " 43%|#################################                                            | 9/21 [3:01:23<4:15:01, 1275.09s/it]"
     ]
    },
    {
     "name": "stdout",
     "output_type": "stream",
     "text": [
      "Set parameter TimeLimit to value 100\n",
      "Set parameter TimeLimit to value 100\n",
      "Set parameter TimeLimit to value 100\n",
      "Set parameter TimeLimit to value 100\n",
      "Set parameter TimeLimit to value 100\n",
      "Set parameter TimeLimit to value 100\n",
      "Set parameter TimeLimit to value 100\n",
      "Set parameter TimeLimit to value 100\n",
      "Set parameter TimeLimit to value 100\n",
      "Set parameter TimeLimit to value 100\n"
     ]
    },
    {
     "name": "stderr",
     "output_type": "stream",
     "text": [
      "\r",
      " 48%|####################################1                                       | 10/21 [3:25:50<4:04:37, 1334.29s/it]"
     ]
    },
    {
     "name": "stdout",
     "output_type": "stream",
     "text": [
      "Set parameter TimeLimit to value 100\n",
      "Set parameter TimeLimit to value 100\n",
      "Set parameter TimeLimit to value 100\n",
      "Set parameter TimeLimit to value 100\n",
      "Set parameter TimeLimit to value 100\n",
      "Set parameter TimeLimit to value 100\n",
      "Set parameter TimeLimit to value 100\n",
      "Set parameter TimeLimit to value 100\n",
      "Set parameter TimeLimit to value 100\n",
      "Set parameter TimeLimit to value 100\n"
     ]
    },
    {
     "name": "stderr",
     "output_type": "stream",
     "text": [
      "\r",
      " 52%|#######################################8                                    | 11/21 [3:50:37<3:50:10, 1381.07s/it]"
     ]
    },
    {
     "name": "stdout",
     "output_type": "stream",
     "text": [
      "Set parameter TimeLimit to value 100\n",
      "Set parameter TimeLimit to value 100\n",
      "Set parameter TimeLimit to value 100\n",
      "Set parameter TimeLimit to value 100\n",
      "Set parameter TimeLimit to value 100\n",
      "Set parameter TimeLimit to value 100\n",
      "Set parameter TimeLimit to value 100\n",
      "Set parameter TimeLimit to value 100\n",
      "Set parameter TimeLimit to value 100\n",
      "Set parameter TimeLimit to value 100\n"
     ]
    },
    {
     "name": "stderr",
     "output_type": "stream",
     "text": [
      "\r",
      " 57%|###########################################4                                | 12/21 [4:15:29<3:32:13, 1414.83s/it]"
     ]
    },
    {
     "name": "stdout",
     "output_type": "stream",
     "text": [
      "Set parameter TimeLimit to value 100\n",
      "Set parameter TimeLimit to value 100\n",
      "Set parameter TimeLimit to value 100\n",
      "Set parameter TimeLimit to value 100\n",
      "Set parameter TimeLimit to value 100\n",
      "Set parameter TimeLimit to value 100\n",
      "Set parameter TimeLimit to value 100\n",
      "Set parameter TimeLimit to value 100\n",
      "Set parameter TimeLimit to value 100\n",
      "Set parameter TimeLimit to value 100\n"
     ]
    },
    {
     "name": "stderr",
     "output_type": "stream",
     "text": [
      "\r",
      " 62%|###############################################                             | 13/21 [4:43:33<3:19:29, 1496.20s/it]"
     ]
    },
    {
     "name": "stdout",
     "output_type": "stream",
     "text": [
      "Set parameter TimeLimit to value 100\n",
      "Set parameter TimeLimit to value 100\n",
      "Set parameter TimeLimit to value 100\n",
      "Set parameter TimeLimit to value 100\n",
      "Set parameter TimeLimit to value 100\n",
      "Set parameter TimeLimit to value 100\n",
      "Set parameter TimeLimit to value 100\n",
      "Set parameter TimeLimit to value 100\n",
      "Set parameter TimeLimit to value 100\n",
      "Set parameter TimeLimit to value 100\n"
     ]
    },
    {
     "name": "stderr",
     "output_type": "stream",
     "text": [
      "\r",
      " 67%|##################################################6                         | 14/21 [5:11:33<3:01:02, 1551.78s/it]"
     ]
    },
    {
     "name": "stdout",
     "output_type": "stream",
     "text": [
      "Set parameter TimeLimit to value 100\n",
      "Set parameter TimeLimit to value 100\n",
      "Set parameter TimeLimit to value 100\n",
      "Set parameter TimeLimit to value 100\n",
      "Set parameter TimeLimit to value 100\n",
      "Set parameter TimeLimit to value 100\n",
      "Set parameter TimeLimit to value 100\n",
      "Set parameter TimeLimit to value 100\n",
      "Set parameter TimeLimit to value 100\n",
      "Set parameter TimeLimit to value 100\n"
     ]
    },
    {
     "name": "stderr",
     "output_type": "stream",
     "text": [
      "\r",
      " 71%|######################################################2                     | 15/21 [5:39:54<2:39:41, 1596.91s/it]"
     ]
    },
    {
     "name": "stdout",
     "output_type": "stream",
     "text": [
      "Set parameter TimeLimit to value 100\n",
      "Set parameter TimeLimit to value 100\n",
      "Set parameter TimeLimit to value 100\n",
      "Set parameter TimeLimit to value 100\n",
      "Set parameter TimeLimit to value 100\n",
      "Set parameter TimeLimit to value 100\n",
      "Set parameter TimeLimit to value 100\n",
      "Set parameter TimeLimit to value 100\n",
      "Set parameter TimeLimit to value 100\n",
      "Set parameter TimeLimit to value 100\n"
     ]
    },
    {
     "name": "stderr",
     "output_type": "stream",
     "text": [
      "\r",
      " 76%|#########################################################9                  | 16/21 [6:12:46<2:22:27, 1709.59s/it]"
     ]
    },
    {
     "name": "stdout",
     "output_type": "stream",
     "text": [
      "Set parameter TimeLimit to value 100\n",
      "Set parameter TimeLimit to value 100\n",
      "Set parameter TimeLimit to value 100\n",
      "Set parameter TimeLimit to value 100\n",
      "Set parameter TimeLimit to value 100\n",
      "Set parameter TimeLimit to value 100\n",
      "Set parameter TimeLimit to value 100\n",
      "Set parameter TimeLimit to value 100\n",
      "Set parameter TimeLimit to value 100\n",
      "Set parameter TimeLimit to value 100\n"
     ]
    },
    {
     "name": "stderr",
     "output_type": "stream",
     "text": [
      "\r",
      " 81%|#############################################################5              | 17/21 [6:45:16<1:58:47, 1782.00s/it]"
     ]
    },
    {
     "name": "stdout",
     "output_type": "stream",
     "text": [
      "Set parameter TimeLimit to value 100\n",
      "Set parameter TimeLimit to value 100\n",
      "Set parameter TimeLimit to value 100\n",
      "Set parameter TimeLimit to value 100\n",
      "Set parameter TimeLimit to value 100\n",
      "Set parameter TimeLimit to value 100\n",
      "Set parameter TimeLimit to value 100\n",
      "Set parameter TimeLimit to value 100\n",
      "Set parameter TimeLimit to value 100\n",
      "Set parameter TimeLimit to value 100\n"
     ]
    },
    {
     "name": "stderr",
     "output_type": "stream",
     "text": [
      "\r",
      " 86%|#################################################################1          | 18/21 [7:18:24<1:32:11, 1843.79s/it]"
     ]
    },
    {
     "name": "stdout",
     "output_type": "stream",
     "text": [
      "Set parameter TimeLimit to value 100\n",
      "Set parameter TimeLimit to value 100\n",
      "Set parameter TimeLimit to value 100\n",
      "Set parameter TimeLimit to value 100\n",
      "Set parameter TimeLimit to value 100\n",
      "Set parameter TimeLimit to value 100\n",
      "Set parameter TimeLimit to value 100\n",
      "Set parameter TimeLimit to value 100\n",
      "Set parameter TimeLimit to value 100\n",
      "Set parameter TimeLimit to value 100\n"
     ]
    },
    {
     "name": "stderr",
     "output_type": "stream",
     "text": [
      "\r",
      " 90%|####################################################################7       | 19/21 [7:56:01<1:05:36, 1968.01s/it]"
     ]
    },
    {
     "name": "stdout",
     "output_type": "stream",
     "text": [
      "Set parameter TimeLimit to value 100\n",
      "Set parameter TimeLimit to value 100\n",
      "Set parameter TimeLimit to value 100\n",
      "Set parameter TimeLimit to value 100\n",
      "Set parameter TimeLimit to value 100\n",
      "Set parameter TimeLimit to value 100\n",
      "Set parameter TimeLimit to value 100\n",
      "Set parameter TimeLimit to value 100\n",
      "Set parameter TimeLimit to value 100\n",
      "Set parameter TimeLimit to value 100\n"
     ]
    },
    {
     "name": "stderr",
     "output_type": "stream",
     "text": [
      "\r",
      " 95%|##########################################################################2   | 20/21 [8:33:59<34:21, 2061.13s/it]"
     ]
    },
    {
     "name": "stdout",
     "output_type": "stream",
     "text": [
      "Set parameter TimeLimit to value 100\n",
      "Set parameter TimeLimit to value 100\n",
      "Set parameter TimeLimit to value 100\n",
      "Set parameter TimeLimit to value 100\n",
      "Set parameter TimeLimit to value 100\n",
      "Set parameter TimeLimit to value 100\n",
      "Set parameter TimeLimit to value 100\n",
      "Set parameter TimeLimit to value 100\n",
      "Set parameter TimeLimit to value 100\n",
      "Set parameter TimeLimit to value 100\n"
     ]
    },
    {
     "name": "stderr",
     "output_type": "stream",
     "text": [
      "100%|##############################################################################| 21/21 [9:12:56<00:00, 1579.84s/it]\n"
     ]
    }
   ],
   "source": [
    "for i in tqdm(range(len(list_order))):\n",
    "    for _ in range(10):\n",
    "        try:\n",
    "            s= Problem_MIP(number_of_order=list_order[i], number_of_sku=list_item[i], number_of_unique_sku=list_uitem[i], number_of_batch=list_batch[i])\n",
    "            s.form_data()\n",
    "            #Exact\n",
    "\n",
    "            #Appro\n",
    "            PA_obj,PA_gap=s.Pattern_Appro(100,s.mb)\n",
    "            PA_obj_Return=s.Obj_Matrix_Return(s.Pattern_Appro_matrix)\n",
    "\n",
    "            list_PA_obj_Return.append(PA_obj_Return)\n",
    "\n",
    "            #Appro+ILS\n",
    "            PA_ils_Return_m,PA_ils_Return_obj,PA_ils_Return_time=Return_EVP(s,s.Pattern_Appro_matrix,PA_obj_Return,2)\n",
    "\n",
    "            list_PA_ils_Return_obj.append(PA_ils_Return_obj)\n",
    "            list_PA_ils_Return_time.append(PA_ils_Return_time)\n",
    "            \n",
    "        except:\n",
    "            pass\n",
    "    result_Return[0].append(np.mean(list_PA_obj_Return))\n",
    "    result_Return[2].append(np.mean(list_PA_ils_Return_obj))\n",
    "    result_Return[3].append(np.mean(list_PA_ils_Return_time))\n",
    "    "
   ]
  },
  {
   "cell_type": "code",
   "execution_count": 11,
   "id": "80def7ee",
   "metadata": {},
   "outputs": [
    {
     "name": "stderr",
     "output_type": "stream",
     "text": [
      "\r",
      "  0%|                                                                                           | 0/21 [00:00<?, ?it/s]"
     ]
    },
    {
     "name": "stdout",
     "output_type": "stream",
     "text": [
      "Set parameter TimeLimit to value 100\n",
      "Set parameter TimeLimit to value 100\n",
      "Set parameter TimeLimit to value 100\n",
      "Set parameter TimeLimit to value 100\n",
      "Set parameter TimeLimit to value 100\n",
      "Set parameter TimeLimit to value 100\n",
      "Set parameter TimeLimit to value 100\n",
      "Set parameter TimeLimit to value 100\n",
      "Set parameter TimeLimit to value 100\n",
      "Set parameter TimeLimit to value 100\n"
     ]
    },
    {
     "name": "stderr",
     "output_type": "stream",
     "text": [
      "\r",
      "  5%|###7                                                                           | 1/21 [17:05<5:41:53, 1025.68s/it]"
     ]
    },
    {
     "name": "stdout",
     "output_type": "stream",
     "text": [
      "Set parameter TimeLimit to value 100\n",
      "Set parameter TimeLimit to value 100\n",
      "Set parameter TimeLimit to value 100\n",
      "Set parameter TimeLimit to value 100\n",
      "Set parameter TimeLimit to value 100\n",
      "Set parameter TimeLimit to value 100\n",
      "Set parameter TimeLimit to value 100\n",
      "Set parameter TimeLimit to value 100\n",
      "Set parameter TimeLimit to value 100\n",
      "Set parameter TimeLimit to value 100\n"
     ]
    },
    {
     "name": "stderr",
     "output_type": "stream",
     "text": [
      "\r",
      " 10%|#######5                                                                       | 2/21 [34:18<5:26:13, 1030.17s/it]"
     ]
    },
    {
     "name": "stdout",
     "output_type": "stream",
     "text": [
      "Set parameter TimeLimit to value 100\n",
      "Set parameter TimeLimit to value 100\n",
      "Set parameter TimeLimit to value 100\n",
      "Set parameter TimeLimit to value 100\n",
      "Set parameter TimeLimit to value 100\n",
      "Set parameter TimeLimit to value 100\n",
      "Set parameter TimeLimit to value 100\n",
      "Set parameter TimeLimit to value 100\n",
      "Set parameter TimeLimit to value 100\n",
      "Set parameter TimeLimit to value 100\n"
     ]
    },
    {
     "name": "stderr",
     "output_type": "stream",
     "text": [
      "\r",
      " 14%|###########2                                                                   | 3/21 [51:28<5:08:53, 1029.65s/it]"
     ]
    },
    {
     "name": "stdout",
     "output_type": "stream",
     "text": [
      "Set parameter TimeLimit to value 100\n",
      "Set parameter TimeLimit to value 100\n",
      "Set parameter TimeLimit to value 100\n",
      "Set parameter TimeLimit to value 100\n",
      "Set parameter TimeLimit to value 100\n",
      "Set parameter TimeLimit to value 100\n",
      "Set parameter TimeLimit to value 100\n",
      "Set parameter TimeLimit to value 100\n",
      "Set parameter TimeLimit to value 100\n",
      "Set parameter TimeLimit to value 100\n"
     ]
    },
    {
     "name": "stderr",
     "output_type": "stream",
     "text": [
      "\r",
      " 19%|##############6                                                              | 4/21 [1:08:38<4:51:51, 1030.10s/it]"
     ]
    },
    {
     "name": "stdout",
     "output_type": "stream",
     "text": [
      "Set parameter TimeLimit to value 100\n",
      "Set parameter TimeLimit to value 100\n",
      "Set parameter TimeLimit to value 100\n",
      "Set parameter TimeLimit to value 100\n",
      "Set parameter TimeLimit to value 100\n",
      "Set parameter TimeLimit to value 100\n",
      "Set parameter TimeLimit to value 100\n",
      "Set parameter TimeLimit to value 100\n",
      "Set parameter TimeLimit to value 100\n",
      "Set parameter TimeLimit to value 100\n"
     ]
    },
    {
     "name": "stderr",
     "output_type": "stream",
     "text": [
      "\r",
      " 24%|##################3                                                          | 5/21 [1:25:48<4:34:39, 1029.94s/it]"
     ]
    },
    {
     "name": "stdout",
     "output_type": "stream",
     "text": [
      "Set parameter TimeLimit to value 100\n",
      "Set parameter TimeLimit to value 100\n",
      "Set parameter TimeLimit to value 100\n",
      "Set parameter TimeLimit to value 100\n",
      "Set parameter TimeLimit to value 100\n",
      "Set parameter TimeLimit to value 100\n",
      "Set parameter TimeLimit to value 100\n",
      "Set parameter TimeLimit to value 100\n",
      "Set parameter TimeLimit to value 100\n",
      "Set parameter TimeLimit to value 100\n"
     ]
    },
    {
     "name": "stderr",
     "output_type": "stream",
     "text": [
      "\r",
      " 29%|######################                                                       | 6/21 [1:43:04<4:17:59, 1031.97s/it]"
     ]
    },
    {
     "name": "stdout",
     "output_type": "stream",
     "text": [
      "Set parameter TimeLimit to value 100\n",
      "Set parameter TimeLimit to value 100\n",
      "Set parameter TimeLimit to value 100\n",
      "Set parameter TimeLimit to value 100\n",
      "Set parameter TimeLimit to value 100\n",
      "Set parameter TimeLimit to value 100\n",
      "Set parameter TimeLimit to value 100\n",
      "Set parameter TimeLimit to value 100\n",
      "Set parameter TimeLimit to value 100\n",
      "Set parameter TimeLimit to value 100\n"
     ]
    },
    {
     "name": "stderr",
     "output_type": "stream",
     "text": [
      "\r",
      " 33%|#########################6                                                   | 7/21 [2:00:24<4:01:25, 1034.65s/it]"
     ]
    },
    {
     "name": "stdout",
     "output_type": "stream",
     "text": [
      "Set parameter TimeLimit to value 100\n",
      "Set parameter TimeLimit to value 100\n",
      "Set parameter TimeLimit to value 100\n",
      "Set parameter TimeLimit to value 100\n",
      "Set parameter TimeLimit to value 100\n",
      "Set parameter TimeLimit to value 100\n",
      "Set parameter TimeLimit to value 100\n",
      "Set parameter TimeLimit to value 100\n",
      "Set parameter TimeLimit to value 100\n",
      "Set parameter TimeLimit to value 100\n"
     ]
    },
    {
     "name": "stderr",
     "output_type": "stream",
     "text": [
      "\r",
      " 38%|#############################3                                               | 8/21 [2:17:47<3:44:45, 1037.36s/it]"
     ]
    },
    {
     "name": "stdout",
     "output_type": "stream",
     "text": [
      "Set parameter TimeLimit to value 100\n",
      "Set parameter TimeLimit to value 100\n",
      "Set parameter TimeLimit to value 100\n",
      "Set parameter TimeLimit to value 100\n",
      "Set parameter TimeLimit to value 100\n",
      "Set parameter TimeLimit to value 100\n",
      "Set parameter TimeLimit to value 100\n",
      "Set parameter TimeLimit to value 100\n",
      "Set parameter TimeLimit to value 100\n",
      "Set parameter TimeLimit to value 100\n"
     ]
    },
    {
     "name": "stderr",
     "output_type": "stream",
     "text": [
      "\r",
      " 43%|#################################                                            | 9/21 [2:35:10<3:27:48, 1039.05s/it]"
     ]
    },
    {
     "name": "stdout",
     "output_type": "stream",
     "text": [
      "Set parameter TimeLimit to value 100\n",
      "Set parameter TimeLimit to value 100\n",
      "Set parameter TimeLimit to value 100\n",
      "Set parameter TimeLimit to value 100\n",
      "Set parameter TimeLimit to value 100\n",
      "Set parameter TimeLimit to value 100\n",
      "Set parameter TimeLimit to value 100\n",
      "Set parameter TimeLimit to value 100\n",
      "Set parameter TimeLimit to value 100\n",
      "Set parameter TimeLimit to value 100\n"
     ]
    },
    {
     "name": "stderr",
     "output_type": "stream",
     "text": [
      "\r",
      " 48%|####################################1                                       | 10/21 [2:52:45<3:11:23, 1043.93s/it]"
     ]
    },
    {
     "name": "stdout",
     "output_type": "stream",
     "text": [
      "Set parameter TimeLimit to value 100\n",
      "Set parameter TimeLimit to value 100\n",
      "Set parameter TimeLimit to value 100\n",
      "Set parameter TimeLimit to value 100\n",
      "Set parameter TimeLimit to value 100\n",
      "Set parameter TimeLimit to value 100\n",
      "Set parameter TimeLimit to value 100\n",
      "Set parameter TimeLimit to value 100\n",
      "Set parameter TimeLimit to value 100\n",
      "Set parameter TimeLimit to value 100\n"
     ]
    },
    {
     "name": "stderr",
     "output_type": "stream",
     "text": [
      "\r",
      " 52%|#######################################8                                    | 11/21 [3:10:13<2:54:13, 1045.31s/it]"
     ]
    },
    {
     "name": "stdout",
     "output_type": "stream",
     "text": [
      "Set parameter TimeLimit to value 100\n",
      "Set parameter TimeLimit to value 100\n",
      "Set parameter TimeLimit to value 100\n",
      "Set parameter TimeLimit to value 100\n",
      "Set parameter TimeLimit to value 100\n",
      "Set parameter TimeLimit to value 100\n",
      "Set parameter TimeLimit to value 100\n",
      "Set parameter TimeLimit to value 100\n",
      "Set parameter TimeLimit to value 100\n",
      "Set parameter TimeLimit to value 100\n"
     ]
    },
    {
     "name": "stderr",
     "output_type": "stream",
     "text": [
      "\r",
      " 57%|###########################################4                                | 12/21 [3:27:45<2:37:04, 1047.20s/it]"
     ]
    },
    {
     "name": "stdout",
     "output_type": "stream",
     "text": [
      "Set parameter TimeLimit to value 100\n",
      "Set parameter TimeLimit to value 100\n",
      "Set parameter TimeLimit to value 100\n",
      "Set parameter TimeLimit to value 100\n",
      "Set parameter TimeLimit to value 100\n",
      "Set parameter TimeLimit to value 100\n",
      "Set parameter TimeLimit to value 100\n",
      "Set parameter TimeLimit to value 100\n",
      "Set parameter TimeLimit to value 100\n",
      "Set parameter TimeLimit to value 100\n"
     ]
    },
    {
     "name": "stderr",
     "output_type": "stream",
     "text": [
      "\r",
      " 62%|###############################################                             | 13/21 [3:45:37<2:20:39, 1054.88s/it]"
     ]
    },
    {
     "name": "stdout",
     "output_type": "stream",
     "text": [
      "Set parameter TimeLimit to value 100\n",
      "Set parameter TimeLimit to value 100\n",
      "Set parameter TimeLimit to value 100\n",
      "Set parameter TimeLimit to value 100\n",
      "Set parameter TimeLimit to value 100\n",
      "Set parameter TimeLimit to value 100\n",
      "Set parameter TimeLimit to value 100\n",
      "Set parameter TimeLimit to value 100\n",
      "Set parameter TimeLimit to value 100\n",
      "Set parameter TimeLimit to value 100\n"
     ]
    },
    {
     "name": "stderr",
     "output_type": "stream",
     "text": [
      "\r",
      " 67%|##################################################6                         | 14/21 [4:03:20<2:03:20, 1057.28s/it]"
     ]
    },
    {
     "name": "stdout",
     "output_type": "stream",
     "text": [
      "Set parameter TimeLimit to value 100\n",
      "Set parameter TimeLimit to value 100\n",
      "Set parameter TimeLimit to value 100\n",
      "Set parameter TimeLimit to value 100\n",
      "Set parameter TimeLimit to value 100\n",
      "Set parameter TimeLimit to value 100\n",
      "Set parameter TimeLimit to value 100\n",
      "Set parameter TimeLimit to value 100\n",
      "Set parameter TimeLimit to value 100\n",
      "Set parameter TimeLimit to value 100\n"
     ]
    },
    {
     "name": "stderr",
     "output_type": "stream",
     "text": [
      "\r",
      " 71%|######################################################2                     | 15/21 [4:21:06<1:45:58, 1059.76s/it]"
     ]
    },
    {
     "name": "stdout",
     "output_type": "stream",
     "text": [
      "Set parameter TimeLimit to value 100\n",
      "Set parameter TimeLimit to value 100\n",
      "Set parameter TimeLimit to value 100\n",
      "Set parameter TimeLimit to value 100\n",
      "Set parameter TimeLimit to value 100\n",
      "Set parameter TimeLimit to value 100\n",
      "Set parameter TimeLimit to value 100\n",
      "Set parameter TimeLimit to value 100\n",
      "Set parameter TimeLimit to value 100\n",
      "Set parameter TimeLimit to value 100\n"
     ]
    },
    {
     "name": "stderr",
     "output_type": "stream",
     "text": [
      "\r",
      " 76%|#########################################################9                  | 16/21 [4:39:06<1:28:49, 1065.81s/it]"
     ]
    },
    {
     "name": "stdout",
     "output_type": "stream",
     "text": [
      "Set parameter TimeLimit to value 100\n",
      "Set parameter TimeLimit to value 100\n",
      "Set parameter TimeLimit to value 100\n",
      "Set parameter TimeLimit to value 100\n",
      "Set parameter TimeLimit to value 100\n",
      "Set parameter TimeLimit to value 100\n",
      "Set parameter TimeLimit to value 100\n",
      "Set parameter TimeLimit to value 100\n",
      "Set parameter TimeLimit to value 100\n",
      "Set parameter TimeLimit to value 100\n"
     ]
    },
    {
     "name": "stderr",
     "output_type": "stream",
     "text": [
      "\r",
      " 81%|#############################################################5              | 17/21 [4:57:02<1:11:15, 1068.89s/it]"
     ]
    },
    {
     "name": "stdout",
     "output_type": "stream",
     "text": [
      "Set parameter TimeLimit to value 100\n",
      "Set parameter TimeLimit to value 100\n",
      "Set parameter TimeLimit to value 100\n",
      "Set parameter TimeLimit to value 100\n",
      "Set parameter TimeLimit to value 100\n",
      "Set parameter TimeLimit to value 100\n",
      "Set parameter TimeLimit to value 100\n",
      "Set parameter TimeLimit to value 100\n",
      "Set parameter TimeLimit to value 100\n",
      "Set parameter TimeLimit to value 100\n"
     ]
    },
    {
     "name": "stderr",
     "output_type": "stream",
     "text": [
      "\r",
      " 86%|##################################################################8           | 18/21 [5:14:58<53:33, 1071.05s/it]"
     ]
    },
    {
     "name": "stdout",
     "output_type": "stream",
     "text": [
      "Set parameter TimeLimit to value 100\n",
      "Set parameter TimeLimit to value 100\n",
      "Set parameter TimeLimit to value 100\n",
      "Set parameter TimeLimit to value 100\n",
      "Set parameter TimeLimit to value 100\n",
      "Set parameter TimeLimit to value 100\n",
      "Set parameter TimeLimit to value 100\n",
      "Set parameter TimeLimit to value 100\n",
      "Set parameter TimeLimit to value 100\n",
      "Set parameter TimeLimit to value 100\n"
     ]
    },
    {
     "name": "stderr",
     "output_type": "stream",
     "text": [
      "\r",
      " 90%|######################################################################5       | 19/21 [5:33:20<36:01, 1080.51s/it]"
     ]
    },
    {
     "name": "stdout",
     "output_type": "stream",
     "text": [
      "Set parameter TimeLimit to value 100\n",
      "Set parameter TimeLimit to value 100\n",
      "Set parameter TimeLimit to value 100\n",
      "Set parameter TimeLimit to value 100\n",
      "Set parameter TimeLimit to value 100\n",
      "Set parameter TimeLimit to value 100\n",
      "Set parameter TimeLimit to value 100\n",
      "Set parameter TimeLimit to value 100\n",
      "Set parameter TimeLimit to value 100\n",
      "Set parameter TimeLimit to value 100\n"
     ]
    },
    {
     "name": "stderr",
     "output_type": "stream",
     "text": [
      "\r",
      " 95%|##########################################################################2   | 20/21 [5:51:35<18:04, 1084.83s/it]"
     ]
    },
    {
     "name": "stdout",
     "output_type": "stream",
     "text": [
      "Set parameter TimeLimit to value 100\n",
      "Set parameter TimeLimit to value 100\n",
      "Set parameter TimeLimit to value 100\n",
      "Set parameter TimeLimit to value 100\n",
      "Set parameter TimeLimit to value 100\n",
      "Set parameter TimeLimit to value 100\n",
      "Set parameter TimeLimit to value 100\n",
      "Set parameter TimeLimit to value 100\n",
      "Set parameter TimeLimit to value 100\n",
      "Set parameter TimeLimit to value 100\n"
     ]
    },
    {
     "name": "stderr",
     "output_type": "stream",
     "text": [
      "100%|##############################################################################| 21/21 [6:09:46<00:00, 1056.48s/it]\n"
     ]
    }
   ],
   "source": [
    "for i in tqdm(range(len(list_order))):\n",
    "    for _ in range(10):\n",
    "        try:\n",
    "            s= Problem_MIP(number_of_order=list_order[i], number_of_sku=list_item[i], number_of_unique_sku=list_uitem[i], number_of_batch=list_batch[i])\n",
    "            s.form_data()\n",
    "            #Exact\n",
    "\n",
    "            #Appro\n",
    "            PA_obj,PA_gap=s.Pattern_Appro(100,s.mb)\n",
    "            PA_obj_Sshape=s.Obj_Matrix_Sshape(s.Pattern_Appro_matrix)\n",
    "\n",
    "            list_PA_obj_Sshape.append(PA_obj_Sshape)\n",
    "\n",
    "            #Appro+ILS\n",
    "            PA_ils_Sshape_m,PA_ils_Sshape_obj,PA_ils_Sshape_time=Return_EVP(s,s.Pattern_Appro_matrix,PA_obj_Sshape,2)\n",
    "\n",
    "            list_PA_ils_Sshape_obj.append(PA_ils_Sshape_obj)\n",
    "            list_PA_ils_Sshape_time.append(PA_ils_Sshape_time)\n",
    "            \n",
    "        except:\n",
    "            pass\n",
    "    result_Sshape[0].append(np.mean(list_PA_obj_Sshape))\n",
    "    result_Sshape[2].append(np.mean(list_PA_ils_Sshape_obj))\n",
    "    result_Sshape[3].append(np.mean(list_PA_ils_Sshape_time))\n"
   ]
  },
  {
   "cell_type": "code",
   "execution_count": 7,
   "id": "a765797f",
   "metadata": {},
   "outputs": [
    {
     "data": {
      "text/plain": [
       "[[6625.160000000001,\n",
       "  6129.46,\n",
       "  5729.613333333333,\n",
       "  6368.139999999999,\n",
       "  6493.831999999999,\n",
       "  6418.706666666666,\n",
       "  6913.245714285714,\n",
       "  7097.034999999999,\n",
       "  7101.564444444443,\n",
       "  7540.66,\n",
       "  7724.705454545454,\n",
       "  7777.469999999999,\n",
       "  8181.593846153846,\n",
       "  8374.028571428571,\n",
       "  8455.237333333334,\n",
       "  8837.377499999999,\n",
       "  9033.863529411763,\n",
       "  9127.606666666667,\n",
       "  9498.911578947367,\n",
       "  9703.521999999999,\n",
       "  9805.569523809523],\n",
       " [],\n",
       " [6437.519999999997,\n",
       "  5951.999999999998,\n",
       "  5563.4,\n",
       "  6175.999999999998,\n",
       "  6287.967999999998,\n",
       "  6209.719999999998,\n",
       "  6679.291428571426,\n",
       "  6843.004999999999,\n",
       "  6846.671111111109,\n",
       "  7263.255999999998,\n",
       "  7430.185454545453,\n",
       "  7473.266666666664,\n",
       "  7853.335384615382,\n",
       "  8027.9,\n",
       "  8098.061333333331,\n",
       "  8459.144999999997,\n",
       "  8637.141176470584,\n",
       "  8718.084444444441,\n",
       "  9067.018947368415,\n",
       "  9250.837999999994,\n",
       "  9341.032380952376],\n",
       " [9.663572287559509,\n",
       "  9.71474130153656,\n",
       "  10.06918195883433,\n",
       "  12.07753003835678,\n",
       "  13.313617162704467,\n",
       "  14.305753751595814,\n",
       "  16.331753366334098,\n",
       "  17.924533188343048,\n",
       "  19.346047520637512,\n",
       "  21.712279455661772,\n",
       "  23.86535043933175,\n",
       "  25.705434282620747,\n",
       "  28.603048493311956,\n",
       "  31.089615053789956,\n",
       "  33.40087973912557,\n",
       "  36.969592130184175,\n",
       "  40.023113438662364,\n",
       "  42.9570993065834,\n",
       "  46.872363794477366,\n",
       "  50.52928995847702,\n",
       "  54.129191656339735],\n",
       " [],\n",
       " [],\n",
       " [],\n",
       " [],\n",
       " [],\n",
       " [],\n",
       " [],\n",
       " []]"
      ]
     },
     "execution_count": 5,
     "metadata": {},
     "output_type": "execute_result"
    }
   ],
   "source": [
    "result_Return"
   ]
  },
  {
   "cell_type": "code",
   "execution_count": 6,
   "id": "a1e26e03",
   "metadata": {},
   "outputs": [
    {
     "name": "stderr",
     "output_type": "stream",
     "text": [
      "\r",
      "  0%|                                                                                           | 0/21 [00:00<?, ?it/s]"
     ]
    },
    {
     "name": "stdout",
     "output_type": "stream",
     "text": [
      "Set parameter Username\n",
      "Academic license - for non-commercial use only - expires 2022-07-29\n",
      "Set parameter TimeLimit to value 100\n",
      "Set parameter TimeLimit to value 100\n",
      "Set parameter TimeLimit to value 100\n",
      "Set parameter TimeLimit to value 100\n",
      "Set parameter TimeLimit to value 100\n",
      "Set parameter TimeLimit to value 100\n",
      "Set parameter TimeLimit to value 100\n",
      "Set parameter TimeLimit to value 100\n",
      "Set parameter TimeLimit to value 100\n",
      "Set parameter TimeLimit to value 100\n"
     ]
    },
    {
     "name": "stderr",
     "output_type": "stream",
     "text": [
      "\r",
      "  5%|###7                                                                           | 1/21 [18:25<6:08:36, 1105.83s/it]"
     ]
    },
    {
     "name": "stdout",
     "output_type": "stream",
     "text": [
      "Set parameter TimeLimit to value 100\n",
      "Set parameter TimeLimit to value 100\n",
      "Set parameter TimeLimit to value 100\n",
      "Set parameter TimeLimit to value 100\n",
      "Set parameter TimeLimit to value 100\n",
      "Set parameter TimeLimit to value 100\n",
      "Set parameter TimeLimit to value 100\n",
      "Set parameter TimeLimit to value 100\n",
      "Set parameter TimeLimit to value 100\n",
      "Set parameter TimeLimit to value 100\n"
     ]
    },
    {
     "name": "stderr",
     "output_type": "stream",
     "text": [
      "\r",
      " 10%|#######5                                                                       | 2/21 [36:57<5:51:16, 1109.30s/it]"
     ]
    },
    {
     "name": "stdout",
     "output_type": "stream",
     "text": [
      "Set parameter TimeLimit to value 100\n",
      "Set parameter TimeLimit to value 100\n",
      "Set parameter TimeLimit to value 100\n",
      "Set parameter TimeLimit to value 100\n",
      "Set parameter TimeLimit to value 100\n",
      "Set parameter TimeLimit to value 100\n",
      "Set parameter TimeLimit to value 100\n",
      "Set parameter TimeLimit to value 100\n",
      "Set parameter TimeLimit to value 100\n",
      "Set parameter TimeLimit to value 100\n"
     ]
    },
    {
     "name": "stderr",
     "output_type": "stream",
     "text": [
      "\r",
      " 14%|###########2                                                                   | 3/21 [55:29<5:33:11, 1110.64s/it]"
     ]
    },
    {
     "name": "stdout",
     "output_type": "stream",
     "text": [
      "Set parameter TimeLimit to value 100\n",
      "Set parameter TimeLimit to value 100\n",
      "Set parameter TimeLimit to value 100\n",
      "Set parameter TimeLimit to value 100\n",
      "Set parameter TimeLimit to value 100\n",
      "Set parameter TimeLimit to value 100\n",
      "Set parameter TimeLimit to value 100\n",
      "Set parameter TimeLimit to value 100\n",
      "Set parameter TimeLimit to value 100\n",
      "Set parameter TimeLimit to value 100\n"
     ]
    },
    {
     "name": "stderr",
     "output_type": "stream",
     "text": [
      "\r",
      " 19%|##############6                                                              | 4/21 [1:15:27<5:24:24, 1144.95s/it]"
     ]
    },
    {
     "name": "stdout",
     "output_type": "stream",
     "text": [
      "Set parameter TimeLimit to value 100\n",
      "Set parameter TimeLimit to value 100\n",
      "Set parameter TimeLimit to value 100\n",
      "Set parameter TimeLimit to value 100\n",
      "Set parameter TimeLimit to value 100\n",
      "Set parameter TimeLimit to value 100\n",
      "Set parameter TimeLimit to value 100\n",
      "Set parameter TimeLimit to value 100\n",
      "Set parameter TimeLimit to value 100\n",
      "Set parameter TimeLimit to value 100\n"
     ]
    },
    {
     "name": "stderr",
     "output_type": "stream",
     "text": [
      "\r",
      " 24%|##################3                                                          | 5/21 [1:35:24<5:10:19, 1163.69s/it]"
     ]
    },
    {
     "name": "stdout",
     "output_type": "stream",
     "text": [
      "Set parameter TimeLimit to value 100\n",
      "Set parameter TimeLimit to value 100\n",
      "Set parameter TimeLimit to value 100\n",
      "Set parameter TimeLimit to value 100\n",
      "Set parameter TimeLimit to value 100\n",
      "Set parameter TimeLimit to value 100\n",
      "Set parameter TimeLimit to value 100\n",
      "Set parameter TimeLimit to value 100\n",
      "Set parameter TimeLimit to value 100\n",
      "Set parameter TimeLimit to value 100\n"
     ]
    },
    {
     "name": "stderr",
     "output_type": "stream",
     "text": [
      "\r",
      " 29%|######################                                                       | 6/21 [1:55:19<4:53:38, 1174.55s/it]"
     ]
    },
    {
     "name": "stdout",
     "output_type": "stream",
     "text": [
      "Set parameter TimeLimit to value 100\n",
      "Set parameter TimeLimit to value 100\n",
      "Set parameter TimeLimit to value 100\n",
      "Set parameter TimeLimit to value 100\n",
      "Set parameter TimeLimit to value 100\n",
      "Set parameter TimeLimit to value 100\n",
      "Set parameter TimeLimit to value 100\n",
      "Set parameter TimeLimit to value 100\n",
      "Set parameter TimeLimit to value 100\n",
      "Set parameter TimeLimit to value 100\n"
     ]
    },
    {
     "name": "stderr",
     "output_type": "stream",
     "text": [
      "\r",
      " 33%|#########################6                                                   | 7/21 [2:17:04<4:44:00, 1217.16s/it]"
     ]
    },
    {
     "name": "stdout",
     "output_type": "stream",
     "text": [
      "Set parameter TimeLimit to value 100\n",
      "Set parameter TimeLimit to value 100\n",
      "Set parameter TimeLimit to value 100\n",
      "Set parameter TimeLimit to value 100\n",
      "Set parameter TimeLimit to value 100\n",
      "Set parameter TimeLimit to value 100\n",
      "Set parameter TimeLimit to value 100\n",
      "Set parameter TimeLimit to value 100\n",
      "Set parameter TimeLimit to value 100\n",
      "Set parameter TimeLimit to value 100\n"
     ]
    },
    {
     "name": "stderr",
     "output_type": "stream",
     "text": [
      "\r",
      " 38%|#############################3                                               | 8/21 [2:38:58<4:30:21, 1247.78s/it]"
     ]
    },
    {
     "name": "stdout",
     "output_type": "stream",
     "text": [
      "Set parameter TimeLimit to value 100\n",
      "Set parameter TimeLimit to value 100\n",
      "Set parameter TimeLimit to value 100\n",
      "Set parameter TimeLimit to value 100\n",
      "Set parameter TimeLimit to value 100\n",
      "Set parameter TimeLimit to value 100\n",
      "Set parameter TimeLimit to value 100\n",
      "Set parameter TimeLimit to value 100\n",
      "Set parameter TimeLimit to value 100\n",
      "Set parameter TimeLimit to value 100\n"
     ]
    },
    {
     "name": "stderr",
     "output_type": "stream",
     "text": [
      "\r",
      " 43%|#################################                                            | 9/21 [3:00:57<4:14:01, 1270.16s/it]"
     ]
    },
    {
     "name": "stdout",
     "output_type": "stream",
     "text": [
      "Set parameter TimeLimit to value 100\n",
      "Set parameter TimeLimit to value 100\n",
      "Set parameter TimeLimit to value 100\n",
      "Set parameter TimeLimit to value 100\n",
      "Set parameter TimeLimit to value 100\n",
      "Set parameter TimeLimit to value 100\n",
      "Set parameter TimeLimit to value 100\n",
      "Set parameter TimeLimit to value 100\n",
      "Set parameter TimeLimit to value 100\n",
      "Set parameter TimeLimit to value 100\n"
     ]
    },
    {
     "name": "stderr",
     "output_type": "stream",
     "text": [
      "\r",
      " 48%|####################################1                                       | 10/21 [3:25:31<4:04:22, 1332.99s/it]"
     ]
    },
    {
     "name": "stdout",
     "output_type": "stream",
     "text": [
      "Set parameter TimeLimit to value 100\n",
      "Set parameter TimeLimit to value 100\n",
      "Set parameter TimeLimit to value 100\n",
      "Set parameter TimeLimit to value 100\n",
      "Set parameter TimeLimit to value 100\n",
      "Set parameter TimeLimit to value 100\n",
      "Set parameter TimeLimit to value 100\n",
      "Set parameter TimeLimit to value 100\n",
      "Set parameter TimeLimit to value 100\n",
      "Set parameter TimeLimit to value 100\n"
     ]
    },
    {
     "name": "stderr",
     "output_type": "stream",
     "text": [
      "\r",
      " 52%|#######################################8                                    | 11/21 [3:50:34<3:50:52, 1385.24s/it]"
     ]
    },
    {
     "name": "stdout",
     "output_type": "stream",
     "text": [
      "Set parameter TimeLimit to value 100\n",
      "Set parameter TimeLimit to value 100\n",
      "Set parameter TimeLimit to value 100\n",
      "Set parameter TimeLimit to value 100\n",
      "Set parameter TimeLimit to value 100\n",
      "Set parameter TimeLimit to value 100\n",
      "Set parameter TimeLimit to value 100\n",
      "Set parameter TimeLimit to value 100\n",
      "Set parameter TimeLimit to value 100\n",
      "Set parameter TimeLimit to value 100\n"
     ]
    },
    {
     "name": "stderr",
     "output_type": "stream",
     "text": [
      "\r",
      " 57%|###########################################4                                | 12/21 [4:15:57<3:34:04, 1427.18s/it]"
     ]
    },
    {
     "name": "stdout",
     "output_type": "stream",
     "text": [
      "Set parameter TimeLimit to value 100\n",
      "Set parameter TimeLimit to value 100\n",
      "Set parameter TimeLimit to value 100\n",
      "Set parameter TimeLimit to value 100\n",
      "Set parameter TimeLimit to value 100\n",
      "Set parameter TimeLimit to value 100\n",
      "Set parameter TimeLimit to value 100\n",
      "Set parameter TimeLimit to value 100\n",
      "Set parameter TimeLimit to value 100\n",
      "Set parameter TimeLimit to value 100\n"
     ]
    },
    {
     "name": "stderr",
     "output_type": "stream",
     "text": [
      "\r",
      " 62%|###############################################                             | 13/21 [4:45:16<3:23:40, 1527.50s/it]"
     ]
    },
    {
     "name": "stdout",
     "output_type": "stream",
     "text": [
      "Set parameter TimeLimit to value 100\n",
      "Set parameter TimeLimit to value 100\n",
      "Set parameter TimeLimit to value 100\n",
      "Set parameter TimeLimit to value 100\n",
      "Set parameter TimeLimit to value 100\n",
      "Set parameter TimeLimit to value 100\n",
      "Set parameter TimeLimit to value 100\n",
      "Set parameter TimeLimit to value 100\n",
      "Set parameter TimeLimit to value 100\n",
      "Set parameter TimeLimit to value 100\n"
     ]
    },
    {
     "name": "stderr",
     "output_type": "stream",
     "text": [
      "\r",
      " 67%|##################################################6                         | 14/21 [5:15:09<3:07:35, 1607.88s/it]"
     ]
    },
    {
     "name": "stdout",
     "output_type": "stream",
     "text": [
      "Set parameter TimeLimit to value 100\n",
      "Set parameter TimeLimit to value 100\n",
      "Set parameter TimeLimit to value 100\n",
      "Set parameter TimeLimit to value 100\n",
      "Set parameter TimeLimit to value 100\n",
      "Set parameter TimeLimit to value 100\n",
      "Set parameter TimeLimit to value 100\n",
      "Set parameter TimeLimit to value 100\n",
      "Set parameter TimeLimit to value 100\n",
      "Set parameter TimeLimit to value 100\n"
     ]
    },
    {
     "name": "stderr",
     "output_type": "stream",
     "text": [
      "\r",
      " 71%|######################################################2                     | 15/21 [5:45:15<2:46:45, 1667.57s/it]"
     ]
    },
    {
     "name": "stdout",
     "output_type": "stream",
     "text": [
      "Set parameter TimeLimit to value 100\n",
      "Set parameter TimeLimit to value 100\n",
      "Set parameter TimeLimit to value 100\n",
      "Set parameter TimeLimit to value 100\n",
      "Set parameter TimeLimit to value 100\n",
      "Set parameter TimeLimit to value 100\n",
      "Set parameter TimeLimit to value 100\n",
      "Set parameter TimeLimit to value 100\n",
      "Set parameter TimeLimit to value 100\n",
      "Set parameter TimeLimit to value 100\n"
     ]
    },
    {
     "name": "stderr",
     "output_type": "stream",
     "text": [
      "\r",
      " 76%|#########################################################9                  | 16/21 [6:19:08<2:28:06, 1777.38s/it]"
     ]
    },
    {
     "name": "stdout",
     "output_type": "stream",
     "text": [
      "Set parameter TimeLimit to value 100\n",
      "Set parameter TimeLimit to value 100\n",
      "Set parameter TimeLimit to value 100\n",
      "Set parameter TimeLimit to value 100\n",
      "Set parameter TimeLimit to value 100\n",
      "Set parameter TimeLimit to value 100\n",
      "Set parameter TimeLimit to value 100\n",
      "Set parameter TimeLimit to value 100\n",
      "Set parameter TimeLimit to value 100\n",
      "Set parameter TimeLimit to value 100\n"
     ]
    },
    {
     "name": "stderr",
     "output_type": "stream",
     "text": [
      "\r",
      " 81%|#############################################################5              | 17/21 [6:53:27<2:04:08, 1862.01s/it]"
     ]
    },
    {
     "name": "stdout",
     "output_type": "stream",
     "text": [
      "Set parameter TimeLimit to value 100\n",
      "Set parameter TimeLimit to value 100\n",
      "Set parameter TimeLimit to value 100\n",
      "Set parameter TimeLimit to value 100\n",
      "Set parameter TimeLimit to value 100\n",
      "Set parameter TimeLimit to value 100\n",
      "Set parameter TimeLimit to value 100\n",
      "Set parameter TimeLimit to value 100\n",
      "Set parameter TimeLimit to value 100\n",
      "Set parameter TimeLimit to value 100\n"
     ]
    },
    {
     "name": "stderr",
     "output_type": "stream",
     "text": [
      "\r",
      " 86%|#################################################################1          | 18/21 [7:28:14<1:36:29, 1929.70s/it]"
     ]
    },
    {
     "name": "stdout",
     "output_type": "stream",
     "text": [
      "Set parameter TimeLimit to value 100\n",
      "Set parameter TimeLimit to value 100\n",
      "Set parameter TimeLimit to value 100\n",
      "Set parameter TimeLimit to value 100\n",
      "Set parameter TimeLimit to value 100\n",
      "Set parameter TimeLimit to value 100\n",
      "Set parameter TimeLimit to value 100\n",
      "Set parameter TimeLimit to value 100\n",
      "Set parameter TimeLimit to value 100\n",
      "Set parameter TimeLimit to value 100\n"
     ]
    },
    {
     "name": "stderr",
     "output_type": "stream",
     "text": [
      "\r",
      " 90%|####################################################################7       | 19/21 [8:07:38<1:08:40, 2060.27s/it]"
     ]
    },
    {
     "name": "stdout",
     "output_type": "stream",
     "text": [
      "Set parameter TimeLimit to value 100\n",
      "Set parameter TimeLimit to value 100\n",
      "Set parameter TimeLimit to value 100\n",
      "Set parameter TimeLimit to value 100\n",
      "Set parameter TimeLimit to value 100\n",
      "Set parameter TimeLimit to value 100\n",
      "Set parameter TimeLimit to value 100\n",
      "Set parameter TimeLimit to value 100\n",
      "Set parameter TimeLimit to value 100\n",
      "Set parameter TimeLimit to value 100\n"
     ]
    },
    {
     "name": "stderr",
     "output_type": "stream",
     "text": [
      "\r",
      " 95%|##########################################################################2   | 20/21 [8:48:04<36:10, 2170.07s/it]"
     ]
    },
    {
     "name": "stdout",
     "output_type": "stream",
     "text": [
      "Set parameter TimeLimit to value 100\n",
      "Set parameter TimeLimit to value 100\n",
      "Set parameter TimeLimit to value 100\n",
      "Set parameter TimeLimit to value 100\n",
      "Set parameter TimeLimit to value 100\n",
      "Set parameter TimeLimit to value 100\n",
      "Set parameter TimeLimit to value 100\n",
      "Set parameter TimeLimit to value 100\n",
      "Set parameter TimeLimit to value 100\n",
      "Set parameter TimeLimit to value 100\n"
     ]
    },
    {
     "name": "stderr",
     "output_type": "stream",
     "text": [
      "100%|##############################################################################| 21/21 [9:29:02<00:00, 1625.84s/it]\n"
     ]
    }
   ],
   "source": [
    "for i in tqdm(range(len(list_order))):\n",
    "    for _ in range(10):\n",
    "        try:\n",
    "            s= Problem_MIP(number_of_order=list_order[i], number_of_sku=list_item[i], number_of_unique_sku=list_uitem[i], number_of_batch=list_batch[i])\n",
    "            s.form_data()\n",
    "            #Exact\n",
    "\n",
    "            #Appro\n",
    "            PA_obj,PA_gap=s.Pattern_Appro(100,s.mb)\n",
    "            PA_obj_Sshape=s.Obj_Matrix_Sshape(s.Pattern_Appro_matrix)\n",
    "\n",
    "            list_PA_obj_Sshape.append(PA_obj_Sshape)\n",
    "\n",
    "            #Appro+ILS\n",
    "            PA_ils_Sshape_m,PA_ils_Sshape_obj,PA_ils_Sshape_time=Sshape_EVP(s,s.Pattern_Appro_matrix,PA_obj_Sshape,2)\n",
    "\n",
    "            list_PA_ils_Sshape_obj.append(PA_ils_Sshape_obj)\n",
    "            list_PA_ils_Sshape_time.append(PA_ils_Sshape_time)\n",
    "            \n",
    "        except:\n",
    "            pass\n",
    "    result_Sshape[0].append(np.mean(list_PA_obj_Sshape))\n",
    "    result_Sshape[2].append(np.mean(list_PA_ils_Sshape_obj))\n",
    "    result_Sshape[3].append(np.mean(list_PA_ils_Sshape_time))\n"
   ]
  },
  {
   "cell_type": "code",
   "execution_count": 7,
   "id": "4f2e38c3",
   "metadata": {},
   "outputs": [
    {
     "data": {
      "text/plain": [
       "[[5419.5,\n",
       "  4860.389999999999,\n",
       "  4454.433333333333,\n",
       "  5023.1,\n",
       "  5091.0,\n",
       "  5000.136666666666,\n",
       "  5422.768571428572,\n",
       "  5556.3525,\n",
       "  5544.793333333333,\n",
       "  5918.99,\n",
       "  6066.961818181819,\n",
       "  6087.591666666666,\n",
       "  6444.915384615385,\n",
       "  6601.612857142857,\n",
       "  6643.217333333334,\n",
       "  6975.371250000001,\n",
       "  7139.771764705882,\n",
       "  7199.440000000001,\n",
       "  7522.8031578947375,\n",
       "  7684.079000000001,\n",
       "  7751.113333333335],\n",
       " [],\n",
       " [5383.9400000000005,\n",
       "  4834.33,\n",
       "  4431.92,\n",
       "  4993.35,\n",
       "  5058.5560000000005,\n",
       "  4968.913333333334,\n",
       "  5383.334285714288,\n",
       "  5511.58,\n",
       "  5500.666666666667,\n",
       "  5866.156,\n",
       "  6010.950909090909,\n",
       "  6030.6799999999985,\n",
       "  6376.512307692308,\n",
       "  6526.8042857142855,\n",
       "  6566.178666666667,\n",
       "  6887.845000000001,\n",
       "  7041.817647058823,\n",
       "  7097.217777777778,\n",
       "  7409.532631578946,\n",
       "  7561.311999999998,\n",
       "  7622.869523809522],\n",
       " [9.503508067131042,\n",
       "  9.86557240486145,\n",
       "  10.026785206794738,\n",
       "  12.029710924625396,\n",
       "  13.264099683761597,\n",
       "  14.07551779349645,\n",
       "  16.052451140539986,\n",
       "  17.66839369237423,\n",
       "  19.008369557062785,\n",
       "  21.467825562953948,\n",
       "  23.78060560876673,\n",
       "  25.881751155853273,\n",
       "  29.29894658418802,\n",
       "  32.5035745705877,\n",
       "  35.382281804084776,\n",
       "  39.168417905271056,\n",
       "  42.69487730755525,\n",
       "  46.00543171432283,\n",
       "  50.278196738895616,\n",
       "  54.46017304062843,\n",
       "  58.412391041574026],\n",
       " [],\n",
       " [],\n",
       " [],\n",
       " [],\n",
       " [],\n",
       " [],\n",
       " [],\n",
       " []]"
      ]
     },
     "execution_count": 6,
     "metadata": {},
     "output_type": "execute_result"
    }
   ],
   "source": [
    "result_Sshape"
   ]
  },
  {
   "cell_type": "code",
   "execution_count": 16,
   "id": "56c7caa8",
   "metadata": {},
   "outputs": [],
   "source": [
    "import pickle\n",
    "file=open(\"s2.pkl\",\"rb\")\n",
    "s=pickle.load(file)\n",
    "s.form_data()"
   ]
  },
  {
   "cell_type": "code",
   "execution_count": 12,
   "id": "2afcef69",
   "metadata": {},
   "outputs": [
    {
     "name": "stdout",
     "output_type": "stream",
     "text": [
      "Set parameter TimeLimit to value 100\n"
     ]
    }
   ],
   "source": [
    "PA_obj,PA_gap=s.Pattern_Appro(100,s.mb)\n",
    "PA_obj_Sshape=s.Obj_Matrix_Sshape(s.Pattern_Appro_matrix)\n",
    "\n",
    "\n",
    "#Appro+ILS\n",
    "PA_ils_Sshape_m,PA_ils_Sshape_obj,PA_ils_Sshape_time=Sshape_EVP(s,s.Pattern_Appro_matrix,PA_obj_Sshape,2)\n",
    "\n"
   ]
  },
  {
   "cell_type": "code",
   "execution_count": 13,
   "id": "14120676",
   "metadata": {},
   "outputs": [
    {
     "data": {
      "text/plain": [
       "6864.799999999996"
      ]
     },
     "execution_count": 12,
     "metadata": {},
     "output_type": "execute_result"
    }
   ],
   "source": [
    "PA_ils_Sshape_obj"
   ]
  },
  {
   "cell_type": "code",
   "execution_count": 14,
   "id": "6c1fefb0",
   "metadata": {},
   "outputs": [
    {
     "data": {
      "text/plain": [
       "41.78902554512024"
      ]
     },
     "execution_count": 13,
     "metadata": {},
     "output_type": "execute_result"
    }
   ],
   "source": [
    "PA_ils_Sshape_time"
   ]
  },
  {
   "cell_type": "code",
   "execution_count": 17,
   "id": "b508367b",
   "metadata": {},
   "outputs": [
    {
     "name": "stdout",
     "output_type": "stream",
     "text": [
      "Set parameter TimeLimit to value 100\n"
     ]
    }
   ],
   "source": [
    "PA_obj,PA_gap=s.Pattern_Appro(100,s.mb)\n",
    "PA_obj_Return=s.Obj_Matrix_Return(s.Pattern_Appro_matrix)\n",
    "\n",
    "#Appro+ILS\n",
    "PA_ils_Return_m,PA_ils_Return_obj,PA_ils_Return_time=Return_EVP(s,s.Pattern_Appro_matrix,PA_obj_Return,2)\n"
   ]
  },
  {
   "cell_type": "code",
   "execution_count": 18,
   "id": "878057dc",
   "metadata": {},
   "outputs": [
    {
     "data": {
      "text/plain": [
       "8490.800000000005"
      ]
     },
     "execution_count": 17,
     "metadata": {},
     "output_type": "execute_result"
    }
   ],
   "source": [
    "PA_ils_Return_obj"
   ]
  },
  {
   "cell_type": "code",
   "execution_count": 19,
   "id": "16625c48",
   "metadata": {},
   "outputs": [
    {
     "data": {
      "text/plain": [
       "42.76207113265991"
      ]
     },
     "execution_count": 18,
     "metadata": {},
     "output_type": "execute_result"
    }
   ],
   "source": [
    "PA_ils_Return_time"
   ]
  },
  {
   "cell_type": "code",
   "execution_count": 64,
   "id": "03e00717",
   "metadata": {},
   "outputs": [],
   "source": [
    "result=[[],[],[],[],[],[]]\n",
    "n=5000 # Number of samples\n",
    "vector_of_sigma=[]\n",
    "\n",
    "from sklearn import linear_model\n",
    "for _ in tqdm(range(len(list_order))):\n",
    "    s= Problem_MIP(number_of_order=list_order[_], number_of_sku=list_item[_], number_of_unique_sku=list_uitem[_], number_of_batch=list_batch[_])\n",
    "    s.form_data()\n",
    "    s.Bi=tuplelist(s.Bi)\n",
    "    for i in range(n):\n",
    "        if n in [1000,2000,3000,4000]:\n",
    "                s= Problem_MIP(number_of_order=list_order[_], number_of_sku=list_item[_], number_of_unique_sku=list_uitem[_], number_of_batch=list_batch[_])\n",
    "                s.form_data()\n",
    "                s.Bi=tuplelist(s.Bi)\n",
    "        Origin_list=[i for i in range(s.number_of_order)]\n",
    "        random.shuffle(Origin_list)\n",
    "        matrix=[[] for i in range(s.number_of_batch)]\n",
    "        perunit=int(s.number_of_order/s.number_of_batch)\n",
    "        for j in range(s.number_of_batch):\n",
    "            matrix[j].extend(Origin_list[j*perunit:(j+1)*perunit])\n",
    "        vector_of_sigma.append(Generate_sigma(matrix))\n",
    "        result[2].append(Obj_Matrix_Return_solver(s, matrix))\n",
    "        result[3].append(Obj_Matrix_Sshape_solver(s, matrix))\n",
    "    clf = linear_model.Lasso(alpha=100)\n",
    "    clf.fit(vector_of_sigma, result[2])\n",
    "    #Lasso(alpha=0.1)\n",
    "    Xr=clf.coef_\n",
    "    #[0.85 0.  ]\n",
    "    #print(clf.intercept_)\n",
    "    #0.15..."
   ]
  },
  {
   "cell_type": "code",
   "execution_count": 53,
   "id": "6116896e",
   "metadata": {},
   "outputs": [],
   "source": [
    "s= Problem_MIP(number_of_order=480, number_of_sku=int(480*2.8), number_of_unique_sku=int(480*2.8/3*2), number_of_batch=48)\n",
    "s.form_data()"
   ]
  },
  {
   "cell_type": "code",
   "execution_count": 54,
   "id": "d0b87b9d",
   "metadata": {},
   "outputs": [
    {
     "name": "stdout",
     "output_type": "stream",
     "text": [
      "Set parameter TimeLimit to value 100\n"
     ]
    },
    {
     "data": {
      "text/plain": [
       "6735.6"
      ]
     },
     "execution_count": 52,
     "metadata": {},
     "output_type": "execute_result"
    }
   ],
   "source": [
    "PA_obj,PA_gap=s.Pattern_Appro(100,s.mb)\n",
    "PA_obj_Return=s.Obj_Matrix_Return(s.Pattern_Appro_matrix)\n",
    "PA_obj_Return"
   ]
  },
  {
   "cell_type": "code",
   "execution_count": 55,
   "id": "2b9f623f",
   "metadata": {},
   "outputs": [
    {
     "name": "stdout",
     "output_type": "stream",
     "text": [
      "6730.799999999999\n",
      "6730.399999999999\n",
      "6729.999999999998\n",
      "6729.5999999999985\n",
      "6729.199999999999\n",
      "6725.599999999999\n",
      "6724.399999999999\n",
      "6723.999999999999\n",
      "6723.599999999999\n",
      "6722.4\n",
      "6722.0\n",
      "6720.799999999999\n",
      "6720.4\n",
      "6718.0\n",
      "6717.599999999999\n",
      "6716.4\n",
      "6715.999999999999\n",
      "6715.599999999999\n",
      "6715.2\n",
      "6714.8\n",
      "6714.400000000001\n",
      "6712.000000000002\n",
      "6711.600000000002\n",
      "6711.200000000003\n",
      "6707.600000000002\n",
      "6707.200000000003\n",
      "6706.800000000003\n"
     ]
    }
   ],
   "source": [
    "import copy\n",
    "obj=PA_obj_Return\n",
    "matrix=copy.deepcopy(s.Pattern_Appro_matrix)\n",
    "for i in range(len(s.List0)):\n",
    "    i1=s.List0[i][0]\n",
    "    i2=s.List0[i][1]\n",
    "    j1=[i for i, x in enumerate(matrix) if i1 in x][0]\n",
    "    j2=[i for i, x in enumerate(matrix) if i2 in x][0]\n",
    "    if j1!=j2:\n",
    "        x1,y1,x2,y2=i1,j1,i2,j2\n",
    "        vy1=copy.deepcopy([matrix[y1],matrix[y2]])\n",
    "        vy2=copy.deepcopy([matrix[y1],matrix[y2]])\n",
    "        index1=np.where(vy1[0]==np.array(x1))[0][0]\n",
    "        index2=np.where(vy1[1]==np.array(x2))[0][0]\n",
    "        vy2[0][index1]=x2\n",
    "        vy2[1][index2]=x1\n",
    "\n",
    "        s1=Obj_Matrix_Return_solver(s,vy1)\n",
    "        s2=Obj_Matrix_Return_solver(s,vy2)\n",
    "        if s2<s1:\n",
    "            obj=obj+s2-s1\n",
    "            print(obj)\n",
    "            matrix[y1]=copy.deepcopy(vy2[0])\n",
    "            matrix[y2]=copy.deepcopy(vy2[1])    "
   ]
  },
  {
   "cell_type": "code",
   "execution_count": 56,
   "id": "316002d9",
   "metadata": {},
   "outputs": [
    {
     "name": "stdout",
     "output_type": "stream",
     "text": [
      "6706.400000000002\n",
      "6702.400000000002\n",
      "6701.200000000002\n",
      "6690.800000000001\n",
      "6690.4000000000015\n",
      "6688.4000000000015\n",
      "6686.800000000001\n",
      "6681.6\n",
      "6668.400000000001\n",
      "6666.800000000001\n",
      "6665.600000000001\n",
      "6662.800000000002\n",
      "6652.000000000002\n",
      "6649.600000000002\n",
      "6642.4000000000015\n",
      "6639.200000000002\n",
      "6637.200000000001\n",
      "6635.6\n",
      "6630.000000000001\n",
      "6628.8\n",
      "6627.6\n",
      "6622.4000000000015\n",
      "6617.200000000002\n",
      "6616.800000000002\n",
      "6612.000000000002\n",
      "6609.200000000003\n",
      "6607.200000000003\n",
      "6599.200000000003\n",
      "6598.000000000003\n",
      "6597.600000000002\n",
      "6594.400000000002\n",
      "6592.800000000002\n",
      "6589.600000000001\n",
      "6588.000000000002\n",
      "6582.800000000002\n",
      "6578.800000000002\n",
      "6578.400000000002\n",
      "6575.600000000002\n",
      "6566.400000000002\n",
      "6559.600000000002\n",
      "6559.200000000003\n",
      "6555.600000000003\n",
      "6554.000000000004\n",
      "6552.400000000004\n",
      "6544.800000000004\n",
      "6541.600000000003\n",
      "6539.200000000003\n",
      "6538.000000000002\n",
      "6532.800000000001\n",
      "6528.800000000001\n",
      "6528.000000000001\n",
      "6524.000000000001\n",
      "6521.6\n",
      "6520.400000000001\n",
      "6517.200000000001\n",
      "6516.4000000000015\n",
      "6514.400000000001\n",
      "6514.000000000001\n",
      "6512.8\n",
      "6504.4\n",
      "6501.2\n",
      "6498.8\n",
      "6497.200000000001\n",
      "6490.000000000002\n",
      "6484.4000000000015\n",
      "6478.4000000000015\n"
     ]
    }
   ],
   "source": [
    "for i in range(len(s.List1)):\n",
    "    i1=s.List1[i][0]\n",
    "    i2=s.List1[i][1]\n",
    "    if len(s.Ki[i1])<2 or len(s.Ki[i2])<2:\n",
    "        continue\n",
    "    j1=[i for i, x in enumerate(matrix) if i1 in x][0]\n",
    "    j2=[i for i, x in enumerate(matrix) if i2 in x][0]\n",
    "    if j1!=j2:\n",
    "        x1,y1,x2,y2=i1,j1,i2,j2\n",
    "        vy1=copy.deepcopy([matrix[y1],matrix[y2]])\n",
    "        vy2=copy.deepcopy([matrix[y1],matrix[y2]])\n",
    "        index1=np.where(vy1[0]==np.array(x1))[0][0]\n",
    "        index2=np.where(vy1[1]==np.array(x2))[0][0]\n",
    "        vy2[0][index1]=x2\n",
    "        vy2[1][index2]=x1\n",
    "\n",
    "        s1=Obj_Matrix_Return_solver(s,vy1)\n",
    "        s2=Obj_Matrix_Return_solver(s,vy2)\n",
    "        if s2<s1:\n",
    "            obj=obj+s2-s1\n",
    "            print(obj)\n",
    "            matrix[y1]=copy.deepcopy(vy2[0])\n",
    "            matrix[y2]=copy.deepcopy(vy2[1])    "
   ]
  },
  {
   "cell_type": "code",
   "execution_count": 57,
   "id": "e6db943d",
   "metadata": {},
   "outputs": [],
   "source": [
    "PA_ils_Return_m,PA_ils_Return_obj,PA_ils_Return_time=Return_iterated_local_search(s,s.Pattern_Appro_matrix,PA_obj_Return,1000,100,0.005)\n"
   ]
  },
  {
   "cell_type": "code",
   "execution_count": 58,
   "id": "3183d0e0",
   "metadata": {},
   "outputs": [
    {
     "data": {
      "text/plain": [
       "6516.0"
      ]
     },
     "execution_count": 56,
     "metadata": {},
     "output_type": "execute_result"
    }
   ],
   "source": [
    "PA_ils_Return_obj"
   ]
  },
  {
   "cell_type": "code",
   "execution_count": 64,
   "id": "ff9fd4e0",
   "metadata": {},
   "outputs": [],
   "source": [
    "s= Problem_MIP(number_of_order=480, number_of_sku=int(480*2.8), number_of_unique_sku=int(480*2.8/3*2), number_of_batch=48)\n",
    "s.form_data()"
   ]
  },
  {
   "cell_type": "code",
   "execution_count": 65,
   "id": "72c388db",
   "metadata": {},
   "outputs": [
    {
     "name": "stdout",
     "output_type": "stream",
     "text": [
      "Set parameter TimeLimit to value 100\n"
     ]
    },
    {
     "data": {
      "text/plain": [
       "5562.4"
      ]
     },
     "execution_count": 63,
     "metadata": {},
     "output_type": "execute_result"
    }
   ],
   "source": [
    "PA_obj,PA_gap=s.Pattern_Appro(100,s.mb)\n",
    "PA_obj_Sshape=s.Obj_Matrix_Sshape(s.Pattern_Appro_matrix)\n",
    "PA_obj_Sshape"
   ]
  },
  {
   "cell_type": "code",
   "execution_count": 66,
   "id": "973f83a7",
   "metadata": {},
   "outputs": [
    {
     "name": "stdout",
     "output_type": "stream",
     "text": [
      "5562.0\n",
      "5561.6\n",
      "5560.8\n",
      "5560.400000000001\n",
      "5560.000000000001\n",
      "5559.6\n",
      "5559.200000000001\n",
      "5558.800000000001\n",
      "5558.4000000000015\n",
      "5558.000000000002\n",
      "5557.600000000002\n",
      "5557.200000000003\n",
      "5556.400000000002\n",
      "5556.000000000002\n"
     ]
    }
   ],
   "source": [
    "import copy\n",
    "obj=PA_obj_Sshape\n",
    "matrix=copy.deepcopy(s.Pattern_Appro_matrix)\n",
    "for i in range(len(s.List0)):\n",
    "    i1=s.List0[i][0]\n",
    "    i2=s.List0[i][1]\n",
    "    j1=[i for i, x in enumerate(matrix) if i1 in x][0]\n",
    "    j2=[i for i, x in enumerate(matrix) if i2 in x][0]\n",
    "    if j1!=j2:\n",
    "        x1,y1,x2,y2=i1,j1,i2,j2\n",
    "        vy1=copy.deepcopy([matrix[y1],matrix[y2]])\n",
    "        vy2=copy.deepcopy([matrix[y1],matrix[y2]])\n",
    "        index1=np.where(vy1[0]==np.array(x1))[0][0]\n",
    "        index2=np.where(vy1[1]==np.array(x2))[0][0]\n",
    "        vy2[0][index1]=x2\n",
    "        vy2[1][index2]=x1\n",
    "\n",
    "        s1=Obj_Matrix_Sshape_solver(s,vy1)\n",
    "        s2=Obj_Matrix_Sshape_solver(s,vy2)\n",
    "        if s2<s1:\n",
    "            obj=obj+s2-s1\n",
    "            print(obj)\n",
    "            matrix[y1]=copy.deepcopy(vy2[0])\n",
    "            matrix[y2]=copy.deepcopy(vy2[1])    \n"
   ]
  },
  {
   "cell_type": "code",
   "execution_count": 67,
   "id": "3008322d",
   "metadata": {},
   "outputs": [
    {
     "name": "stdout",
     "output_type": "stream",
     "text": [
      "5555.600000000002\n",
      "5553.800000000002\n",
      "5553.400000000002\n",
      "5546.200000000003\n",
      "5545.400000000002\n",
      "5545.000000000003\n",
      "5542.000000000003\n",
      "5540.400000000003\n",
      "5535.400000000003\n",
      "5533.600000000003\n",
      "5530.400000000003\n",
      "5519.600000000003\n",
      "5519.000000000003\n",
      "5514.400000000002\n",
      "5510.200000000003\n",
      "5509.800000000003\n",
      "5505.2000000000035\n",
      "5502.800000000003\n",
      "5502.400000000003\n",
      "5502.000000000004\n",
      "5501.600000000003\n",
      "5498.800000000003\n",
      "5494.000000000003\n",
      "5493.400000000003\n",
      "5492.2000000000035\n",
      "5488.400000000003\n"
     ]
    }
   ],
   "source": [
    "for i in range(len(s.List1)):\n",
    "    i1=s.List1[i][0]\n",
    "    i2=s.List1[i][1]\n",
    "    if len(s.Ki[i1])<2 or len(s.Ki[i2])<2:\n",
    "        continue\n",
    "    j1=[i for i, x in enumerate(matrix) if i1 in x][0]\n",
    "    j2=[i for i, x in enumerate(matrix) if i2 in x][0]\n",
    "    if j1!=j2:\n",
    "        x1,y1,x2,y2=i1,j1,i2,j2\n",
    "        vy1=copy.deepcopy([matrix[y1],matrix[y2]])\n",
    "        vy2=copy.deepcopy([matrix[y1],matrix[y2]])\n",
    "        index1=np.where(vy1[0]==np.array(x1))[0][0]\n",
    "        index2=np.where(vy1[1]==np.array(x2))[0][0]\n",
    "        vy2[0][index1]=x2\n",
    "        vy2[1][index2]=x1\n",
    "\n",
    "        s1=Obj_Matrix_Sshape_solver(s,vy1)\n",
    "        s2=Obj_Matrix_Sshape_solver(s,vy2)\n",
    "        if s2<s1:\n",
    "            obj=obj+s2-s1\n",
    "            print(obj)\n",
    "            matrix[y1]=copy.deepcopy(vy2[0])\n",
    "            matrix[y2]=copy.deepcopy(vy2[1])    \n"
   ]
  },
  {
   "cell_type": "code",
   "execution_count": 68,
   "id": "5b304879",
   "metadata": {},
   "outputs": [
    {
     "data": {
      "text/plain": [
       "5535.2"
      ]
     },
     "execution_count": 66,
     "metadata": {},
     "output_type": "execute_result"
    }
   ],
   "source": [
    "PA_ils_Sshape_m,PA_ils_Sshape_obj,PA_ils_Sshape_time=Sshape_iterated_local_search(s,s.Pattern_Appro_matrix,PA_obj_Sshape,1000,100,0.005)\n",
    "PA_ils_Sshape_obj"
   ]
  },
  {
   "cell_type": "code",
   "execution_count": null,
   "id": "c667718d",
   "metadata": {},
   "outputs": [],
   "source": []
  }
 ],
 "metadata": {
  "kernelspec": {
   "display_name": "Python 3.8 (XPython)",
   "language": "python",
   "name": "xpython"
  },
  "language_info": {
   "file_extension": ".py",
   "mimetype": "text/x-python",
   "name": "python",
   "version": "3.8.10"
  }
 },
 "nbformat": 4,
 "nbformat_minor": 5
}
