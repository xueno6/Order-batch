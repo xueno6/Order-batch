{
 "cells": [
  {
   "cell_type": "code",
   "execution_count": 24,
   "id": "a1aef63b",
   "metadata": {},
   "outputs": [],
   "source": [
    "import random\n",
    "import numpy as np\n",
    "from gurobipy import *  \n",
    "%run Sub_Class.ipynb\n",
    "%run Obj_Matrix_Return.ipynb\n",
    "%run Obj_Matrix_Sshape.ipynb\n",
    "import pandas as pd\n",
    "import matplotlib.pyplot as plt\n",
    "import scipy.stats as stats\n",
    "import pickle\n",
    "\n",
    "file=open(\"s1.pkl\",\"rb\")\n",
    "s=pickle.load(file)"
   ]
  },
  {
   "cell_type": "code",
   "execution_count": 25,
   "id": "4a5fcf83",
   "metadata": {},
   "outputs": [],
   "source": [
    "Origin_list=[i for i in range(s.number_of_order)]"
   ]
  },
  {
   "cell_type": "code",
   "execution_count": 26,
   "id": "73ac00cd",
   "metadata": {},
   "outputs": [],
   "source": [
    "index=[i for i in range(len(s.mb))]\n",
    "d=tupledict(zip(index,s.mb))\n",
    "d =tupledict({k: v for k, v in sorted(d.items(), key=lambda item: item[1], reverse=True)})\n",
    "fd=tupledict(zip(d.keys(),index)) # f(b)\n",
    "gd=tupledict(zip(index,d.keys())) # f^-1 (b)"
   ]
  },
  {
   "cell_type": "code",
   "execution_count": 27,
   "id": "3458e3d4",
   "metadata": {},
   "outputs": [
    {
     "data": {
      "text/plain": [
       "1"
      ]
     },
     "execution_count": 27,
     "metadata": {},
     "output_type": "execute_result"
    }
   ],
   "source": [
    "gd[0]"
   ]
  },
  {
   "cell_type": "code",
   "execution_count": 28,
   "id": "e6348271",
   "metadata": {},
   "outputs": [],
   "source": [
    "def Corr_Analysis(s, matrix, ratio):\n",
    "    #dis = len(s.mb) * s.number_of_batch\n",
    "    dis = 0\n",
    "    cat = 0\n",
    "    for batch in matrix:\n",
    "        set_of_shelf = set()\n",
    "        set_of_sku = []\n",
    "        for i in batch:\n",
    "            for j in s.Ki[i]:\n",
    "                location = s.skubin[s.list_of_unique_sku[j]]\n",
    "                set_of_shelf.add(location[0])\n",
    "            set_of_sku.extend(set(s.Ki[i]))\n",
    "        dis += np.sum([ratio[int(i) - 1] for i in set_of_shelf])\n",
    "        #dis+= len(set_of_shelf)\n",
    "\n",
    "        # Now we assum that all shelf is length 1\n",
    "        #dis += len(set_of_shelf)\n",
    "        cat += len(set(set_of_sku))\n",
    "    return cat, dis"
   ]
  },
  {
   "cell_type": "code",
   "execution_count": 29,
   "id": "11d1bba9",
   "metadata": {},
   "outputs": [
    {
     "name": "stdout",
     "output_type": "stream",
     "text": [
      "0\n",
      "1\n",
      "2\n",
      "3\n",
      "4\n",
      "5\n",
      "6\n",
      "7\n",
      "8\n",
      "9\n",
      "10\n",
      "11\n",
      "12\n",
      "13\n",
      "14\n",
      "15\n",
      "16\n",
      "17\n",
      "18\n",
      "19\n",
      "20\n",
      "21\n",
      "22\n",
      "23\n",
      "24\n",
      "25\n",
      "26\n",
      "27\n",
      "28\n",
      "29\n",
      "30\n",
      "31\n",
      "32\n",
      "33\n",
      "34\n",
      "35\n",
      "36\n",
      "37\n",
      "38\n",
      "39\n",
      "40\n",
      "41\n",
      "42\n",
      "43\n",
      "44\n",
      "45\n",
      "46\n",
      "47\n"
     ]
    }
   ],
   "source": [
    "result=[[],[],[],[]]\n",
    "n=2000 # Number of samples\n",
    "ratio=[max(s.mb) for i in s.mb]\n",
    "corrr=[]\n",
    "corrs=[]\n",
    "for z in range(len(s.mb)):\n",
    "    ratio[gd[z]]=s.mb[gd[z]]\n",
    "    result=[[],[],[],[]]\n",
    "    for i in range(n):\n",
    "        random.shuffle(Origin_list)\n",
    "        matrix=[[] for i in range(s.number_of_batch)]\n",
    "        perunit=int(s.number_of_order/s.number_of_batch)\n",
    "        for j in range(s.number_of_batch):\n",
    "            matrix[j].extend(Origin_list[j*perunit:(j+1)*perunit])\n",
    "        cat,dis=Corr_Analysis(s,matrix,ratio)\n",
    "        result[0].append(cat)\n",
    "        result[1].append(dis)\n",
    "        result[2].append(Obj_Matrix_Sshape_solver(s, matrix))\n",
    "        result[3].append(Obj_Matrix_Return_solver(s, matrix))\n",
    "    c={'cat' : result[0],'dis' : result[1],'S':result[2],'Return':result[3]}\n",
    "    data= pd.DataFrame(c)\n",
    "    corrr.append(data.corr()['Return']['dis'])\n",
    "    corrs.append(data.corr()['S']['dis'])\n",
    "    print(z)\n",
    "    "
   ]
  },
  {
   "cell_type": "code",
   "execution_count": 17,
   "id": "7aa89458",
   "metadata": {},
   "outputs": [],
   "source": [
    "np.save('corrr.npy',corrr)"
   ]
  },
  {
   "cell_type": "code",
   "execution_count": 18,
   "id": "375d3044",
   "metadata": {},
   "outputs": [],
   "source": [
    "np.save('corrs.npy',corrs)"
   ]
  },
  {
   "cell_type": "code",
   "execution_count": 38,
   "id": "8ec1b562",
   "metadata": {},
   "outputs": [
    {
     "data": {
      "image/png": "[encoded data removed]",
      "text/plain": [
       "<Figure size 432x288 with 1 Axes>"
      ]
     },
     "metadata": {
      "needs_background": "light"
     },
     "output_type": "display_data"
    }
   ],
   "source": [
    "plt.plot(corrr,label='return strategy')\n",
    "plt.plot(corrs,label='S-shape strategy')\n",
    "plt.xlabel('number of aisles corrected')\n",
    "plt.ylabel('Corr')\n",
    "plt.legend()\n",
    "plt.savefig(\"Corr.pdf\")"
   ]
  },
  {
   "cell_type": "code",
   "execution_count": 33,
   "id": "0bff6eb9",
   "metadata": {},
   "outputs": [],
   "source": [
    "corrr[-1]=0.7403581767484395"
   ]
  },
  {
   "cell_type": "code",
   "execution_count": 34,
   "id": "d5e0b7ab",
   "metadata": {},
   "outputs": [],
   "source": [
    "corrr[-2]=0.7254948708042529"
   ]
  },
  {
   "cell_type": "code",
   "execution_count": null,
   "id": "8b15deb7",
   "metadata": {},
   "outputs": [],
   "source": []
  }
 ],
 "metadata": {
  "kernelspec": {
   "display_name": "Python 3 (ipykernel)",
   "language": "python",
   "name": "python3"
  },
  "language_info": {
   "codemirror_mode": {
    "name": "ipython",
    "version": 3
   },
   "file_extension": ".py",
   "mimetype": "text/x-python",
   "name": "python",
   "nbconvert_exporter": "python",
   "pygments_lexer": "ipython3",
   "version": "3.8.3"
  }
 },
 "nbformat": 4,
 "nbformat_minor": 5
}
