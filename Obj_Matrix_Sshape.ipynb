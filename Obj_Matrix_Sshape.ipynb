{
 "cells": [
  {
   "cell_type": "code",
   "execution_count": 4,
   "id": "25932b6a",
   "metadata": {},
   "outputs": [],
   "source": [
    "def distance_shelf(s,set_of_shelf):\n",
    "    l=sorted([s.mb[int(i) - 1] for i in set_of_shelf],reverse=True)\n",
    "    odd=0\n",
    "    dis=0\n",
    "    for i in range(len(l)):\n",
    "        dis=dis+l[i]\n",
    "        if odd%2==1:\n",
    "            dis=dis+l[i-1]-l[i]\n",
    "        odd=odd+1\n",
    "    return dis\n",
    "def Obj_Matrix_Sshape_solver(s, matrix):\n",
    "    dis = len(s.mb) * s.number_of_batch\n",
    "    cat = 0\n",
    "    for batch in matrix:\n",
    "        set_of_shelf = set()\n",
    "        set_of_sku = []\n",
    "        for i in batch:\n",
    "            for j in s.Ki[i]:\n",
    "                location = s.skubin[s.list_of_unique_sku[j]]\n",
    "                set_of_shelf.add(location[0])\n",
    "            set_of_sku.extend(set(s.Ki[i]))\n",
    "        dis += distance_shelf(s,set_of_shelf)\n",
    "        cat += len(set(set_of_sku))\n",
    "    return s.alpha * cat + (1 - s.alpha) * dis"
   ]
  }
 ],
 "metadata": {
  "kernelspec": {
   "display_name": "Python 3 (ipykernel)",
   "language": "python",
   "name": "python3"
  },
  "language_info": {
   "codemirror_mode": {
    "name": "ipython",
    "version": 3
   },
   "file_extension": ".py",
   "mimetype": "text/x-python",
   "name": "python",
   "nbconvert_exporter": "python",
   "pygments_lexer": "ipython3",
   "version": "3.8.3"
  }
 },
 "nbformat": 4,
 "nbformat_minor": 5
}
