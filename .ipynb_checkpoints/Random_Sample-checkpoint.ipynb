{
 "cells": [
  {
   "cell_type": "code",
   "execution_count": null,
   "id": "6b34b2c4",
   "metadata": {},
   "outputs": [],
   "source": [
    "import numpy as np\n",
    "import random\n",
    "def Random_Sample_operator(s):\n",
    "    Origin_list=[i for i in range(s.number_of_order)]\n",
    "    random.shuffle(Origin_list)\n",
    "    matrix=[[] for i in range(s.number_of_batch)]\n",
    "    perunit=int(s.number_of_order/s.number_of_batch)\n",
    "    for j in range(s.number_of_batch):\n",
    "        matrix[j].extend(Origin_list[j*perunit:(j+1)*perunit])\n",
    "    return matrix"
   ]
  }
 ],
 "metadata": {
  "kernelspec": {
   "display_name": "Python 3 (ipykernel)",
   "language": "python",
   "name": "python3"
  },
  "language_info": {
   "codemirror_mode": {
    "name": "ipython",
    "version": 3
   },
   "file_extension": ".py",
   "mimetype": "text/x-python",
   "name": "python",
   "nbconvert_exporter": "python",
   "pygments_lexer": "ipython3",
   "version": "3.8.3"
  }
 },
 "nbformat": 4,
 "nbformat_minor": 5
}
