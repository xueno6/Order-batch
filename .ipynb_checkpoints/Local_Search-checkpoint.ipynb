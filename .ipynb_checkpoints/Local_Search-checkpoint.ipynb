{
 "cells": [
  {
   "cell_type": "code",
   "execution_count": null,
   "id": "ce0ee69f",
   "metadata": {},
   "outputs": [],
   "source": [
    "import numpy as np\n",
    "import time\n",
    "import copy\n",
    "from tqdm import tqdm_notebook\n",
    "%run Obj_Matrix_Return.ipynb\n",
    "%run Obj_Matrix_Sshape.ipynb\n",
    "def Return_local_search(s,matrix,obj,number_of_pairs):\n",
    "    list_of_tuples=[]\n",
    "    for i in range(number_of_pairs):\n",
    "        i1=random.randint(0,s.number_of_order-1)\n",
    "        i2=random.randint(0,s.number_of_order-1)\n",
    "        j1=[i for i, x in enumerate(matrix) if i1 in x][0]\n",
    "        j2=[i for i, x in enumerate(matrix) if i2 in x][0]\n",
    "        if j1!=j2:\n",
    "            x1,y1,x2,y2=i1,j1,i2,j2\n",
    "            vy1=copy.deepcopy([matrix[y1],matrix[y2]])\n",
    "            vy2=copy.deepcopy([matrix[y1],matrix[y2]])\n",
    "            index1=np.where(vy1[0]==np.array(x1))[0][0]\n",
    "            index2=np.where(vy1[1]==np.array(x2))[0][0]\n",
    "            vy2[0][index1]=x2\n",
    "            vy2[1][index2]=x1\n",
    "\n",
    "            s1=Obj_Matrix_Return_solver(s,vy1)\n",
    "            s2=Obj_Matrix_Return_solver(s,vy2)\n",
    "            if s2<s1:\n",
    "                obj=obj+s2-s1\n",
    "                print(obj)\n",
    "                matrix[y1]=copy.deepcopy(vy2[0])\n",
    "                matrix[y2]=copy.deepcopy(vy2[1])            \n",
    "    return matrix,obj\n",
    "\n",
    "def Sshape_local_search(s,matrix,obj,number_of_pairs):\n",
    "    list_of_tuples=[]\n",
    "    for i in range(number_of_pairs):\n",
    "        i1=random.randint(0,s.number_of_order-1)\n",
    "        i2=random.randint(0,s.number_of_order-1)\n",
    "        j1=[i for i, x in enumerate(matrix) if i1 in x][0]\n",
    "        j2=[i for i, x in enumerate(matrix) if i2 in x][0]\n",
    "        if j1!=j2:\n",
    "            x1,y1,x2,y2=i1,j1,i2,j2\n",
    "            vy1=copy.deepcopy([matrix[y1],matrix[y2]])\n",
    "            vy2=copy.deepcopy([matrix[y1],matrix[y2]])\n",
    "            index1=np.where(vy1[0]==np.array(x1))[0][0]\n",
    "            index2=np.where(vy1[1]==np.array(x2))[0][0]\n",
    "            vy2[0][index1]=x2\n",
    "            vy2[1][index2]=x1\n",
    "\n",
    "            s1=Obj_Matrix_Sshape_solver(s,vy1)\n",
    "            s2=Obj_Matrix_Sshape_solver(s,vy2)\n",
    "            if s2<s1:\n",
    "                obj=obj+s2-s1\n",
    "                print(obj)\n",
    "                matrix[y1]=copy.deepcopy(vy2[0])\n",
    "                matrix[y2]=copy.deepcopy(vy2[1])            \n",
    "    return matrix,obj"
   ]
  }
 ],
 "metadata": {
  "kernelspec": {
   "display_name": "Python 3 (ipykernel)",
   "language": "python",
   "name": "python3"
  },
  "language_info": {
   "codemirror_mode": {
    "name": "ipython",
    "version": 3
   },
   "file_extension": ".py",
   "mimetype": "text/x-python",
   "name": "python",
   "nbconvert_exporter": "python",
   "pygments_lexer": "ipython3",
   "version": "3.8.3"
  }
 },
 "nbformat": 4,
 "nbformat_minor": 5
}
