{
 "cells": [
  {
   "cell_type": "code",
   "execution_count": 1,
   "id": "df3c3e3c",
   "metadata": {},
   "outputs": [],
   "source": [
    "import numpy as np\n",
    "import pandas as pd\n",
    "from tqdm import tqdm\n",
    "%run Sub_Class.ipynb\n",
    "%run Seed_Heuristic.ipynb\n",
    "%run Random_Sample.ipynb\n",
    "%run ILS.ipynb\n",
    "%run CWI.ipynb\n",
    "%run CWII.ipynb\n",
    "%run EVP.ipynb\n",
    "s= Problem_MIP(number_of_order=1, number_of_sku=1, number_of_unique_sku=1, number_of_batch=1)\n",
    "s.form_data()"
   ]
  },
  {
   "cell_type": "code",
   "execution_count": 2,
   "id": "a0437dec",
   "metadata": {},
   "outputs": [],
   "source": [
    "list_order=[]\n",
    "list_item =[]\n",
    "list_uitem=[]\n",
    "list_batch=[]\n",
    "\n",
    "list_order=[480, 480, 480, 600, 600, 600, 720, 720, 720, 840, 840, 840, 960, 960, 960, 1080,1080,1080,1200,1200,1200]\n",
    "\n",
    "\n",
    "for i,j in zip(list_order,[_ for _ in range(len(list_order))]):\n",
    "    list_item.append(int(i*2.8))\n",
    "    list_uitem.append(int(i*2.8/3*2))\n",
    "    if j%3==0:\n",
    "        list_batch.append(int(i/10))\n",
    "        j=j+1\n",
    "    elif j%3==1:\n",
    "        list_batch.append(int(i/15))\n",
    "    elif j%3==2:\n",
    "        list_batch.append(int(i/20))\n"
   ]
  },
  {
   "cell_type": "code",
   "execution_count": 4,
   "id": "07586e25",
   "metadata": {},
   "outputs": [],
   "source": [
    "result_Return=[[] for i in range(12)]\n",
    "result_Sshape=[[] for i in range(12)]\n",
    "\n",
    "list_PA_obj_Return=[]\n",
    "list_PA_weak_obj_Return=[]\n",
    "list_PA_ils_Return_obj=[]\n",
    "list_PA_ils_Return_time=[]\n",
    "list_ils_Return_obj=[]\n",
    "list_ils_Return_time=[]\n",
    "list_seed_save_Return_obj=[]\n",
    "list_seed_save_Return_time=[]\n",
    "list_cwi_Return_obj=[]\n",
    "list_cwi_Return_time=[]\n",
    "list_cwii_Return_obj=[]\n",
    "list_cwii_Return_time=[]"
   ]
  },
  {
   "cell_type": "code",
   "execution_count": 5,
   "id": "403ffc8f",
   "metadata": {},
   "outputs": [
    {
     "name": "stderr",
     "output_type": "stream",
     "text": [
      "\r",
      "  0%|                                                                                           | 0/21 [00:00<?, ?it/s]"
     ]
    },
    {
     "name": "stdout",
     "output_type": "stream",
     "text": [
      "Set parameter Username\n",
      "Academic license - for non-commercial use only - expires 2022-07-29\n",
      "Set parameter TimeLimit to value 100\n",
      "Set parameter TimeLimit to value 100\n",
      "Set parameter TimeLimit to value 100\n",
      "Set parameter TimeLimit to value 100\n",
      "Set parameter TimeLimit to value 100\n",
      "Set parameter TimeLimit to value 100\n",
      "Set parameter TimeLimit to value 100\n",
      "Set parameter TimeLimit to value 100\n",
      "Set parameter TimeLimit to value 100\n",
      "Set parameter TimeLimit to value 100\n",
      "Set parameter TimeLimit to value 100\n",
      "Set parameter TimeLimit to value 100\n",
      "Set parameter TimeLimit to value 100\n",
      "Set parameter TimeLimit to value 100\n",
      "Set parameter TimeLimit to value 100\n",
      "Set parameter TimeLimit to value 100\n",
      "Set parameter TimeLimit to value 100\n",
      "Set parameter TimeLimit to value 100\n",
      "Set parameter TimeLimit to value 100\n",
      "Set parameter TimeLimit to value 100\n"
     ]
    },
    {
     "name": "stderr",
     "output_type": "stream",
     "text": [
      "\r",
      "  5%|###7                                                                          | 1/21 [46:26<15:28:48, 2786.42s/it]"
     ]
    },
    {
     "name": "stdout",
     "output_type": "stream",
     "text": [
      "Set parameter TimeLimit to value 100\n",
      "Set parameter TimeLimit to value 100\n",
      "Set parameter TimeLimit to value 100\n",
      "Set parameter TimeLimit to value 100\n",
      "Set parameter TimeLimit to value 100\n",
      "Set parameter TimeLimit to value 100\n",
      "Set parameter TimeLimit to value 100\n",
      "Set parameter TimeLimit to value 100\n",
      "Set parameter TimeLimit to value 100\n",
      "Set parameter TimeLimit to value 100\n",
      "Set parameter TimeLimit to value 100\n",
      "Set parameter TimeLimit to value 100\n",
      "Set parameter TimeLimit to value 100\n",
      "Set parameter TimeLimit to value 100\n",
      "Set parameter TimeLimit to value 100\n",
      "Set parameter TimeLimit to value 100\n",
      "Set parameter TimeLimit to value 100\n",
      "Set parameter TimeLimit to value 100\n",
      "Set parameter TimeLimit to value 100\n",
      "Set parameter TimeLimit to value 100\n"
     ]
    },
    {
     "name": "stderr",
     "output_type": "stream",
     "text": [
      "\r",
      " 10%|#######2                                                                    | 2/21 [1:33:58<14:54:35, 2825.04s/it]"
     ]
    },
    {
     "name": "stdout",
     "output_type": "stream",
     "text": [
      "Set parameter TimeLimit to value 100\n",
      "Set parameter TimeLimit to value 100\n",
      "Set parameter TimeLimit to value 100\n",
      "Set parameter TimeLimit to value 100\n",
      "Set parameter TimeLimit to value 100\n",
      "Set parameter TimeLimit to value 100\n",
      "Set parameter TimeLimit to value 100\n",
      "Set parameter TimeLimit to value 100\n",
      "Set parameter TimeLimit to value 100\n",
      "Set parameter TimeLimit to value 100\n",
      "Set parameter TimeLimit to value 100\n",
      "Set parameter TimeLimit to value 100\n",
      "Set parameter TimeLimit to value 100\n",
      "Set parameter TimeLimit to value 100\n",
      "Set parameter TimeLimit to value 100\n",
      "Set parameter TimeLimit to value 100\n",
      "Set parameter TimeLimit to value 100\n",
      "Set parameter TimeLimit to value 100\n",
      "Set parameter TimeLimit to value 100\n",
      "Set parameter TimeLimit to value 100\n"
     ]
    },
    {
     "name": "stderr",
     "output_type": "stream",
     "text": [
      "\r",
      " 14%|##########8                                                                 | 3/21 [2:22:26<14:18:52, 2862.90s/it]"
     ]
    },
    {
     "name": "stdout",
     "output_type": "stream",
     "text": [
      "Set parameter TimeLimit to value 100\n",
      "Set parameter TimeLimit to value 100\n",
      "Set parameter TimeLimit to value 100\n",
      "Set parameter TimeLimit to value 100\n",
      "Set parameter TimeLimit to value 100\n",
      "Set parameter TimeLimit to value 100\n",
      "Set parameter TimeLimit to value 100\n",
      "Set parameter TimeLimit to value 100\n",
      "Set parameter TimeLimit to value 100\n",
      "Set parameter TimeLimit to value 100\n",
      "Set parameter TimeLimit to value 100\n",
      "Set parameter TimeLimit to value 100\n",
      "Set parameter TimeLimit to value 100\n",
      "Set parameter TimeLimit to value 100\n",
      "Set parameter TimeLimit to value 100\n",
      "Set parameter TimeLimit to value 100\n",
      "Set parameter TimeLimit to value 100\n",
      "Set parameter TimeLimit to value 100\n",
      "Set parameter TimeLimit to value 100\n",
      "Set parameter TimeLimit to value 100\n"
     ]
    },
    {
     "name": "stderr",
     "output_type": "stream",
     "text": [
      "\r",
      " 19%|##############4                                                             | 4/21 [3:17:16<14:18:59, 3031.73s/it]"
     ]
    },
    {
     "name": "stdout",
     "output_type": "stream",
     "text": [
      "Set parameter TimeLimit to value 100\n",
      "Set parameter TimeLimit to value 100\n",
      "Set parameter TimeLimit to value 100\n",
      "Set parameter TimeLimit to value 100\n",
      "Set parameter TimeLimit to value 100\n",
      "Set parameter TimeLimit to value 100\n",
      "Set parameter TimeLimit to value 100\n",
      "Set parameter TimeLimit to value 100\n",
      "Set parameter TimeLimit to value 100\n",
      "Set parameter TimeLimit to value 100\n",
      "Set parameter TimeLimit to value 100\n",
      "Set parameter TimeLimit to value 100\n",
      "Set parameter TimeLimit to value 100\n",
      "Set parameter TimeLimit to value 100\n",
      "Set parameter TimeLimit to value 100\n",
      "Set parameter TimeLimit to value 100\n",
      "Set parameter TimeLimit to value 100\n",
      "Set parameter TimeLimit to value 100\n",
      "Set parameter TimeLimit to value 100\n",
      "Set parameter TimeLimit to value 100\n"
     ]
    },
    {
     "name": "stderr",
     "output_type": "stream",
     "text": [
      "\r",
      " 24%|##################                                                          | 5/21 [4:14:08<14:04:56, 3168.53s/it]"
     ]
    },
    {
     "name": "stdout",
     "output_type": "stream",
     "text": [
      "Set parameter TimeLimit to value 100\n",
      "Set parameter TimeLimit to value 100\n",
      "Set parameter TimeLimit to value 100\n",
      "Set parameter TimeLimit to value 100\n",
      "Set parameter TimeLimit to value 100\n",
      "Set parameter TimeLimit to value 100\n",
      "Set parameter TimeLimit to value 100\n",
      "Set parameter TimeLimit to value 100\n",
      "Set parameter TimeLimit to value 100\n",
      "Set parameter TimeLimit to value 100\n",
      "Set parameter TimeLimit to value 100\n",
      "Set parameter TimeLimit to value 100\n",
      "Set parameter TimeLimit to value 100\n",
      "Set parameter TimeLimit to value 100\n",
      "Set parameter TimeLimit to value 100\n",
      "Set parameter TimeLimit to value 100\n",
      "Set parameter TimeLimit to value 100\n",
      "Set parameter TimeLimit to value 100\n",
      "Set parameter TimeLimit to value 100\n",
      "Set parameter TimeLimit to value 100\n"
     ]
    },
    {
     "name": "stderr",
     "output_type": "stream",
     "text": [
      "\r",
      " 29%|#####################7                                                      | 6/21 [5:12:28<13:40:19, 3281.32s/it]"
     ]
    },
    {
     "name": "stdout",
     "output_type": "stream",
     "text": [
      "Set parameter TimeLimit to value 100\n",
      "Set parameter TimeLimit to value 100\n",
      "Set parameter TimeLimit to value 100\n",
      "Set parameter TimeLimit to value 100\n",
      "Set parameter TimeLimit to value 100\n",
      "Set parameter TimeLimit to value 100\n",
      "Set parameter TimeLimit to value 100\n",
      "Set parameter TimeLimit to value 100\n",
      "Set parameter TimeLimit to value 100\n",
      "Set parameter TimeLimit to value 100\n",
      "Set parameter TimeLimit to value 100\n",
      "Set parameter TimeLimit to value 100\n",
      "Set parameter TimeLimit to value 100\n",
      "Set parameter TimeLimit to value 100\n",
      "Set parameter TimeLimit to value 100\n",
      "Set parameter TimeLimit to value 100\n",
      "Set parameter TimeLimit to value 100\n",
      "Set parameter TimeLimit to value 100\n",
      "Set parameter TimeLimit to value 100\n",
      "Set parameter TimeLimit to value 100\n"
     ]
    },
    {
     "name": "stderr",
     "output_type": "stream",
     "text": [
      "\r",
      " 33%|#########################3                                                  | 7/21 [6:17:15<13:31:50, 3479.36s/it]"
     ]
    },
    {
     "name": "stdout",
     "output_type": "stream",
     "text": [
      "Set parameter TimeLimit to value 100\n",
      "Set parameter TimeLimit to value 100\n",
      "Set parameter TimeLimit to value 100\n",
      "Set parameter TimeLimit to value 100\n",
      "Set parameter TimeLimit to value 100\n",
      "Set parameter TimeLimit to value 100\n",
      "Set parameter TimeLimit to value 100\n",
      "Set parameter TimeLimit to value 100\n",
      "Set parameter TimeLimit to value 100\n",
      "Set parameter TimeLimit to value 100\n",
      "Set parameter TimeLimit to value 100\n",
      "Set parameter TimeLimit to value 100\n",
      "Set parameter TimeLimit to value 100\n",
      "Set parameter TimeLimit to value 100\n",
      "Set parameter TimeLimit to value 100\n",
      "Set parameter TimeLimit to value 100\n",
      "Set parameter TimeLimit to value 100\n",
      "Set parameter TimeLimit to value 100\n",
      "Set parameter TimeLimit to value 100\n",
      "Set parameter TimeLimit to value 100\n"
     ]
    },
    {
     "name": "stderr",
     "output_type": "stream",
     "text": [
      "\r",
      " 38%|############################9                                               | 8/21 [7:27:03<13:22:45, 3705.01s/it]"
     ]
    },
    {
     "name": "stdout",
     "output_type": "stream",
     "text": [
      "Set parameter TimeLimit to value 100\n",
      "Set parameter TimeLimit to value 100\n",
      "Set parameter TimeLimit to value 100\n",
      "Set parameter TimeLimit to value 100\n",
      "Set parameter TimeLimit to value 100\n",
      "Set parameter TimeLimit to value 100\n",
      "Set parameter TimeLimit to value 100\n",
      "Set parameter TimeLimit to value 100\n",
      "Set parameter TimeLimit to value 100\n",
      "Set parameter TimeLimit to value 100\n",
      "Set parameter TimeLimit to value 100\n",
      "Set parameter TimeLimit to value 100\n",
      "Set parameter TimeLimit to value 100\n",
      "Set parameter TimeLimit to value 100\n",
      "Set parameter TimeLimit to value 100\n",
      "Set parameter TimeLimit to value 100\n",
      "Set parameter TimeLimit to value 100\n",
      "Set parameter TimeLimit to value 100\n",
      "Set parameter TimeLimit to value 100\n",
      "Set parameter TimeLimit to value 100\n"
     ]
    },
    {
     "name": "stderr",
     "output_type": "stream",
     "text": [
      "\r",
      " 43%|################################5                                           | 9/21 [8:38:21<12:56:48, 3884.07s/it]"
     ]
    },
    {
     "name": "stdout",
     "output_type": "stream",
     "text": [
      "Set parameter TimeLimit to value 100\n",
      "Set parameter TimeLimit to value 100\n",
      "Set parameter TimeLimit to value 100\n",
      "Set parameter TimeLimit to value 100\n",
      "Set parameter TimeLimit to value 100\n",
      "Set parameter TimeLimit to value 100\n",
      "Set parameter TimeLimit to value 100\n",
      "Set parameter TimeLimit to value 100\n",
      "Set parameter TimeLimit to value 100\n",
      "Set parameter TimeLimit to value 100\n",
      "Set parameter TimeLimit to value 100\n",
      "Set parameter TimeLimit to value 100\n",
      "Set parameter TimeLimit to value 100\n",
      "Set parameter TimeLimit to value 100\n",
      "Set parameter TimeLimit to value 100\n",
      "Set parameter TimeLimit to value 100\n",
      "Set parameter TimeLimit to value 100\n",
      "Set parameter TimeLimit to value 100\n",
      "Set parameter TimeLimit to value 100\n",
      "Set parameter TimeLimit to value 100\n"
     ]
    },
    {
     "name": "stderr",
     "output_type": "stream",
     "text": [
      "\r",
      " 48%|###################################2                                      | 10/21 [10:01:38<12:55:03, 4227.63s/it]"
     ]
    },
    {
     "name": "stdout",
     "output_type": "stream",
     "text": [
      "Set parameter TimeLimit to value 100\n",
      "Set parameter TimeLimit to value 100\n",
      "Set parameter TimeLimit to value 100\n",
      "Set parameter TimeLimit to value 100\n",
      "Set parameter TimeLimit to value 100\n",
      "Set parameter TimeLimit to value 100\n",
      "Set parameter TimeLimit to value 100\n",
      "Set parameter TimeLimit to value 100\n",
      "Set parameter TimeLimit to value 100\n",
      "Set parameter TimeLimit to value 100\n",
      "Set parameter TimeLimit to value 100\n",
      "Set parameter TimeLimit to value 100\n",
      "Set parameter TimeLimit to value 100\n",
      "Set parameter TimeLimit to value 100\n",
      "Set parameter TimeLimit to value 100\n",
      "Set parameter TimeLimit to value 100\n",
      "Set parameter TimeLimit to value 100\n",
      "Set parameter TimeLimit to value 100\n",
      "Set parameter TimeLimit to value 100\n",
      "Set parameter TimeLimit to value 100\n"
     ]
    },
    {
     "name": "stderr",
     "output_type": "stream",
     "text": [
      "\r",
      " 52%|######################################7                                   | 11/21 [11:27:39<12:32:14, 4513.47s/it]"
     ]
    },
    {
     "name": "stdout",
     "output_type": "stream",
     "text": [
      "Set parameter TimeLimit to value 100\n",
      "Set parameter TimeLimit to value 100\n",
      "Set parameter TimeLimit to value 100\n",
      "Set parameter TimeLimit to value 100\n",
      "Set parameter TimeLimit to value 100\n",
      "Set parameter TimeLimit to value 100\n",
      "Set parameter TimeLimit to value 100\n",
      "Set parameter TimeLimit to value 100\n",
      "Set parameter TimeLimit to value 100\n",
      "Set parameter TimeLimit to value 100\n",
      "Set parameter TimeLimit to value 100\n",
      "Set parameter TimeLimit to value 100\n",
      "Set parameter TimeLimit to value 100\n",
      "Set parameter TimeLimit to value 100\n",
      "Set parameter TimeLimit to value 100\n",
      "Set parameter TimeLimit to value 100\n",
      "Set parameter TimeLimit to value 100\n",
      "Set parameter TimeLimit to value 100\n",
      "Set parameter TimeLimit to value 100\n",
      "Set parameter TimeLimit to value 100\n"
     ]
    },
    {
     "name": "stderr",
     "output_type": "stream",
     "text": [
      "\r",
      " 57%|##########################################2                               | 12/21 [12:57:16<11:56:23, 4775.94s/it]"
     ]
    },
    {
     "name": "stdout",
     "output_type": "stream",
     "text": [
      "Set parameter TimeLimit to value 100\n",
      "Set parameter TimeLimit to value 100\n",
      "Set parameter TimeLimit to value 100\n",
      "Set parameter TimeLimit to value 100\n",
      "Set parameter TimeLimit to value 100\n",
      "Set parameter TimeLimit to value 100\n",
      "Set parameter TimeLimit to value 100\n",
      "Set parameter TimeLimit to value 100\n",
      "Set parameter TimeLimit to value 100\n",
      "Set parameter TimeLimit to value 100\n",
      "Set parameter TimeLimit to value 100\n",
      "Set parameter TimeLimit to value 100\n",
      "Set parameter TimeLimit to value 100\n",
      "Set parameter TimeLimit to value 100\n",
      "Set parameter TimeLimit to value 100\n",
      "Set parameter TimeLimit to value 100\n",
      "Set parameter TimeLimit to value 100\n",
      "Set parameter TimeLimit to value 100\n",
      "Set parameter TimeLimit to value 100\n",
      "Set parameter TimeLimit to value 100\n"
     ]
    },
    {
     "name": "stderr",
     "output_type": "stream",
     "text": [
      "\r",
      " 62%|#############################################8                            | 13/21 [14:40:30<11:34:04, 5205.62s/it]"
     ]
    },
    {
     "name": "stdout",
     "output_type": "stream",
     "text": [
      "Set parameter TimeLimit to value 100\n",
      "Set parameter TimeLimit to value 100\n",
      "Set parameter TimeLimit to value 100\n",
      "Set parameter TimeLimit to value 100\n",
      "Set parameter TimeLimit to value 100\n",
      "Set parameter TimeLimit to value 100\n",
      "Set parameter TimeLimit to value 100\n",
      "Set parameter TimeLimit to value 100\n",
      "Set parameter TimeLimit to value 100\n",
      "Set parameter TimeLimit to value 100\n",
      "Set parameter TimeLimit to value 100\n",
      "Set parameter TimeLimit to value 100\n",
      "Set parameter TimeLimit to value 100\n",
      "Set parameter TimeLimit to value 100\n",
      "Set parameter TimeLimit to value 100\n",
      "Set parameter TimeLimit to value 100\n",
      "Set parameter TimeLimit to value 100\n",
      "Set parameter TimeLimit to value 100\n",
      "Set parameter TimeLimit to value 100\n",
      "Set parameter TimeLimit to value 100\n"
     ]
    },
    {
     "name": "stderr",
     "output_type": "stream",
     "text": [
      "\r",
      " 67%|#################################################3                        | 14/21 [16:28:06<10:51:23, 5583.31s/it]"
     ]
    },
    {
     "name": "stdout",
     "output_type": "stream",
     "text": [
      "Set parameter TimeLimit to value 100\n",
      "Set parameter TimeLimit to value 100\n",
      "Set parameter TimeLimit to value 100\n",
      "Set parameter TimeLimit to value 100\n",
      "Set parameter TimeLimit to value 100\n",
      "Set parameter TimeLimit to value 100\n",
      "Set parameter TimeLimit to value 100\n",
      "Set parameter TimeLimit to value 100\n",
      "Set parameter TimeLimit to value 100\n",
      "Set parameter TimeLimit to value 100\n",
      "Set parameter TimeLimit to value 100\n",
      "Set parameter TimeLimit to value 100\n",
      "Set parameter TimeLimit to value 100\n",
      "Set parameter TimeLimit to value 100\n",
      "Set parameter TimeLimit to value 100\n",
      "Set parameter TimeLimit to value 100\n",
      "Set parameter TimeLimit to value 100\n",
      "Set parameter TimeLimit to value 100\n",
      "Set parameter TimeLimit to value 100\n",
      "Set parameter TimeLimit to value 100\n"
     ]
    },
    {
     "name": "stderr",
     "output_type": "stream",
     "text": [
      "\r",
      " 71%|#####################################################5                     | 15/21 [18:20:26<9:53:11, 5931.92s/it]"
     ]
    },
    {
     "name": "stdout",
     "output_type": "stream",
     "text": [
      "Set parameter TimeLimit to value 100\n",
      "Set parameter TimeLimit to value 100\n",
      "Set parameter TimeLimit to value 100\n",
      "Set parameter TimeLimit to value 100\n",
      "Set parameter TimeLimit to value 100\n",
      "Set parameter TimeLimit to value 100\n",
      "Set parameter TimeLimit to value 100\n",
      "Set parameter TimeLimit to value 100\n",
      "Set parameter TimeLimit to value 100\n",
      "Set parameter TimeLimit to value 100\n",
      "Set parameter TimeLimit to value 100\n",
      "Set parameter TimeLimit to value 100\n",
      "Set parameter TimeLimit to value 100\n",
      "Set parameter TimeLimit to value 100\n",
      "Set parameter TimeLimit to value 100\n",
      "Set parameter TimeLimit to value 100\n",
      "Set parameter TimeLimit to value 100\n",
      "Set parameter TimeLimit to value 100\n",
      "Set parameter TimeLimit to value 100\n",
      "Set parameter TimeLimit to value 100\n"
     ]
    },
    {
     "name": "stderr",
     "output_type": "stream",
     "text": [
      "\r",
      " 76%|#########################################################1                 | 16/21 [20:29:11<8:59:17, 6471.58s/it]"
     ]
    },
    {
     "name": "stdout",
     "output_type": "stream",
     "text": [
      "Set parameter TimeLimit to value 100\n",
      "Set parameter TimeLimit to value 100\n",
      "Set parameter TimeLimit to value 100\n",
      "Set parameter TimeLimit to value 100\n",
      "Set parameter TimeLimit to value 100\n",
      "Set parameter TimeLimit to value 100\n",
      "Set parameter TimeLimit to value 100\n",
      "Set parameter TimeLimit to value 100\n",
      "Set parameter TimeLimit to value 100\n",
      "Set parameter TimeLimit to value 100\n",
      "Set parameter TimeLimit to value 100\n",
      "Set parameter TimeLimit to value 100\n",
      "Set parameter TimeLimit to value 100\n",
      "Set parameter TimeLimit to value 100\n",
      "Set parameter TimeLimit to value 100\n",
      "Set parameter TimeLimit to value 100\n",
      "Set parameter TimeLimit to value 100\n",
      "Set parameter TimeLimit to value 100\n",
      "Set parameter TimeLimit to value 100\n",
      "Set parameter TimeLimit to value 100\n"
     ]
    },
    {
     "name": "stderr",
     "output_type": "stream",
     "text": [
      "\r",
      " 81%|############################################################7              | 17/21 [22:45:52<7:46:07, 6991.79s/it]"
     ]
    },
    {
     "name": "stdout",
     "output_type": "stream",
     "text": [
      "Set parameter TimeLimit to value 100\n",
      "Set parameter TimeLimit to value 100\n",
      "Set parameter TimeLimit to value 100\n",
      "Set parameter TimeLimit to value 100\n",
      "Set parameter TimeLimit to value 100\n",
      "Set parameter TimeLimit to value 100\n",
      "Set parameter TimeLimit to value 100\n",
      "Set parameter TimeLimit to value 100\n",
      "Set parameter TimeLimit to value 100\n",
      "Set parameter TimeLimit to value 100\n",
      "Set parameter TimeLimit to value 100\n",
      "Set parameter TimeLimit to value 100\n",
      "Set parameter TimeLimit to value 100\n",
      "Set parameter TimeLimit to value 100\n",
      "Set parameter TimeLimit to value 100\n",
      "Set parameter TimeLimit to value 100\n",
      "Set parameter TimeLimit to value 100\n",
      "Set parameter TimeLimit to value 100\n",
      "Set parameter TimeLimit to value 100\n",
      "Set parameter TimeLimit to value 100\n"
     ]
    },
    {
     "name": "stderr",
     "output_type": "stream",
     "text": [
      "\r",
      " 86%|################################################################2          | 18/21 [25:09:13<6:13:46, 7475.35s/it]"
     ]
    },
    {
     "name": "stdout",
     "output_type": "stream",
     "text": [
      "Set parameter TimeLimit to value 100\n",
      "Set parameter TimeLimit to value 100\n",
      "Set parameter TimeLimit to value 100\n",
      "Set parameter TimeLimit to value 100\n",
      "Set parameter TimeLimit to value 100\n",
      "Set parameter TimeLimit to value 100\n",
      "Set parameter TimeLimit to value 100\n",
      "Set parameter TimeLimit to value 100\n",
      "Set parameter TimeLimit to value 100\n",
      "Set parameter TimeLimit to value 100\n",
      "Set parameter TimeLimit to value 100\n",
      "Set parameter TimeLimit to value 100\n",
      "Set parameter TimeLimit to value 100\n",
      "Set parameter TimeLimit to value 100\n",
      "Set parameter TimeLimit to value 100\n",
      "Set parameter TimeLimit to value 100\n",
      "Set parameter TimeLimit to value 100\n",
      "Set parameter TimeLimit to value 100\n",
      "Set parameter TimeLimit to value 100\n",
      "Set parameter TimeLimit to value 100\n"
     ]
    },
    {
     "name": "stderr",
     "output_type": "stream",
     "text": [
      "\r",
      " 90%|###################################################################8       | 19/21 [27:55:05<4:33:57, 8218.96s/it]"
     ]
    },
    {
     "name": "stdout",
     "output_type": "stream",
     "text": [
      "Set parameter TimeLimit to value 100\n",
      "Set parameter TimeLimit to value 100\n",
      "Set parameter TimeLimit to value 100\n",
      "Set parameter TimeLimit to value 100\n",
      "Set parameter TimeLimit to value 100\n",
      "Set parameter TimeLimit to value 100\n",
      "Set parameter TimeLimit to value 100\n",
      "Set parameter TimeLimit to value 100\n",
      "Set parameter TimeLimit to value 100\n",
      "Set parameter TimeLimit to value 100\n",
      "Set parameter TimeLimit to value 100\n",
      "Set parameter TimeLimit to value 100\n",
      "Set parameter TimeLimit to value 100\n",
      "Set parameter TimeLimit to value 100\n",
      "Set parameter TimeLimit to value 100\n",
      "Set parameter TimeLimit to value 100\n",
      "Set parameter TimeLimit to value 100\n",
      "Set parameter TimeLimit to value 100\n",
      "Set parameter TimeLimit to value 100\n",
      "Set parameter TimeLimit to value 100\n"
     ]
    },
    {
     "name": "stderr",
     "output_type": "stream",
     "text": [
      "\r",
      " 95%|#######################################################################4   | 20/21 [30:43:57<2:26:33, 8793.59s/it]"
     ]
    },
    {
     "name": "stdout",
     "output_type": "stream",
     "text": [
      "Set parameter TimeLimit to value 100\n",
      "Set parameter TimeLimit to value 100\n",
      "Set parameter TimeLimit to value 100\n",
      "Set parameter TimeLimit to value 100\n",
      "Set parameter TimeLimit to value 100\n",
      "Set parameter TimeLimit to value 100\n",
      "Set parameter TimeLimit to value 100\n",
      "Set parameter TimeLimit to value 100\n",
      "Set parameter TimeLimit to value 100\n",
      "Set parameter TimeLimit to value 100\n",
      "Set parameter TimeLimit to value 100\n",
      "Set parameter TimeLimit to value 100\n",
      "Set parameter TimeLimit to value 100\n",
      "Set parameter TimeLimit to value 100\n",
      "Set parameter TimeLimit to value 100\n",
      "Set parameter TimeLimit to value 100\n",
      "Set parameter TimeLimit to value 100\n",
      "Set parameter TimeLimit to value 100\n",
      "Set parameter TimeLimit to value 100\n",
      "Set parameter TimeLimit to value 100\n"
     ]
    },
    {
     "name": "stderr",
     "output_type": "stream",
     "text": [
      "100%|#############################################################################| 21/21 [33:37:46<00:00, 5765.05s/it]\n"
     ]
    }
   ],
   "source": [
    "for i in tqdm(range(len(list_order))):\n",
    "    for _ in range(20):\n",
    "        try:\n",
    "            s= Problem_MIP(number_of_order=list_order[i], number_of_sku=list_item[i], number_of_unique_sku=list_uitem[i], number_of_batch=list_batch[i])\n",
    "            s.form_data()\n",
    "            #Exact\n",
    "            EMILP_Return_obj,EMILP_Return_gap=s.Direct_MIP_Return(1000)\n",
    "            EMILP_Return_LB=(1-EMILP_Return_gap)*EMILP_Return_obj\n",
    "            #Appro\n",
    "            PA_obj,PA_gap=s.Pattern_Appro(100)\n",
    "            PA_obj_Return=s.Obj_Matrix_Return(s.Pattern_Appro_matrix)\n",
    "\n",
    "            list_PA_obj_Return.append(PA_obj_Return)\n",
    "            #Approweak\n",
    "            PA_weak_obj,PA_weak_gap=s.Pattern_Appro_Weak(100)\n",
    "            PA_weak_obj_Return=s.Obj_Matrix_Return(s.Pattern_Appro_Weak_matrix)\n",
    "\n",
    "            list_PA_weak_obj_Return.append(PA_weak_obj_Return)\n",
    "            #Appro+ILS\n",
    "            PA_ils_Return_m,PA_ils_Return_obj,PA_ils_Return_time=Return_EVP(s,s.Pattern_Appro_matrix,PA_obj_Return,1000,100,0.005)\n",
    "\n",
    "            list_PA_ils_Return_obj.append(PA_ils_Return_obj)\n",
    "            list_PA_ils_Return_time.append(PA_ils_Return_time)\n",
    "            #ILS\n",
    "            ils_m=Random_Sample_operator(s)\n",
    "            ils_Return_obj=s.Obj_Matrix_Return(ils_m)\n",
    "            ils_Return_m,ils_Return_obj,ils_Return_time=Return_iterated_local_search(s,ils_m,ils_Return_obj,1000,100,0.005)\n",
    "\n",
    "            list_ils_Return_obj.append(ils_Return_obj)\n",
    "            list_ils_Return_time.append(ils_Return_time)\n",
    "            #Seed_save\n",
    "            seed_save_Return_m,seed_save_Return_obj,seed_save_Return_time=Return_Seed_Heuristic_Solver(s)\n",
    "\n",
    "            list_seed_save_Return_obj.append(seed_save_Return_obj)\n",
    "            list_seed_save_Return_time.append(seed_save_Return_time)\n",
    "            #CWI\n",
    "            cwi_Return_m,cwi_Return_obj,cwi_Return_time=Return_CWI_Heuristic_Solver(s)\n",
    "            list_cwi_Return_obj.append(cwi_Return_obj)\n",
    "            list_cwi_Return_time.append(cwi_Return_time)\n",
    "            #CWII\n",
    "            cwii_Return_m,cwii_Return_obj,cwii_Return_time=Return_CWII_Heuristic_Solver(s)\n",
    "            list_cwii_Return_obj.append(cwii_Return_obj)\n",
    "            list_cwii_Return_time.append(cwii_Return_time)\n",
    "        except:\n",
    "            pass\n",
    "    result_Return[0].append(np.mean(list_PA_obj_Return))\n",
    "    result_Return[1].append(np.mean(list_PA_weak_obj_Return))\n",
    "    result_Return[2].append(np.mean(list_PA_ils_Return_obj))\n",
    "    result_Return[3].append(np.mean(list_PA_ils_Return_time))\n",
    "    result_Return[4].append(np.mean(list_ils_Return_obj))\n",
    "    result_Return[5].append(np.mean(list_ils_Return_time))\n",
    "    result_Return[6].append(np.mean(list_seed_save_Return_obj))\n",
    "    result_Return[7].append(np.mean(list_seed_save_Return_time))\n",
    "    result_Return[8].append(np.mean(list_cwi_Return_obj))\n",
    "    result_Return[9].append(np.mean(list_cwi_Return_time))\n",
    "    result_Return[10].append(np.mean(list_cwii_Return_obj))\n",
    "    result_Return[11].append(np.mean(list_cwii_Return_time))\n"
   ]
  },
  {
   "cell_type": "code",
   "execution_count": 8,
   "id": "4fbaab63",
   "metadata": {},
   "outputs": [],
   "source": [
    "c_Return={\n",
    "          'PA_obj_Return' : result_Return[0],\n",
    "          'PA_weak_obj_Return' : result_Return[1],\n",
    "          'PA+VPG_Return_obj':result_Return[2],\n",
    "          'PA+VPG_Return_time':result_Return[3],\n",
    "          'ils_Return':result_Return[4],\n",
    "          'ils_Return_time':result_Return[5],\n",
    "          'Seed_save_Return_obj':result_Return[6],\n",
    "          'Seed_save_Return_time':result_Return[7],\n",
    "          'CWI_Return_obj':result_Return[8],\n",
    "          'CWI_Return_time':result_Return[9],\n",
    "          'CWII_Return_obj':result_Return[10],\n",
    "          'CWII_Return_time':result_Return[11]\n",
    "#           'Seed_Return_obj':result_Return[14],\n",
    "#           'Seed_Return_time':result_Return[15]\n",
    "         }\n",
    "data_return=data= pd.DataFrame(c_Return)"
   ]
  },
  {
   "cell_type": "code",
   "execution_count": 10,
   "id": "b55f5266",
   "metadata": {},
   "outputs": [],
   "source": [
    "data_return.to_excel('Return_exp1.xlsx')"
   ]
  },
  {
   "cell_type": "code",
   "execution_count": 5,
   "id": "73f63d84",
   "metadata": {},
   "outputs": [],
   "source": [
    "list_PA_obj_Sshape=[]\n",
    "list_PA_weak_obj_Sshape=[]\n",
    "list_PA_ils_Sshape_obj=[]\n",
    "list_PA_ils_Sshape_time=[]\n",
    "list_ils_Sshape_obj=[]\n",
    "list_ils_Sshape_time=[]\n",
    "list_seed_save_Sshape_obj=[]\n",
    "list_seed_save_Sshape_time=[]\n",
    "list_cwi_Sshape_obj=[]\n",
    "list_cwi_Sshape_time=[]\n",
    "list_cwii_Sshape_obj=[]\n",
    "list_cwii_Sshape_time=[]\n"
   ]
  },
  {
   "cell_type": "code",
   "execution_count": 7,
   "id": "c66a20aa",
   "metadata": {},
   "outputs": [
    {
     "name": "stderr",
     "output_type": "stream",
     "text": [
      "\r",
      "  0%|                                                                                           | 0/21 [00:00<?, ?it/s]"
     ]
    },
    {
     "name": "stdout",
     "output_type": "stream",
     "text": [
      "Set parameter Username\n",
      "Academic license - for non-commercial use only - expires 2022-07-29\n",
      "Set parameter TimeLimit to value 100\n",
      "Set parameter TimeLimit to value 100\n",
      "Set parameter TimeLimit to value 100\n",
      "Set parameter TimeLimit to value 100\n",
      "Set parameter TimeLimit to value 100\n",
      "Set parameter TimeLimit to value 100\n",
      "Set parameter TimeLimit to value 100\n",
      "Set parameter TimeLimit to value 100\n",
      "Set parameter TimeLimit to value 100\n",
      "Set parameter TimeLimit to value 100\n",
      "Set parameter TimeLimit to value 100\n",
      "Set parameter TimeLimit to value 100\n",
      "Set parameter TimeLimit to value 100\n",
      "Set parameter TimeLimit to value 100\n",
      "Set parameter TimeLimit to value 100\n",
      "Set parameter TimeLimit to value 100\n",
      "Set parameter TimeLimit to value 100\n",
      "Set parameter TimeLimit to value 100\n",
      "Set parameter TimeLimit to value 100\n",
      "Set parameter TimeLimit to value 100\n"
     ]
    },
    {
     "name": "stderr",
     "output_type": "stream",
     "text": [
      "\r",
      "  5%|###7                                                                          | 1/21 [40:17<13:25:40, 2417.01s/it]"
     ]
    },
    {
     "name": "stdout",
     "output_type": "stream",
     "text": [
      "Set parameter TimeLimit to value 100\n",
      "Set parameter TimeLimit to value 100\n",
      "Set parameter TimeLimit to value 100\n",
      "Set parameter TimeLimit to value 100\n",
      "Set parameter TimeLimit to value 100\n",
      "Set parameter TimeLimit to value 100\n",
      "Set parameter TimeLimit to value 100\n",
      "Set parameter TimeLimit to value 100\n",
      "Set parameter TimeLimit to value 100\n",
      "Set parameter TimeLimit to value 100\n",
      "Set parameter TimeLimit to value 100\n",
      "Set parameter TimeLimit to value 100\n",
      "Set parameter TimeLimit to value 100\n",
      "Set parameter TimeLimit to value 100\n",
      "Set parameter TimeLimit to value 100\n",
      "Set parameter TimeLimit to value 100\n",
      "Set parameter TimeLimit to value 100\n",
      "Set parameter TimeLimit to value 100\n",
      "Set parameter TimeLimit to value 100\n",
      "Set parameter TimeLimit to value 100\n"
     ]
    },
    {
     "name": "stderr",
     "output_type": "stream",
     "text": [
      "\r",
      " 10%|#######2                                                                    | 2/21 [1:21:27<12:55:23, 2448.62s/it]"
     ]
    },
    {
     "name": "stdout",
     "output_type": "stream",
     "text": [
      "Set parameter TimeLimit to value 100\n",
      "Set parameter TimeLimit to value 100\n",
      "Set parameter TimeLimit to value 100\n",
      "Set parameter TimeLimit to value 100\n",
      "Set parameter TimeLimit to value 100\n",
      "Set parameter TimeLimit to value 100\n",
      "Set parameter TimeLimit to value 100\n",
      "Set parameter TimeLimit to value 100\n",
      "Set parameter TimeLimit to value 100\n",
      "Set parameter TimeLimit to value 100\n",
      "Set parameter TimeLimit to value 100\n",
      "Set parameter TimeLimit to value 100\n",
      "Set parameter TimeLimit to value 100\n",
      "Set parameter TimeLimit to value 100\n",
      "Set parameter TimeLimit to value 100\n",
      "Set parameter TimeLimit to value 100\n",
      "Set parameter TimeLimit to value 100\n",
      "Set parameter TimeLimit to value 100\n",
      "Set parameter TimeLimit to value 100\n",
      "Set parameter TimeLimit to value 100\n"
     ]
    },
    {
     "name": "stderr",
     "output_type": "stream",
     "text": [
      "\r",
      " 14%|##########8                                                                 | 3/21 [2:03:19<12:23:11, 2477.31s/it]"
     ]
    },
    {
     "name": "stdout",
     "output_type": "stream",
     "text": [
      "Set parameter TimeLimit to value 100\n",
      "Set parameter TimeLimit to value 100\n",
      "Set parameter TimeLimit to value 100\n",
      "Set parameter TimeLimit to value 100\n",
      "Set parameter TimeLimit to value 100\n",
      "Set parameter TimeLimit to value 100\n",
      "Set parameter TimeLimit to value 100\n",
      "Set parameter TimeLimit to value 100\n",
      "Set parameter TimeLimit to value 100\n",
      "Set parameter TimeLimit to value 100\n",
      "Set parameter TimeLimit to value 100\n",
      "Set parameter TimeLimit to value 100\n",
      "Set parameter TimeLimit to value 100\n",
      "Set parameter TimeLimit to value 100\n",
      "Set parameter TimeLimit to value 100\n",
      "Set parameter TimeLimit to value 100\n",
      "Set parameter TimeLimit to value 100\n",
      "Set parameter TimeLimit to value 100\n",
      "Set parameter TimeLimit to value 100\n",
      "Set parameter TimeLimit to value 100\n"
     ]
    },
    {
     "name": "stderr",
     "output_type": "stream",
     "text": [
      "\r",
      " 19%|##############4                                                             | 4/21 [3:27:07<16:27:17, 3484.54s/it]"
     ]
    },
    {
     "name": "stdout",
     "output_type": "stream",
     "text": [
      "Set parameter TimeLimit to value 100\n",
      "Set parameter TimeLimit to value 100\n",
      "Set parameter TimeLimit to value 100\n",
      "Set parameter TimeLimit to value 100\n",
      "Set parameter TimeLimit to value 100\n",
      "Set parameter TimeLimit to value 100\n",
      "Set parameter TimeLimit to value 100\n",
      "Set parameter TimeLimit to value 100\n",
      "Set parameter TimeLimit to value 100\n",
      "Set parameter TimeLimit to value 100\n",
      "Set parameter TimeLimit to value 100\n",
      "Set parameter TimeLimit to value 100\n",
      "Set parameter TimeLimit to value 100\n",
      "Set parameter TimeLimit to value 100\n",
      "Set parameter TimeLimit to value 100\n",
      "Set parameter TimeLimit to value 100\n",
      "Set parameter TimeLimit to value 100\n",
      "Set parameter TimeLimit to value 100\n",
      "Set parameter TimeLimit to value 100\n",
      "Set parameter TimeLimit to value 100\n"
     ]
    },
    {
     "name": "stderr",
     "output_type": "stream",
     "text": [
      "\r",
      " 24%|##################                                                          | 5/21 [4:14:53<14:29:39, 3261.22s/it]"
     ]
    },
    {
     "name": "stdout",
     "output_type": "stream",
     "text": [
      "Set parameter TimeLimit to value 100\n",
      "Set parameter TimeLimit to value 100\n",
      "Set parameter TimeLimit to value 100\n",
      "Set parameter TimeLimit to value 100\n",
      "Set parameter TimeLimit to value 100\n",
      "Set parameter TimeLimit to value 100\n",
      "Set parameter TimeLimit to value 100\n",
      "Set parameter TimeLimit to value 100\n",
      "Set parameter TimeLimit to value 100\n",
      "Set parameter TimeLimit to value 100\n",
      "Set parameter TimeLimit to value 100\n",
      "Set parameter TimeLimit to value 100\n",
      "Set parameter TimeLimit to value 100\n",
      "Set parameter TimeLimit to value 100\n",
      "Set parameter TimeLimit to value 100\n",
      "Set parameter TimeLimit to value 100\n",
      "Set parameter TimeLimit to value 100\n",
      "Set parameter TimeLimit to value 100\n",
      "Set parameter TimeLimit to value 100\n",
      "Set parameter TimeLimit to value 100\n"
     ]
    },
    {
     "name": "stderr",
     "output_type": "stream",
     "text": [
      "\r",
      " 29%|#####################7                                                      | 6/21 [5:03:57<13:08:25, 3153.68s/it]"
     ]
    },
    {
     "name": "stdout",
     "output_type": "stream",
     "text": [
      "Set parameter TimeLimit to value 100\n",
      "Set parameter TimeLimit to value 100\n",
      "Set parameter TimeLimit to value 100\n",
      "Set parameter TimeLimit to value 100\n",
      "Set parameter TimeLimit to value 100\n",
      "Set parameter TimeLimit to value 100\n",
      "Set parameter TimeLimit to value 100\n",
      "Set parameter TimeLimit to value 100\n",
      "Set parameter TimeLimit to value 100\n",
      "Set parameter TimeLimit to value 100\n",
      "Set parameter TimeLimit to value 100\n",
      "Set parameter TimeLimit to value 100\n",
      "Set parameter TimeLimit to value 100\n",
      "Set parameter TimeLimit to value 100\n",
      "Set parameter TimeLimit to value 100\n",
      "Set parameter TimeLimit to value 100\n",
      "Set parameter TimeLimit to value 100\n",
      "Set parameter TimeLimit to value 100\n",
      "Set parameter TimeLimit to value 100\n",
      "Set parameter TimeLimit to value 100\n"
     ]
    },
    {
     "name": "stderr",
     "output_type": "stream",
     "text": [
      "\r",
      " 33%|#########################3                                                  | 7/21 [6:01:06<12:36:48, 3243.48s/it]"
     ]
    },
    {
     "name": "stdout",
     "output_type": "stream",
     "text": [
      "Set parameter TimeLimit to value 100\n",
      "Set parameter TimeLimit to value 100\n",
      "Set parameter TimeLimit to value 100\n",
      "Set parameter TimeLimit to value 100\n",
      "Set parameter TimeLimit to value 100\n",
      "Set parameter TimeLimit to value 100\n",
      "Set parameter TimeLimit to value 100\n",
      "Set parameter TimeLimit to value 100\n",
      "Set parameter TimeLimit to value 100\n",
      "Set parameter TimeLimit to value 100\n",
      "Set parameter TimeLimit to value 100\n",
      "Set parameter TimeLimit to value 100\n",
      "Set parameter TimeLimit to value 100\n",
      "Set parameter TimeLimit to value 100\n",
      "Set parameter TimeLimit to value 100\n",
      "Set parameter TimeLimit to value 100\n",
      "Set parameter TimeLimit to value 100\n",
      "Set parameter TimeLimit to value 100\n",
      "Set parameter TimeLimit to value 100\n",
      "Set parameter TimeLimit to value 100\n"
     ]
    },
    {
     "name": "stderr",
     "output_type": "stream",
     "text": [
      "\r",
      " 38%|############################9                                               | 8/21 [7:00:03<12:03:00, 3336.94s/it]"
     ]
    },
    {
     "name": "stdout",
     "output_type": "stream",
     "text": [
      "Set parameter TimeLimit to value 100\n",
      "Set parameter TimeLimit to value 100\n",
      "Set parameter TimeLimit to value 100\n",
      "Set parameter TimeLimit to value 100\n",
      "Set parameter TimeLimit to value 100\n",
      "Set parameter TimeLimit to value 100\n",
      "Set parameter TimeLimit to value 100\n",
      "Set parameter TimeLimit to value 100\n",
      "Set parameter TimeLimit to value 100\n",
      "Set parameter TimeLimit to value 100\n",
      "Set parameter TimeLimit to value 100\n",
      "Set parameter TimeLimit to value 100\n",
      "Set parameter TimeLimit to value 100\n",
      "Set parameter TimeLimit to value 100\n",
      "Set parameter TimeLimit to value 100\n",
      "Set parameter TimeLimit to value 100\n",
      "Set parameter TimeLimit to value 100\n",
      "Set parameter TimeLimit to value 100\n",
      "Set parameter TimeLimit to value 100\n",
      "Set parameter TimeLimit to value 100\n"
     ]
    },
    {
     "name": "stderr",
     "output_type": "stream",
     "text": [
      "\r",
      " 43%|################################5                                           | 9/21 [8:00:28<11:25:25, 3427.17s/it]"
     ]
    },
    {
     "name": "stdout",
     "output_type": "stream",
     "text": [
      "Set parameter TimeLimit to value 100\n",
      "Set parameter TimeLimit to value 100\n",
      "Set parameter TimeLimit to value 100\n",
      "Set parameter TimeLimit to value 100\n",
      "Set parameter TimeLimit to value 100\n",
      "Set parameter TimeLimit to value 100\n",
      "Set parameter TimeLimit to value 100\n",
      "Set parameter TimeLimit to value 100\n",
      "Set parameter TimeLimit to value 100\n",
      "Set parameter TimeLimit to value 100\n",
      "Set parameter TimeLimit to value 100\n",
      "Set parameter TimeLimit to value 100\n",
      "Set parameter TimeLimit to value 100\n",
      "Set parameter TimeLimit to value 100\n",
      "Set parameter TimeLimit to value 100\n",
      "Set parameter TimeLimit to value 100\n",
      "Set parameter TimeLimit to value 100\n",
      "Set parameter TimeLimit to value 100\n",
      "Set parameter TimeLimit to value 100\n",
      "Set parameter TimeLimit to value 100\n"
     ]
    },
    {
     "name": "stderr",
     "output_type": "stream",
     "text": [
      "\r",
      " 48%|###################################7                                       | 10/21 [9:13:00<11:20:37, 3712.47s/it]"
     ]
    },
    {
     "name": "stdout",
     "output_type": "stream",
     "text": [
      "Set parameter TimeLimit to value 100\n",
      "Set parameter TimeLimit to value 100\n",
      "Set parameter TimeLimit to value 100\n",
      "Set parameter TimeLimit to value 100\n",
      "Set parameter TimeLimit to value 100\n",
      "Set parameter TimeLimit to value 100\n",
      "Set parameter TimeLimit to value 100\n",
      "Set parameter TimeLimit to value 100\n",
      "Set parameter TimeLimit to value 100\n",
      "Set parameter TimeLimit to value 100\n",
      "Set parameter TimeLimit to value 100\n",
      "Set parameter TimeLimit to value 100\n",
      "Set parameter TimeLimit to value 100\n",
      "Set parameter TimeLimit to value 100\n",
      "Set parameter TimeLimit to value 100\n",
      "Set parameter TimeLimit to value 100\n",
      "Set parameter TimeLimit to value 100\n",
      "Set parameter TimeLimit to value 100\n",
      "Set parameter TimeLimit to value 100\n",
      "Set parameter TimeLimit to value 100\n"
     ]
    },
    {
     "name": "stderr",
     "output_type": "stream",
     "text": [
      "\r",
      " 52%|######################################7                                   | 11/21 [10:28:02<10:59:00, 3954.04s/it]"
     ]
    },
    {
     "name": "stdout",
     "output_type": "stream",
     "text": [
      "Set parameter TimeLimit to value 100\n",
      "Set parameter TimeLimit to value 100\n",
      "Set parameter TimeLimit to value 100\n",
      "Set parameter TimeLimit to value 100\n",
      "Set parameter TimeLimit to value 100\n",
      "Set parameter TimeLimit to value 100\n",
      "Set parameter TimeLimit to value 100\n",
      "Set parameter TimeLimit to value 100\n",
      "Set parameter TimeLimit to value 100\n",
      "Set parameter TimeLimit to value 100\n",
      "Set parameter TimeLimit to value 100\n",
      "Set parameter TimeLimit to value 100\n",
      "Set parameter TimeLimit to value 100\n",
      "Set parameter TimeLimit to value 100\n",
      "Set parameter TimeLimit to value 100\n",
      "Set parameter TimeLimit to value 100\n",
      "Set parameter TimeLimit to value 100\n",
      "Set parameter TimeLimit to value 100\n",
      "Set parameter TimeLimit to value 100\n",
      "Set parameter TimeLimit to value 100\n"
     ]
    },
    {
     "name": "stderr",
     "output_type": "stream",
     "text": [
      "\r",
      " 57%|##########################################2                               | 12/21 [11:44:07<10:20:59, 4139.97s/it]"
     ]
    },
    {
     "name": "stdout",
     "output_type": "stream",
     "text": [
      "Set parameter TimeLimit to value 100\n",
      "Set parameter TimeLimit to value 100\n",
      "Set parameter TimeLimit to value 100\n",
      "Set parameter TimeLimit to value 100\n",
      "Set parameter TimeLimit to value 100\n",
      "Set parameter TimeLimit to value 100\n",
      "Set parameter TimeLimit to value 100\n",
      "Set parameter TimeLimit to value 100\n",
      "Set parameter TimeLimit to value 100\n",
      "Set parameter TimeLimit to value 100\n",
      "Set parameter TimeLimit to value 100\n",
      "Set parameter TimeLimit to value 100\n",
      "Set parameter TimeLimit to value 100\n",
      "Set parameter TimeLimit to value 100\n",
      "Set parameter TimeLimit to value 100\n",
      "Set parameter TimeLimit to value 100\n",
      "Set parameter TimeLimit to value 100\n",
      "Set parameter TimeLimit to value 100\n",
      "Set parameter TimeLimit to value 100\n",
      "Set parameter TimeLimit to value 100\n"
     ]
    },
    {
     "name": "stderr",
     "output_type": "stream",
     "text": [
      "\r",
      " 62%|#############################################8                            | 13/21 [13:16:37<10:08:57, 4567.16s/it]"
     ]
    },
    {
     "name": "stdout",
     "output_type": "stream",
     "text": [
      "Set parameter TimeLimit to value 100\n",
      "Set parameter TimeLimit to value 100\n",
      "Set parameter TimeLimit to value 100\n",
      "Set parameter TimeLimit to value 100\n",
      "Set parameter TimeLimit to value 100\n",
      "Set parameter TimeLimit to value 100\n",
      "Set parameter TimeLimit to value 100\n",
      "Set parameter TimeLimit to value 100\n",
      "Set parameter TimeLimit to value 100\n",
      "Set parameter TimeLimit to value 100\n",
      "Set parameter TimeLimit to value 100\n",
      "Set parameter TimeLimit to value 100\n",
      "Set parameter TimeLimit to value 100\n",
      "Set parameter TimeLimit to value 100\n",
      "Set parameter TimeLimit to value 100\n",
      "Set parameter TimeLimit to value 100\n",
      "Set parameter TimeLimit to value 100\n",
      "Set parameter TimeLimit to value 100\n",
      "Set parameter TimeLimit to value 100\n",
      "Set parameter TimeLimit to value 100\n"
     ]
    },
    {
     "name": "stderr",
     "output_type": "stream",
     "text": [
      "\r",
      " 67%|##################################################                         | 14/21 [14:51:04<9:31:34, 4899.28s/it]"
     ]
    },
    {
     "name": "stdout",
     "output_type": "stream",
     "text": [
      "Set parameter TimeLimit to value 100\n",
      "Set parameter TimeLimit to value 100\n",
      "Set parameter TimeLimit to value 100\n",
      "Set parameter TimeLimit to value 100\n",
      "Set parameter TimeLimit to value 100\n",
      "Set parameter TimeLimit to value 100\n",
      "Set parameter TimeLimit to value 100\n",
      "Set parameter TimeLimit to value 100\n",
      "Set parameter TimeLimit to value 100\n",
      "Set parameter TimeLimit to value 100\n",
      "Set parameter TimeLimit to value 100\n",
      "Set parameter TimeLimit to value 100\n",
      "Set parameter TimeLimit to value 100\n",
      "Set parameter TimeLimit to value 100\n",
      "Set parameter TimeLimit to value 100\n",
      "Set parameter TimeLimit to value 100\n",
      "Set parameter TimeLimit to value 100\n",
      "Set parameter TimeLimit to value 100\n",
      "Set parameter TimeLimit to value 100\n",
      "Set parameter TimeLimit to value 100\n"
     ]
    },
    {
     "name": "stderr",
     "output_type": "stream",
     "text": [
      "\r",
      " 71%|#####################################################5                     | 15/21 [16:30:11<8:41:32, 5215.34s/it]"
     ]
    },
    {
     "name": "stdout",
     "output_type": "stream",
     "text": [
      "Set parameter TimeLimit to value 100\n",
      "Set parameter TimeLimit to value 100\n",
      "Set parameter TimeLimit to value 100\n",
      "Set parameter TimeLimit to value 100\n",
      "Set parameter TimeLimit to value 100\n",
      "Set parameter TimeLimit to value 100\n",
      "Set parameter TimeLimit to value 100\n",
      "Set parameter TimeLimit to value 100\n",
      "Set parameter TimeLimit to value 100\n",
      "Set parameter TimeLimit to value 100\n",
      "Set parameter TimeLimit to value 100\n",
      "Set parameter TimeLimit to value 100\n",
      "Set parameter TimeLimit to value 100\n",
      "Set parameter TimeLimit to value 100\n",
      "Set parameter TimeLimit to value 100\n",
      "Set parameter TimeLimit to value 100\n",
      "Set parameter TimeLimit to value 100\n",
      "Set parameter TimeLimit to value 100\n",
      "Set parameter TimeLimit to value 100\n",
      "Set parameter TimeLimit to value 100\n"
     ]
    },
    {
     "name": "stderr",
     "output_type": "stream",
     "text": [
      "\r",
      " 76%|#######################################################6                 | 16/21 [22:53:38<14:40:52, 10570.51s/it]"
     ]
    },
    {
     "name": "stdout",
     "output_type": "stream",
     "text": [
      "Set parameter TimeLimit to value 100\n",
      "Set parameter TimeLimit to value 100\n",
      "Set parameter TimeLimit to value 100\n",
      "Set parameter TimeLimit to value 100\n",
      "Set parameter TimeLimit to value 100\n",
      "Set parameter TimeLimit to value 100\n",
      "Set parameter TimeLimit to value 100\n",
      "Set parameter TimeLimit to value 100\n",
      "Set parameter TimeLimit to value 100\n",
      "Set parameter TimeLimit to value 100\n",
      "Set parameter TimeLimit to value 100\n",
      "Set parameter TimeLimit to value 100\n",
      "Set parameter TimeLimit to value 100\n",
      "Set parameter TimeLimit to value 100\n",
      "Set parameter TimeLimit to value 100\n",
      "Set parameter TimeLimit to value 100\n",
      "Set parameter TimeLimit to value 100\n",
      "Set parameter TimeLimit to value 100\n",
      "Set parameter TimeLimit to value 100\n",
      "Set parameter TimeLimit to value 100\n"
     ]
    },
    {
     "name": "stderr",
     "output_type": "stream",
     "text": [
      "\r",
      " 81%|###########################################################9              | 17/21 [25:01:37<10:46:44, 9701.13s/it]"
     ]
    },
    {
     "name": "stdout",
     "output_type": "stream",
     "text": [
      "Set parameter TimeLimit to value 100\n",
      "Set parameter TimeLimit to value 100\n",
      "Set parameter TimeLimit to value 100\n",
      "Set parameter TimeLimit to value 100\n",
      "Set parameter TimeLimit to value 100\n",
      "Set parameter TimeLimit to value 100\n",
      "Set parameter TimeLimit to value 100\n",
      "Set parameter TimeLimit to value 100\n",
      "Set parameter TimeLimit to value 100\n",
      "Set parameter TimeLimit to value 100\n",
      "Set parameter TimeLimit to value 100\n",
      "Set parameter TimeLimit to value 100\n",
      "Set parameter TimeLimit to value 100\n",
      "Set parameter TimeLimit to value 100\n",
      "Set parameter TimeLimit to value 100\n",
      "Set parameter TimeLimit to value 100\n",
      "Set parameter TimeLimit to value 100\n",
      "Set parameter TimeLimit to value 100\n",
      "Set parameter TimeLimit to value 100\n",
      "Set parameter TimeLimit to value 100\n"
     ]
    },
    {
     "name": "stderr",
     "output_type": "stream",
     "text": [
      "\r",
      " 86%|################################################################2          | 18/21 [27:08:22<7:33:33, 9071.26s/it]"
     ]
    },
    {
     "name": "stdout",
     "output_type": "stream",
     "text": [
      "Set parameter TimeLimit to value 100\n",
      "Set parameter TimeLimit to value 100\n",
      "Set parameter TimeLimit to value 100\n",
      "Set parameter TimeLimit to value 100\n",
      "Set parameter TimeLimit to value 100\n",
      "Set parameter TimeLimit to value 100\n",
      "Set parameter TimeLimit to value 100\n",
      "Set parameter TimeLimit to value 100\n",
      "Set parameter TimeLimit to value 100\n",
      "Set parameter TimeLimit to value 100\n",
      "Set parameter TimeLimit to value 100\n",
      "Set parameter TimeLimit to value 100\n",
      "Set parameter TimeLimit to value 100\n",
      "Set parameter TimeLimit to value 100\n",
      "Set parameter TimeLimit to value 100\n",
      "Set parameter TimeLimit to value 100\n",
      "Set parameter TimeLimit to value 100\n",
      "Set parameter TimeLimit to value 100\n",
      "Set parameter TimeLimit to value 100\n",
      "Set parameter TimeLimit to value 100\n"
     ]
    },
    {
     "name": "stderr",
     "output_type": "stream",
     "text": [
      "\r",
      " 90%|###################################################################8       | 19/21 [29:46:40<5:06:38, 9199.24s/it]"
     ]
    },
    {
     "name": "stdout",
     "output_type": "stream",
     "text": [
      "Set parameter TimeLimit to value 100\n",
      "Set parameter TimeLimit to value 100\n",
      "Set parameter TimeLimit to value 100\n",
      "Set parameter TimeLimit to value 100\n",
      "Set parameter TimeLimit to value 100\n",
      "Set parameter TimeLimit to value 100\n",
      "Set parameter TimeLimit to value 100\n",
      "Set parameter TimeLimit to value 100\n",
      "Set parameter TimeLimit to value 100\n",
      "Set parameter TimeLimit to value 100\n",
      "Set parameter TimeLimit to value 100\n",
      "Set parameter TimeLimit to value 100\n",
      "Set parameter TimeLimit to value 100\n",
      "Set parameter TimeLimit to value 100\n",
      "Set parameter TimeLimit to value 100\n",
      "Set parameter TimeLimit to value 100\n",
      "Set parameter TimeLimit to value 100\n",
      "Set parameter TimeLimit to value 100\n",
      "Set parameter TimeLimit to value 100\n",
      "Set parameter TimeLimit to value 100\n"
     ]
    },
    {
     "name": "stderr",
     "output_type": "stream",
     "text": [
      "\r",
      " 95%|#######################################################################4   | 20/21 [32:19:30<2:33:10, 9190.53s/it]"
     ]
    },
    {
     "name": "stdout",
     "output_type": "stream",
     "text": [
      "Set parameter TimeLimit to value 100\n",
      "Set parameter TimeLimit to value 100\n",
      "Set parameter TimeLimit to value 100\n",
      "Set parameter TimeLimit to value 100\n",
      "Set parameter TimeLimit to value 100\n",
      "Set parameter TimeLimit to value 100\n",
      "Set parameter TimeLimit to value 100\n",
      "Set parameter TimeLimit to value 100\n",
      "Set parameter TimeLimit to value 100\n",
      "Set parameter TimeLimit to value 100\n",
      "Set parameter TimeLimit to value 100\n",
      "Set parameter TimeLimit to value 100\n",
      "Set parameter TimeLimit to value 100\n",
      "Set parameter TimeLimit to value 100\n",
      "Set parameter TimeLimit to value 100\n",
      "Set parameter TimeLimit to value 100\n",
      "Set parameter TimeLimit to value 100\n",
      "Set parameter TimeLimit to value 100\n",
      "Set parameter TimeLimit to value 100\n",
      "Set parameter TimeLimit to value 100\n"
     ]
    },
    {
     "name": "stderr",
     "output_type": "stream",
     "text": [
      "100%|#############################################################################| 21/21 [34:59:44<00:00, 5999.24s/it]\n"
     ]
    }
   ],
   "source": [
    "for i in tqdm(range(len(list_order))):\n",
    "    for _ in range(20):\n",
    "        try:\n",
    "            s= Problem_MIP(number_of_order=list_order[i], number_of_sku=list_item[i], number_of_unique_sku=list_uitem[i], number_of_batch=list_batch[i])\n",
    "            s.form_data()\n",
    "            #Exact\n",
    "            EMILP_Sshape_obj,EMILP_Sshape_gap=s.Direct_MIP_Sshape(1000)\n",
    "            EMILP_Sshape_LB=(1-EMILP_Sshape_gap)*EMILP_Sshape_obj\n",
    "            #Appro\n",
    "            PA_obj,PA_gap=s.Pattern_Appro(100)\n",
    "            PA_obj_Sshape=s.Obj_Matrix_Sshape(s.Pattern_Appro_matrix)\n",
    "\n",
    "            list_PA_obj_Sshape.append(PA_obj_Sshape)\n",
    "            #Approweak\n",
    "            PA_weak_obj,PA_weak_gap=s.Pattern_Appro_Weak(100)\n",
    "            PA_weak_obj_Sshape=s.Obj_Matrix_Sshape(s.Pattern_Appro_Weak_matrix)\n",
    "\n",
    "            list_PA_weak_obj_Sshape.append(PA_weak_obj_Sshape)\n",
    "            #Appro+ILS\n",
    "            PA_ils_Sshape_m,PA_ils_Sshape_obj,PA_ils_Sshape_time=Return_EVP(s,s.Pattern_Appro_matrix,PA_obj_Sshape,1000,100,0.005)\n",
    "\n",
    "            list_PA_ils_Sshape_obj.append(PA_ils_Sshape_obj)\n",
    "            list_PA_ils_Sshape_time.append(PA_ils_Sshape_time)\n",
    "            #ILS\n",
    "            ils_m=Random_Sample_operator(s)\n",
    "            ils_Sshape_obj=s.Obj_Matrix_Sshape(ils_m)\n",
    "            ils_Sshape_m,ils_Sshape_obj,ils_Sshape_time=Sshape_iterated_local_search(s,ils_m,ils_Sshape_obj,1000,100,0.005)\n",
    "\n",
    "            list_ils_Sshape_obj.append(ils_Sshape_obj)\n",
    "            list_ils_Sshape_time.append(ils_Sshape_time)\n",
    "            #Seed_save\n",
    "            seed_save_Sshape_m,seed_save_Sshape_obj,seed_save_Sshape_time=Sshape_Seed_Heuristic_Solver(s)\n",
    "\n",
    "            list_seed_save_Sshape_obj.append(seed_save_Sshape_obj)\n",
    "            list_seed_save_Sshape_time.append(seed_save_Sshape_time)\n",
    "            #CWI\n",
    "            cwi_Sshape_m,cwi_Sshape_obj,cwi_Sshape_time=Sshape_CWI_Heuristic_Solver(s)\n",
    "            list_cwi_Sshape_obj.append(cwi_Sshape_obj)\n",
    "            list_cwi_Sshape_time.append(cwi_Sshape_time)\n",
    "            #CWII\n",
    "            cwii_Sshape_m,cwii_Sshape_obj,cwii_Sshape_time=Sshape_CWII_Heuristic_Solver(s)\n",
    "            list_cwii_Sshape_obj.append(cwii_Sshape_obj)\n",
    "            list_cwii_Sshape_time.append(cwii_Sshape_time)\n",
    "        except:\n",
    "            pass\n",
    "    result_Sshape[0].append(np.mean(list_PA_obj_Sshape))\n",
    "    result_Sshape[1].append(np.mean(list_PA_weak_obj_Sshape))\n",
    "    result_Sshape[2].append(np.mean(list_PA_ils_Sshape_obj))\n",
    "    result_Sshape[3].append(np.mean(list_PA_ils_Sshape_time))\n",
    "    result_Sshape[4].append(np.mean(list_ils_Sshape_obj))\n",
    "    result_Sshape[5].append(np.mean(list_ils_Sshape_time))\n",
    "    result_Sshape[6].append(np.mean(list_seed_save_Sshape_obj))\n",
    "    result_Sshape[7].append(np.mean(list_seed_save_Sshape_time))\n",
    "    result_Sshape[8].append(np.mean(list_cwi_Sshape_obj))\n",
    "    result_Sshape[9].append(np.mean(list_cwi_Sshape_time))\n",
    "    result_Sshape[10].append(np.mean(list_cwii_Sshape_obj))\n",
    "    result_Sshape[11].append(np.mean(list_cwii_Sshape_time))\n"
   ]
  },
  {
   "cell_type": "code",
   "execution_count": 9,
   "id": "c5835fd8",
   "metadata": {},
   "outputs": [],
   "source": [
    "c_Sshape={\n",
    "          'PA_obj_Sshape' : result_Sshape[0],\n",
    "          'PA_weak_obj_Sshape' : result_Sshape[1],\n",
    "          'PA+VPG_Sshape_obj':result_Sshape[2],\n",
    "          'PA+VPG_Sshape_time':result_Sshape[3],\n",
    "          'ils_Sshape':result_Sshape[4],\n",
    "          'ils_Sshape_time':result_Sshape[5],\n",
    "          'Seed_save_Sshape_obj':result_Sshape[6],\n",
    "          'Seed_save_Sshape_time':result_Sshape[7],\n",
    "          'CWI_Sshape_obj':result_Sshape[8],\n",
    "          'CWI_Sshape_time':result_Sshape[9],\n",
    "          'CWII_Sshape_obj':result_Sshape[10],\n",
    "          'CWII_Sshape_time':result_Sshape[11]\n",
    "#           'Seed_Sshape_obj':result_Sshape[14],\n",
    "#           'Seed_Sshape_time':result_Sshape[15]\n",
    "         }\n",
    "data_Sshape=data= pd.DataFrame(c_Sshape)\n"
   ]
  },
  {
   "cell_type": "code",
   "execution_count": 10,
   "id": "d1c13b20",
   "metadata": {},
   "outputs": [],
   "source": [
    "data_Sshape.to_excel('Sshape_exp1.xlsx')"
   ]
  },
  {
   "cell_type": "code",
   "execution_count": 16,
   "id": "56c7caa8",
   "metadata": {},
   "outputs": [],
   "source": [
    "import pickle\n",
    "file=open(\"s2.pkl\",\"rb\")\n",
    "s=pickle.load(file)\n",
    "s.form_data()"
   ]
  },
  {
   "cell_type": "code",
   "execution_count": 12,
   "id": "2afcef69",
   "metadata": {},
   "outputs": [
    {
     "name": "stdout",
     "output_type": "stream",
     "text": [
      "Set parameter TimeLimit to value 100\n"
     ]
    }
   ],
   "source": [
    "PA_obj,PA_gap=s.Pattern_Appro(100,s.mb)\n",
    "PA_obj_Sshape=s.Obj_Matrix_Sshape(s.Pattern_Appro_matrix)\n",
    "\n",
    "\n",
    "#Appro+ILS\n",
    "PA_ils_Sshape_m,PA_ils_Sshape_obj,PA_ils_Sshape_time=Sshape_EVP(s,s.Pattern_Appro_matrix,PA_obj_Sshape,2)\n",
    "\n"
   ]
  },
  {
   "cell_type": "code",
   "execution_count": 13,
   "id": "14120676",
   "metadata": {},
   "outputs": [
    {
     "data": {
      "text/plain": [
       "6864.799999999996"
      ]
     },
     "execution_count": 12,
     "metadata": {},
     "output_type": "execute_result"
    }
   ],
   "source": [
    "PA_ils_Sshape_obj"
   ]
  },
  {
   "cell_type": "code",
   "execution_count": 14,
   "id": "6c1fefb0",
   "metadata": {},
   "outputs": [
    {
     "data": {
      "text/plain": [
       "41.78902554512024"
      ]
     },
     "execution_count": 13,
     "metadata": {},
     "output_type": "execute_result"
    }
   ],
   "source": [
    "PA_ils_Sshape_time"
   ]
  },
  {
   "cell_type": "code",
   "execution_count": 17,
   "id": "b508367b",
   "metadata": {},
   "outputs": [
    {
     "name": "stdout",
     "output_type": "stream",
     "text": [
      "Set parameter TimeLimit to value 100\n"
     ]
    }
   ],
   "source": [
    "PA_obj,PA_gap=s.Pattern_Appro(100,s.mb)\n",
    "PA_obj_Return=s.Obj_Matrix_Return(s.Pattern_Appro_matrix)\n",
    "\n",
    "#Appro+ILS\n",
    "PA_ils_Return_m,PA_ils_Return_obj,PA_ils_Return_time=Return_EVP(s,s.Pattern_Appro_matrix,PA_obj_Return,2)\n"
   ]
  },
  {
   "cell_type": "code",
   "execution_count": 18,
   "id": "878057dc",
   "metadata": {},
   "outputs": [
    {
     "data": {
      "text/plain": [
       "8490.800000000005"
      ]
     },
     "execution_count": 17,
     "metadata": {},
     "output_type": "execute_result"
    }
   ],
   "source": [
    "PA_ils_Return_obj"
   ]
  },
  {
   "cell_type": "code",
   "execution_count": 19,
   "id": "16625c48",
   "metadata": {},
   "outputs": [
    {
     "data": {
      "text/plain": [
       "42.76207113265991"
      ]
     },
     "execution_count": 18,
     "metadata": {},
     "output_type": "execute_result"
    }
   ],
   "source": [
    "PA_ils_Return_time"
   ]
  }
 ],
 "metadata": {
  "kernelspec": {
   "display_name": "Python 3.8 (XPython)",
   "language": "python",
   "name": "xpython"
  },
  "language_info": {
   "file_extension": ".py",
   "mimetype": "text/x-python",
   "name": "python",
   "version": "3.8.10"
  }
 },
 "nbformat": 4,
 "nbformat_minor": 5
}
