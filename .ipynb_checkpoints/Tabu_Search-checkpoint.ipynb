{
 "cells": [
  {
   "cell_type": "code",
   "execution_count": null,
   "id": "d1fa8897",
   "metadata": {},
   "outputs": [],
   "source": [
    "import time, datetime\n",
    "import numpy as np\n",
    "import random\n",
    "\n",
    "def Load_Index(matrix, indices_to_load):\n",
    "    for i in indices_to_load:\n",
    "        x1,y1,x2,y2=i[0][0],i[1][0],i[0][1],i[1][1]\n",
    "        temp=matrix[x1][y1]\n",
    "        matrix[x1][y1]=matrix[x2][y2]\n",
    "        matrix[x2][y2]=temp\n",
    "\n",
    "def Tabu_Search_Solver(s, matrix, epoch, number_of_sample, obj):\n",
    "    for _ in range(epoch):\n",
    "        list_of_tuples = []\n",
    "        for i in range(number_of_sample):\n",
    "            i1 = random.randint(0, s.number_of_order - 1)\n",
    "            i2 = random.randint(0, s.number_of_order - 1)\n",
    "            j1 = [i for i, x in enumerate(matrix) if i1 in x][0]\n",
    "            j2 = [i for i, x in enumerate(matrix) if i2 in x][0]\n",
    "            if j1 != j2:\n",
    "                x1, y1, x2, y2 = i1, j1, i2, j2\n",
    "                vy1 = copy.deepcopy([matrix[y1], matrix[y2]])\n",
    "                vy2 = copy.deepcopy([matrix[y1], matrix[y2]])\n",
    "                index1 = np.where(vy1[0] == np.array(x1))[0][0]\n",
    "                index2 = np.where(vy1[1] == np.array(x2))[0][0]\n",
    "                vy2[0][index1] = x2\n",
    "                vy2[1][index2] = x1\n",
    "\n",
    "                s1 = Obj_Matrix_Return_solver(s, vy1)\n",
    "                s2 = Obj_Matrix_Return_solver(s, vy2)\n",
    "                \n",
    "                if s2 < s1:\n",
    "                    list_of_tuples.append((s1 - s2, (j1, j2), (index1, index2)))\n",
    "        indices_to_load = []\n",
    "        has_been_set = set()\n",
    "        c = 0\n",
    "        for j in sorted(list_of_tuples, reverse=True):\n",
    "            if j[1][0] not in has_been_set and j[1][1] not in has_been_set:\n",
    "                has_been_set = has_been_set.union(set([j[1][0], j[1][1]]))\n",
    "                tuples_to_load.append([(j[1][0], j[1][1]), (j[2][0], j[2][1])])\n",
    "                c += j[0]\n",
    "        matrix=Load_Index(matrix,indices_to_load)\n",
    "        obj=obj-c\n",
    "        print(obj)\n"
   ]
  }
 ],
 "metadata": {
  "kernelspec": {
   "display_name": "Python 3 (ipykernel)",
   "language": "python",
   "name": "python3"
  },
  "language_info": {
   "codemirror_mode": {
    "name": "ipython",
    "version": 3
   },
   "file_extension": ".py",
   "mimetype": "text/x-python",
   "name": "python",
   "nbconvert_exporter": "python",
   "pygments_lexer": "ipython3",
   "version": "3.8.3"
  }
 },
 "nbformat": 4,
 "nbformat_minor": 5
}
