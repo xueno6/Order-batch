{
 "cells": [
  {
   "cell_type": "code",
   "execution_count": null,
   "id": "fced28da",
   "metadata": {},
   "outputs": [],
   "source": [
    "def Obj_Matrix_Return_solver(s, matrix):\n",
    "    dis = len(s.mb) * s.number_of_batch\n",
    "    cat = 0\n",
    "    for batch in matrix:\n",
    "        max_each_shelf = [[0] for i in range(len(s.mb))]\n",
    "        set_of_sku = []\n",
    "        for i in batch:\n",
    "            for j in s.Ki[i]:\n",
    "                location=s.skubin[s.list_of_unique_sku[j]]\n",
    "                if max_each_shelf[int(location[0])-1][0] < location[1]:\n",
    "                    max_each_shelf[int(location[0])-1][0] = location[1]  \n",
    "            set_of_sku.extend(s.Ki[i])\n",
    "        dis += np.sum(max_each_shelf) * 2\n",
    "        cat += len(set(set_of_sku))\n",
    "    return s.alpha * cat + (1 - s.alpha) * dis"
   ]
  }
 ],
 "metadata": {
  "kernelspec": {
   "display_name": "Python 3 (ipykernel)",
   "language": "python",
   "name": "python3"
  },
  "language_info": {
   "codemirror_mode": {
    "name": "ipython",
    "version": 3
   },
   "file_extension": ".py",
   "mimetype": "text/x-python",
   "name": "python",
   "nbconvert_exporter": "python",
   "pygments_lexer": "ipython3",
   "version": "3.8.3"
  }
 },
 "nbformat": 4,
 "nbformat_minor": 5
}
