{
 "cells": [
  {
   "cell_type": "code",
   "execution_count": null,
   "id": "b70d3fde",
   "metadata": {},
   "outputs": [],
   "source": [
    "import numpy as np\n",
    "import time\n",
    "import copy\n",
    "from tqdm import tqdm_notebook\n",
    "def Order_Exchange_Return_solver(self, matrix,list_of_tuples,obj):\n",
    "    def fun_exchange(x1,y1,x2,y2,matrix,self,obj):\n",
    "        vy1=copy.deepcopy([matrix[y1],matrix[y2]])\n",
    "        vy2=copy.deepcopy([matrix[y1],matrix[y2]])\n",
    "        index1=np.where(vy1[0]==x1)[0][0]\n",
    "        index2=np.where(vy1[1]==x2)[0][0]\n",
    "        vy2[0][index1]=x2\n",
    "        vy2[1][index2]=x1\n",
    "        \n",
    "        s1=Obj_Matrix_Return_solver(self,vy1)\n",
    "        s2=Obj_Matrix_Return_solver(self,vy2)\n",
    "        if s2<s1:\n",
    "            print(obj+(s2-s1))\n",
    "            matrix[y1]=copy.deepcopy(vy2[0])\n",
    "            matrix[y2]=copy.deepcopy(vy2[1])\n",
    "            return matrix,obj+s2-s1\n",
    "        else:\n",
    "            return matrix,obj\n",
    "    \n",
    "    %run Obj_Matrix_Return.ipynb\n",
    "    c=0\n",
    "    for item in tqdm_notebook(list_of_tuples):\n",
    "        i1=item[0]\n",
    "        i2=item[1]\n",
    "        j1=[i for i, x in enumerate(matrix) if i1 in x][0]\n",
    "        j2=[i for i, x in enumerate(matrix) if i2 in x][0]\n",
    "        c+=1\n",
    "\n",
    "        if j1!=j2:\n",
    "            matrix, obj=fun_exchange(i1,j1,i2,j2,matrix,self,obj)\n",
    "\n",
    "    return matrix, obj\n",
    "\n",
    "\n",
    "        \n"
   ]
  }
 ],
 "metadata": {
  "kernelspec": {
   "display_name": "Python 3 (ipykernel)",
   "language": "python",
   "name": "python3"
  },
  "language_info": {
   "codemirror_mode": {
    "name": "ipython",
    "version": 3
   },
   "file_extension": ".py",
   "mimetype": "text/x-python",
   "name": "python",
   "nbconvert_exporter": "python",
   "pygments_lexer": "ipython3",
   "version": "3.8.3"
  }
 },
 "nbformat": 4,
 "nbformat_minor": 5
}
