{
 "cells": [
  {
   "cell_type": "code",
   "execution_count": 4,
   "id": "89afcdfe",
   "metadata": {},
   "outputs": [],
   "source": [
    "import random\n",
    "import matplotlib.pyplot as plt\n",
    "import numpy as np\n",
    "import pickle\n",
    "%run Sub_Class.ipynb\n",
    "s= Problem_MIP(number_of_order=800, number_of_sku=2148, number_of_unique_sku=1503, number_of_batch=50)\n",
    "s.form_data()\n",
    "#s.To_Original()\n",
    "%run Obj_Matrix_Return.ipynb\n",
    "%run Obj_Matrix_Sshape.ipynb\n"
   ]
  },
  {
   "cell_type": "code",
   "execution_count": 40,
   "id": "37d14ffd",
   "metadata": {},
   "outputs": [],
   "source": [
    "import pickle\n",
    " \n",
    "with open('s1.pkl', 'wb') as config_dictionary_file:\n",
    "     pickle.dump(s1, config_dictionary_file)"
   ]
  },
  {
   "cell_type": "code",
   "execution_count": 56,
   "id": "40c1e8f8",
   "metadata": {},
   "outputs": [],
   "source": [
    "file=open(\"s1.pkl\",\"rb\")\n",
    "s=pickle.load(file)"
   ]
  },
  {
   "cell_type": "code",
   "execution_count": 9,
   "id": "2451636d",
   "metadata": {},
   "outputs": [],
   "source": [
    "Origin_list=[i for i in range(s.number_of_order)]\n",
    "def Corr_Analysis(s, matrix):\n",
    "    #dis = len(s.mb) * s.number_of_batch\n",
    "    dis = 0\n",
    "    cat = 0\n",
    "    for batch in matrix:\n",
    "        set_of_shelf = set()\n",
    "        set_of_sku = []\n",
    "        for i in batch:\n",
    "            for j in s.Ki[i]:\n",
    "                location = s.skubin[s.list_of_unique_sku[j]]\n",
    "                set_of_shelf.add(location[0])\n",
    "            set_of_sku.extend(set(s.Ki[i]))\n",
    "        dis += np.sum([s.mb[int(i) - 1] for i in set_of_shelf])\n",
    "        #dis+= len(set_of_shelf)\n",
    "\n",
    "        # Now we assum that all shelf is length 1\n",
    "        #dis += len(set_of_shelf)\n",
    "        cat += len(set(set_of_sku))\n",
    "    return cat, dis"
   ]
  },
  {
   "cell_type": "code",
   "execution_count": 10,
   "id": "a28d3dbe",
   "metadata": {},
   "outputs": [],
   "source": [
    "result=[[],[],[],[]]\n",
    "n=5000 # Number of samples\n",
    "\n",
    "for i in range(n):\n",
    "    random.shuffle(Origin_list)\n",
    "    matrix=[[] for i in range(s.number_of_batch)]\n",
    "    perunit=int(s.number_of_order/s.number_of_batch)\n",
    "    for j in range(s.number_of_batch):\n",
    "        matrix[j].extend(Origin_list[j*perunit:(j+1)*perunit])\n",
    "    cat,dis=Corr_Analysis(s,matrix)\n",
    "    result[0].append(cat)\n",
    "    result[1].append(dis)\n",
    "    result[2].append(Obj_Matrix_Sshape_solver(s, matrix))\n",
    "    result[3].append(Obj_Matrix_Return_solver(s, matrix))"
   ]
  },
  {
   "cell_type": "code",
   "execution_count": 11,
   "id": "d6f2e3d2",
   "metadata": {},
   "outputs": [],
   "source": [
    "import pandas as pd\n",
    "import matplotlib.pyplot as plt\n",
    "import scipy.stats as stats\n",
    "c={'cat' : result[0],'dis' : result[1],'S':result[2],'Return':result[3]}\n",
    "data= pd.DataFrame(c)\n"
   ]
  },
  {
   "cell_type": "code",
   "execution_count": 8,
   "id": "6f7e4131",
   "metadata": {},
   "outputs": [
    {
     "name": "stdout",
     "output_type": "stream",
     "text": [
      "             cat       dis         S    Return\n",
      "cat     1.000000  0.159970  0.144367  0.209755\n",
      "dis     0.159970  1.000000  0.846964  0.714366\n",
      "S       0.144367  0.846964  1.000000  0.692896\n",
      "Return  0.209755  0.714366  0.692896  1.000000\n"
     ]
    }
   ],
   "source": [
    "print(data.corr())"
   ]
  },
  {
   "cell_type": "code",
   "execution_count": 12,
   "id": "7fe19161",
   "metadata": {},
   "outputs": [
    {
     "name": "stdout",
     "output_type": "stream",
     "text": [
      "             cat       dis         S    Return\n",
      "cat     1.000000  0.125436  0.122401  0.200469\n",
      "dis     0.125436  1.000000  0.973157  0.726792\n",
      "S       0.122401  0.973157  1.000000  0.685214\n",
      "Return  0.200469  0.726792  0.685214  1.000000\n"
     ]
    }
   ],
   "source": [
    "print(data.corr())"
   ]
  },
  {
   "cell_type": "code",
   "execution_count": 25,
   "id": "19c97422",
   "metadata": {},
   "outputs": [],
   "source": [
    "#data.to_excel('corr_exp.xlsx')"
   ]
  },
  {
   "cell_type": "code",
   "execution_count": 26,
   "id": "04b9b2aa",
   "metadata": {},
   "outputs": [],
   "source": [
    "re=data.to_numpy()\n",
    "np.save('result.npy',re)"
   ]
  },
  {
   "cell_type": "code",
   "execution_count": 73,
   "id": "4375bdeb",
   "metadata": {},
   "outputs": [],
   "source": [
    "w=25\n",
    "plt.figure()\n",
    "plt.hist(data['S'], bins=np.arange(min(data['S']), max(data['S']) + w, w),density=True,label=\"Histogram of samples\") \n",
    "#plt.show()\n",
    "\n",
    "\n",
    "\n",
    "from scipy.stats import norm\n",
    "import statistics\n",
    "  \n",
    "# Plot between -10 and 10 with .001 steps.\n",
    "x_axis = np.arange(min(data['S']), max(data['S']), 1)\n",
    "  \n",
    "# Calculating mean and standard deviation\n",
    "mean = statistics.mean(x_axis)\n",
    "sd = statistics.stdev(x_axis)\n",
    "  \n",
    "#plt.plot(x_axis, norm.pdf(x_axis, mean, sd))\n",
    "plt.plot(x_axis, norm.pdf(x_axis, data['S'].mean(), data['S'].std()),label='PDF')\n",
    "plt.legend()\n",
    "#plt.show()\n",
    "plt.savefig(\"Sshape.pdf\")\n"
   ]
  },
  {
   "cell_type": "code",
   "execution_count": 74,
   "id": "eb650f87",
   "metadata": {},
   "outputs": [
    {
     "name": "stdout",
     "output_type": "stream",
     "text": [
      "KstestResult(statistic=0.009585309823807231, pvalue=0.7440186495303216)\n"
     ]
    }
   ],
   "source": [
    "from scipy import stats\n",
    "result = stats.kstest(data['S'], 'norm',(data['S'].mean(),data['S'].std()))\n",
    "print(result)"
   ]
  },
  {
   "cell_type": "code",
   "execution_count": 75,
   "id": "092cba07",
   "metadata": {},
   "outputs": [],
   "source": [
    "w=25\n",
    "plt.figure()\n",
    "plt.hist(data['Return'], bins=np.arange(min(data['Return']), max(data['Return']) + w, w),density=True,label=\"Histogram of samples\")  \n",
    "#plt.show()\n",
    "plt.savefig(\"Return.eps\",format=\"eps\")\n",
    "\n",
    "# Plot between -10 and 10 with .001 steps.\n",
    "x_axis = np.arange(min(data['Return']), max(data['Return']), 1)\n",
    "  \n",
    "# Calculating mean and standard deviation\n",
    "mean = statistics.mean(x_axis)\n",
    "sd = statistics.stdev(x_axis)\n",
    "  \n",
    "#plt.plot(x_axis, norm.pdf(x_axis, mean, sd))\n",
    "plt.plot(x_axis, norm.pdf(x_axis, data['Return'].mean(), data['Return'].std()),label='PDF')\n",
    "plt.legend()\n",
    "#plt.show()\n",
    "plt.savefig(\"Return.pdf\")\n"
   ]
  },
  {
   "cell_type": "code",
   "execution_count": 76,
   "id": "b556e526",
   "metadata": {},
   "outputs": [
    {
     "name": "stdout",
     "output_type": "stream",
     "text": [
      "KstestResult(statistic=0.009193660659844671, pvalue=0.7882423936685541)\n"
     ]
    }
   ],
   "source": [
    "from scipy import stats\n",
    "result = stats.kstest(data['Return'], 'norm',(data['Return'].mean(),data['Return'].std()))\n",
    "print(result)"
   ]
  },
  {
   "cell_type": "code",
   "execution_count": 65,
   "id": "8a4dad76",
   "metadata": {},
   "outputs": [
    {
     "data": {
      "text/plain": [
       "ShapiroResult(statistic=0.9991068243980408, pvalue=0.010199903510510921)"
      ]
     },
     "execution_count": 64,
     "metadata": {},
     "output_type": "execute_result"
    }
   ],
   "source": [
    "from scipy import stats\n",
    "shapiro_test = stats.shapiro(data['dis'])\n",
    "shapiro_test"
   ]
  },
  {
   "cell_type": "code",
   "execution_count": null,
   "id": "cd43e6eb",
   "metadata": {},
   "outputs": [],
   "source": []
  },
  {
   "cell_type": "code",
   "execution_count": 246,
   "id": "6fc097f9",
   "metadata": {},
   "outputs": [
    {
     "name": "stderr",
     "output_type": "stream",
     "text": [
      "C:\\Users\\MSI-NB\\anaconda3\\lib\\site-packages\\statsmodels\\graphics\\gofplots.py:993: UserWarning: marker is redundantly defined by the 'marker' keyword argument and the fmt string \"bo\" (-> marker='o'). The keyword argument will take precedence.\n",
      "  ax.plot(x, y, fmt, **plot_style)\n"
     ]
    }
   ],
   "source": [
    "import numpy as np\n",
    "import statsmodels.api as sm\n",
    "import pylab as py\n",
    "\n",
    "# np.random generates different random numbers\n",
    "# whenever the code is executed\n",
    "# Note: When you execute the same code\n",
    "# the graph look different than shown below.\n",
    "\n",
    "# Random data points generated\n",
    "\n",
    " \n",
    "sm.qqplot((data['dis']-data['dis'].mean())/data['dis'].std(), line ='45')\n",
    "py.show()\n"
   ]
  },
  {
   "cell_type": "code",
   "execution_count": 258,
   "id": "f1239840",
   "metadata": {},
   "outputs": [
    {
     "name": "stderr",
     "output_type": "stream",
     "text": [
      "C:\\Users\\MSI-NB\\anaconda3\\lib\\site-packages\\statsmodels\\graphics\\gofplots.py:993: UserWarning: marker is redundantly defined by the 'marker' keyword argument and the fmt string \"bo\" (-> marker='o'). The keyword argument will take precedence.\n",
      "  ax.plot(x, y, fmt, **plot_style)\n"
     ]
    }
   ],
   "source": [
    "from statsmodels.graphics.gofplots import qqplot_2samples\n",
    "x = (data['dis']-data['dis'].mean())/data['dis'].std()\n",
    "y = (data['S']-data['S'].mean())/data['S'].std()\n",
    "#y = np.random.uniform(0,1,size=len(x))\n",
    "pp_x = sm.ProbPlot(x)\n",
    "pp_y = sm.ProbPlot(y)\n",
    "qqplot_2samples(pp_x, pp_y)\n",
    "plt.show()"
   ]
  },
  {
   "cell_type": "code",
   "execution_count": 245,
   "id": "57e01f67",
   "metadata": {},
   "outputs": [],
   "source": [
    "w=2\n",
    "plt.figure()\n",
    "plt.hist(data['dis'], bins=np.arange(min(data['dis']), max(data['dis']) + w, w),density=True,label=\"Histogram of samples\") \n",
    "x_axis = np.arange(min(data['dis']), max(data['dis']), 1)\n",
    "\n",
    "plt.plot(x_axis, norm.pdf(x_axis, data['dis'].mean(), data['dis'].std()),label='PDF')\n",
    "\n",
    "plt.show()"
   ]
  },
  {
   "cell_type": "code",
   "execution_count": 66,
   "id": "a27fbf43",
   "metadata": {},
   "outputs": [],
   "source": [
    "import numpy as np\n",
    "import matplotlib.pyplot as plt\n",
    "from matplotlib.patches import Ellipse\n",
    "import matplotlib.transforms as transforms\n",
    "\n",
    "def confidence_ellipse(x, y, ax, n_std=3.0, facecolor='none', **kwargs):\n",
    "    \"\"\"\n",
    "    Create a plot of the covariance confidence ellipse of *x* and *y*.\n",
    "\n",
    "    Parameters\n",
    "    ----------\n",
    "    x, y : array-like, shape (n, )\n",
    "        Input data.\n",
    "\n",
    "    ax : matplotlib.axes.Axes\n",
    "        The axes object to draw the ellipse into.\n",
    "\n",
    "    n_std : float\n",
    "        The number of standard deviations to determine the ellipse's radiuses.\n",
    "\n",
    "    **kwargs\n",
    "        Forwarded to `~matplotlib.patches.Ellipse`\n",
    "\n",
    "    Returns\n",
    "    -------\n",
    "    matplotlib.patches.Ellipse\n",
    "    \"\"\"\n",
    "    if x.size != y.size:\n",
    "        raise ValueError(\"x and y must be the same size\")\n",
    "\n",
    "    cov = np.cov(x, y)\n",
    "    pearson = cov[0, 1]/np.sqrt(cov[0, 0] * cov[1, 1])\n",
    "    # Using a special case to obtain the eigenvalues of this\n",
    "    # two-dimensionl dataset.\n",
    "    ell_radius_x = np.sqrt(1 + pearson)\n",
    "    ell_radius_y = np.sqrt(1 - pearson)\n",
    "    ellipse = Ellipse((0, 0), width=ell_radius_x * 2, height=ell_radius_y * 2,\n",
    "                      facecolor=facecolor, **kwargs)\n",
    "\n",
    "    # Calculating the stdandard deviation of x from\n",
    "    # the squareroot of the variance and multiplying\n",
    "    # with the given number of standard deviations.\n",
    "    scale_x = np.sqrt(cov[0, 0]) * n_std\n",
    "    mean_x = np.mean(x)\n",
    "\n",
    "    # calculating the stdandard deviation of y ...\n",
    "    scale_y = np.sqrt(cov[1, 1]) * n_std\n",
    "    mean_y = np.mean(y)\n",
    "\n",
    "    transf = transforms.Affine2D() \\\n",
    "        .rotate_deg(45) \\\n",
    "        .scale(scale_x, scale_y) \\\n",
    "        .translate(mean_x, mean_y)\n",
    "\n",
    "    ellipse.set_transform(transf + ax.transData)\n",
    "    return ax.add_patch(ellipse)\n",
    "def get_correlated_dataset(n, dependency, mu, scale):\n",
    "    latent = np.random.randn(n, 2)\n",
    "    dependent = latent.dot(dependency)\n",
    "    scaled = dependent * scale\n",
    "    scaled_with_offset = scaled + mu\n",
    "    # return x and y of the new, correlated dataset\n",
    "    return scaled_with_offset[:, 0], scaled_with_offset[:, 1]\n",
    "np.random.seed(0)\n",
    "\n",
    "PARAMETERS = {\n",
    "    'Positive correlation': [[0.85, 0.35],\n",
    "                             [0.35, 0.65]],\n",
    "    'Negative correlation': [[0.9, -0.4],\n",
    "                             [0.1, -0.6]],\n",
    "    'Weak correlation': [[1, 0],\n",
    "                         [0, 1]],\n",
    "}\n",
    "\n",
    "mu = 2, 4\n",
    "scale = 5, 5\n",
    "\n",
    "fig, axs = plt.subplots(1, 3, figsize=(9, 3))\n",
    "for ax, (title, dependency) in zip(axs, PARAMETERS.items()):\n",
    "    x, y = get_correlated_dataset(800, dependency, mu, scale)\n",
    "    #ax.scatter(x, y, s=0.5)\n",
    "\n",
    "    ax.axvline(c='grey', lw=1)\n",
    "    ax.axhline(c='grey', lw=1)\n",
    "\n",
    "    confidence_ellipse(x, y, ax, edgecolor='red')\n",
    "\n",
    "    ax.scatter(mu[0], mu[1], c='red', s=3)\n",
    "    ax.set_title(title)\n",
    "\n",
    "plt.show()"
   ]
  },
  {
   "cell_type": "code",
   "execution_count": 77,
   "id": "1ffb6909",
   "metadata": {},
   "outputs": [
    {
     "name": "stderr",
     "output_type": "stream",
     "text": [
      "C:\\Users\\MSI-NB\\anaconda3\\lib\\site-packages\\seaborn\\_decorators.py:36: FutureWarning: Pass the following variables as keyword args: x, y. From version 0.12, the only valid positional argument will be `data`, and passing other arguments without an explicit keyword will result in an error or misinterpretation.\n",
      "  warnings.warn(\n"
     ]
    }
   ],
   "source": [
    "import seaborn as sns\n",
    "#ax_nstd.legend()\n",
    "plot=sns.jointplot(np.array(data['S']),np.array(data['dis']),kind=\"reg\",scatter_kws={'s': 5},line_kws={'color':'black'})\n",
    "#confidence_ellipse(np.array(data['S']), np.array(data['dis']), ax=plot.ax_joint, n_std=3,label=r'$3\\sigma$', edgecolor='firebrick',lw=2)\n",
    "confidence_ellipse(np.array(data['S']), np.array(data['dis']), ax=plot.ax_joint, n_std=1,label=r'$1\\sigma$', edgecolor='firebrick',lw=2)\n",
    "confidence_ellipse(np.array(data['S']), np.array(data['dis']), ax=plot.ax_joint, n_std=2,label=r'$2\\sigma$', edgecolor='fuchsia', lw=1.5)#,linestyle='--')\n",
    "confidence_ellipse(np.array(data['S']), np.array(data['dis']), ax=plot.ax_joint, n_std=3,label=r'$3\\sigma$', edgecolor='blue', lw=1.5)#,linestyle=':')\n",
    "\n",
    "plot.ax_joint.scatter(data['S'].mean(), data['dis'].mean(), c='red', s=3)\n",
    "plot.ax_joint.set_xlabel('$X ^S _n$', fontweight='bold',fontsize=16)\n",
    "plot.ax_joint.set_ylabel('$Y ^\\pi _n$', fontweight='bold',fontsize=16)\n",
    "plot.fig.set_figwidth(12)\n",
    "plot.fig.set_figheight(10)\n",
    "#plt.legend()\n",
    "plot.ax_joint.legend()\n",
    "#plt.show()\n",
    "plt.savefig(\"Y_1S.pdf\")\n"
   ]
  },
  {
   "cell_type": "code",
   "execution_count": 78,
   "id": "a44f4c08",
   "metadata": {},
   "outputs": [
    {
     "name": "stderr",
     "output_type": "stream",
     "text": [
      "C:\\Users\\MSI-NB\\anaconda3\\lib\\site-packages\\seaborn\\_decorators.py:36: FutureWarning: Pass the following variables as keyword args: x, y. From version 0.12, the only valid positional argument will be `data`, and passing other arguments without an explicit keyword will result in an error or misinterpretation.\n",
      "  warnings.warn(\n"
     ]
    }
   ],
   "source": [
    "plot=sns.jointplot(np.array(data['Return']),np.array(data['dis']),kind=\"reg\",scatter_kws={'s': 5},line_kws={'color':'black'})\n",
    "#confidence_ellipse(np.array(data['Return']), np.array(data['dis']), ax=plot.ax_joint, n_std=3,label=r'$3\\sigma$', edgecolor='firebrick',lw=2)\n",
    "confidence_ellipse(np.array(data['Return']), np.array(data['dis']), ax=plot.ax_joint, n_std=1,label=r'$1\\sigma$', edgecolor='firebrick',lw=2)\n",
    "confidence_ellipse(np.array(data['Return']), np.array(data['dis']), ax=plot.ax_joint, n_std=2,label=r'$2\\sigma$', edgecolor='fuchsia', lw=1.5)#,linestyle='--')\n",
    "confidence_ellipse(np.array(data['Return']), np.array(data['dis']), ax=plot.ax_joint, n_std=3,label=r'$3\\sigma$', edgecolor='blue', lw=1.5)#,linestyle=':')\n",
    "\n",
    "plot.ax_joint.scatter(data['Return'].mean(), data['dis'].mean(), c='red', s=3)\n",
    "plot.ax_joint.set_xlabel('$X ^R _n$', fontweight='bold',fontsize=16)\n",
    "plot.ax_joint.set_ylabel('$Y ^\\pi _n$', fontweight='bold',fontsize=16)\n",
    "plot.fig.set_figwidth(12)\n",
    "plot.fig.set_figheight(10)\n",
    "#plt.legend()\n",
    "plot.ax_joint.legend()\n",
    "#plt.show()\n",
    "plt.savefig(\"Y_1R.pdf\")"
   ]
  },
  {
   "cell_type": "code",
   "execution_count": null,
   "id": "20761c1a",
   "metadata": {},
   "outputs": [],
   "source": []
  }
 ],
 "metadata": {
  "kernelspec": {
   "display_name": "Python 3.8 (XPython)",
   "language": "python",
   "name": "xpython"
  },
  "language_info": {
   "file_extension": ".py",
   "mimetype": "text/x-python",
   "name": "python",
   "version": "3.8.10"
  }
 },
 "nbformat": 4,
 "nbformat_minor": 5
}
