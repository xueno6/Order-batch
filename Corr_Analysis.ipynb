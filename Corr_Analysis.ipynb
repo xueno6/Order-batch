{
 "cells": [
  {
   "cell_type": "code",
   "execution_count": 3,
   "id": "89afcdfe",
   "metadata": {},
   "outputs": [],
   "source": [
    "import random\n",
    "\n",
    "import numpy as np\n",
    "%run Sub_Class.ipynb\n",
    "s= Problem_MIP(number_of_order=1200, number_of_sku=3000, number_of_unique_sku=5000, number_of_batch=120)\n",
    "s.form_data()\n"
   ]
  },
  {
   "cell_type": "code",
   "execution_count": 10,
   "id": "e4cbc558",
   "metadata": {},
   "outputs": [],
   "source": [
    "%run Obj_Matrix_Return.ipynb\n",
    "%run Obj_Matrix_Sshape.ipynb"
   ]
  },
  {
   "cell_type": "code",
   "execution_count": 11,
   "id": "40c13602",
   "metadata": {},
   "outputs": [],
   "source": [
    "Origin_list=[i for i in range(s.number_of_order)]"
   ]
  },
  {
   "cell_type": "code",
   "execution_count": 12,
   "id": "2451636d",
   "metadata": {},
   "outputs": [],
   "source": [
    "def Corr_Analysis(s, matrix):\n",
    "    #dis = len(s.mb) * s.number_of_batch\n",
    "    dis = 0\n",
    "    cat = 0\n",
    "    for batch in matrix:\n",
    "        set_of_shelf = set()\n",
    "        set_of_sku = []\n",
    "        for i in batch:\n",
    "            for j in s.Ki[i]:\n",
    "                location = s.skubin[s.list_of_unique_sku[j]]\n",
    "                set_of_shelf.add(location[0])\n",
    "            set_of_sku.extend(set(s.Ki[i]))\n",
    "        dis += np.sum([s.mb[int(i) - 1] for i in set_of_shelf])\n",
    "        #dis+= len(set_of_shelf)\n",
    "\n",
    "        # Now we assum that all shelf is length 1\n",
    "        #dis += len(set_of_shelf)\n",
    "        cat += len(set(set_of_sku))\n",
    "    return cat, dis"
   ]
  },
  {
   "cell_type": "code",
   "execution_count": 13,
   "id": "a28d3dbe",
   "metadata": {},
   "outputs": [],
   "source": [
    "result=[[],[],[],[]]\n",
    "n=1000 # Number of samples\n",
    "\n",
    "for i in range(n):\n",
    "    random.shuffle(Origin_list)\n",
    "    matrix=[[] for i in range(s.number_of_batch)]\n",
    "    perunit=int(s.number_of_order/s.number_of_batch)\n",
    "    for j in range(s.number_of_batch):\n",
    "        matrix[j].extend(Origin_list[j*perunit:(j+1)*perunit])\n",
    "    cat,dis=Corr_Analysis(s,matrix)\n",
    "    result[0].append(cat)\n",
    "    result[1].append(dis)\n",
    "    result[2].append(Obj_Matrix_Sshape_solver(s, matrix))\n",
    "    result[3].append(Obj_Matrix_Return_solver(s, matrix))"
   ]
  },
  {
   "cell_type": "code",
   "execution_count": 13,
   "id": "d6f2e3d2",
   "metadata": {},
   "outputs": [],
   "source": [
    "import pandas as pd\n",
    "import matplotlib.pyplot as plt\n",
    "import scipy.stats as stats\n",
    "c={'cat' : result[0],'dis' : result[1],'S':result[2],'Return':result[3]}\n",
    "data= pd.DataFrame(c)\n"
   ]
  },
  {
   "cell_type": "code",
   "execution_count": 44,
   "id": "546215e4",
   "metadata": {},
   "outputs": [
    {
     "name": "stdout",
     "output_type": "stream",
     "text": [
      "             cat       dis         S    Return\n",
      "cat     1.000000  0.082201  0.088840  0.111920\n",
      "dis     0.082201  1.000000  0.928890  0.750911\n",
      "S       0.088840  0.928890  1.000000  0.764585\n",
      "Return  0.111920  0.750911  0.764585  1.000000\n"
     ]
    }
   ],
   "source": [
    "print(data.corr())\n"
   ]
  },
  {
   "cell_type": "code",
   "execution_count": 48,
   "id": "c6647264",
   "metadata": {},
   "outputs": [
    {
     "name": "stdout",
     "output_type": "stream",
     "text": [
      "             cat       dis         S    Return\n",
      "cat     1.000000  0.123383  0.130444  0.108131\n",
      "dis     0.123383  1.000000  0.999975  0.793467\n",
      "S       0.130444  0.999975  1.000000  0.793520\n",
      "Return  0.108131  0.793467  0.793520  1.000000\n"
     ]
    }
   ],
   "source": [
    "print(data.corr())\n"
   ]
  },
  {
   "cell_type": "code",
   "execution_count": 10,
   "id": "9745554b",
   "metadata": {},
   "outputs": [
    {
     "name": "stdout",
     "output_type": "stream",
     "text": [
      "             cat       dis         S    Return\n",
      "cat     1.000000  0.069250  0.133660  0.159373\n",
      "dis     0.069250  1.000000  0.997904  0.671090\n",
      "S       0.133660  0.997904  1.000000  0.677007\n",
      "Return  0.159373  0.671090  0.677007  1.000000\n"
     ]
    }
   ],
   "source": [
    "print(data.corr())\n"
   ]
  },
  {
   "cell_type": "code",
   "execution_count": 10,
   "id": "6f7e4131",
   "metadata": {},
   "outputs": [
    {
     "name": "stdout",
     "output_type": "stream",
     "text": [
      "             cat       dis         S    Return\n",
      "cat     1.000000  0.066089  0.073387  0.093904\n",
      "dis     0.066089  1.000000  0.999973  0.773016\n",
      "S       0.073387  0.999973  1.000000  0.773309\n",
      "Return  0.093904  0.773016  0.773309  1.000000\n"
     ]
    }
   ],
   "source": [
    "print(data.corr())"
   ]
  },
  {
   "cell_type": "code",
   "execution_count": 21,
   "id": "32ed4538",
   "metadata": {},
   "outputs": [],
   "source": [
    "data['exp_S']=(data['S']-data['S'].mean())/data['S'].var()"
   ]
  },
  {
   "cell_type": "code",
   "execution_count": 9,
   "id": "31a98670",
   "metadata": {},
   "outputs": [],
   "source": [
    "data['S'].hist()\n",
    "plt.show()"
   ]
  }
 ],
 "metadata": {
  "kernelspec": {
   "display_name": "Python 3.8 (XPython)",
   "language": "python",
   "name": "xpython"
  },
  "language_info": {
   "file_extension": ".py",
   "mimetype": "text/x-python",
   "name": "python",
   "version": "3.8.10"
  }
 },
 "nbformat": 4,
 "nbformat_minor": 5
}
