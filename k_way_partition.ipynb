{
 "cells": [
  {
   "cell_type": "code",
   "execution_count": 50,
   "id": "3a19891b",
   "metadata": {},
   "outputs": [],
   "source": [
    "from gurobipy import * #引用gurobi求解包\n",
    "import numpy as np\n",
    "def k_way_partition_solver(s):\n",
    "    OP = Model(\"partition\")  #定义模型\n",
    "    OP.setParam(\"PoolSearchMode\", 2)  #设置模型可在time limit到达之后输出已知最优可行解，可行解搜索模式为精确搜索\n",
    "    OP.setParam(\"PoolSolutions\", 5)  #设置在运算过程中可行解池中保存前五优的可行解\n",
    "\n",
    "    S = int(s.number_of_order / s.number_of_batch)\n",
    "    Tedges = tuplelist(s.G.edges)\n",
    "    x = OP.addVars(Tedges, vtype=GRB.BINARY, name=\"x\")\n",
    "\n",
    "    OP.addConstrs(\n",
    "        quicksum(x[e] for e in Tedges.select(i, '*')) +\n",
    "        quicksum(x[e] for e in Tedges.select('*', i)) == S - 1\n",
    "        for i in range(s.number_of_order))\n",
    "    OP.setObjective(quicksum (s.G.edges[e]['weight']*x[e] for e in s.G.edges), GRB.MINIMIZE)\n",
    "    OP.update()\n",
    "    OP.optimize()"
   ]
  },
  {
   "cell_type": "code",
   "execution_count": 101,
   "id": "12e911af",
   "metadata": {},
   "outputs": [],
   "source": [
    "import numpy as np\n",
    "%run Sub_Class.ipynb\n",
    "s= Problem_MIP(number_of_order=10, number_of_sku=300, number_of_unique_sku=200, number_of_batch=2)\n",
    "s.form_data()"
   ]
  },
  {
   "cell_type": "code",
   "execution_count": 102,
   "id": "1ccd8965",
   "metadata": {},
   "outputs": [
    {
     "name": "stdout",
     "output_type": "stream",
     "text": [
      "Changed value of parameter PoolSearchMode to 2\n",
      "   Prev: 0  Min: 0  Max: 2  Default: 0\n",
      "Changed value of parameter PoolSolutions to 5\n",
      "   Prev: 10  Min: 1  Max: 2000000000  Default: 10\n",
      "Gurobi Optimizer version 9.1.1 build v9.1.1rc0 (win64)\n",
      "Thread count: 6 physical cores, 12 logical processors, using up to 12 threads\n",
      "Optimize a model with 10 rows, 45 columns and 90 nonzeros\n",
      "Model fingerprint: 0xd3b50a5e\n",
      "Variable types: 0 continuous, 45 integer (45 binary)\n",
      "Coefficient statistics:\n",
      "  Matrix range     [1e+00, 1e+00]\n",
      "  Objective range  [1e+00, 3e+01]\n",
      "  Bounds range     [1e+00, 1e+00]\n",
      "  RHS range        [4e+00, 4e+00]\n",
      "Found heuristic solution: objective 64.0000000\n",
      "Presolve time: 0.00s\n",
      "Presolved: 10 rows, 45 columns, 90 nonzeros\n",
      "Variable types: 0 continuous, 45 integer (45 binary)\n",
      "Found heuristic solution: objective 43.0000000\n",
      "\n",
      "Root relaxation: objective 4.300000e+01, 12 iterations, 0.00 seconds\n",
      "\n",
      "    Nodes    |    Current Node    |     Objective Bounds      |     Work\n",
      " Expl Unexpl |  Obj  Depth IntInf | Incumbent    BestBd   Gap | It/Node Time\n",
      "\n",
      "     0     0          -    0        43.00000   43.00000  0.00%     -    0s\n",
      "\n",
      "Optimal solution found at node 0 - now completing solution pool...\n",
      "\n",
      "    Nodes    |    Current Node    |      Pool Obj. Bounds     |     Work\n",
      "             |                    |   Worst                   |\n",
      " Expl Unexpl |  Obj  Depth IntInf | Incumbent    BestBd   Gap | It/Node Time\n",
      "\n",
      "     0     0          -    0               -   43.00000      -     -    0s\n",
      "     0     0          -    0               -   43.00000      -     -    0s\n",
      "     0     2          -    0               -   43.00000      -     -    0s\n",
      "\n",
      "Explored 69 nodes (82 simplex iterations) in 0.01 seconds\n",
      "Thread count was 12 (of 12 available processors)\n",
      "\n",
      "Solution count 5: 43 43 43 ... 43\n",
      "\n",
      "Optimal solution found (tolerance 1.00e-04)\n",
      "Best objective 4.300000000000e+01, best bound 4.300000000000e+01, gap 0.0000%\n"
     ]
    }
   ],
   "source": [
    "OP = Model(\"partition\")  #定义模型\n",
    "OP.setParam(\"PoolSearchMode\", 2)  #设置模型可在time limit到达之后输出已知最优可行解，可行解搜索模式为精确搜索\n",
    "OP.setParam(\"PoolSolutions\", 5)  #设置在运算过程中可行解池中保存前五优的可行解\n",
    "\n",
    "S = int(s.number_of_order / s.number_of_batch)\n",
    "Tedges = tuplelist(s.G.edges)\n",
    "x = OP.addVars(Tedges, vtype=GRB.BINARY, name=\"x\")\n",
    "\n",
    "OP.addConstrs(\n",
    "    quicksum(x[e] for e in Tedges.select(i, '*')) +\n",
    "    quicksum(x[e] for e in Tedges.select('*', i)) == S - 1\n",
    "    for i in range(s.number_of_order))\n",
    "OP.setObjective(quicksum (s.G.edges[e]['weight']*x[e] for e in s.G.edges), GRB.MINIMIZE)\n",
    "OP.update()\n",
    "OP.optimize()\n"
   ]
  },
  {
   "cell_type": "code",
   "execution_count": 103,
   "id": "feb3681f",
   "metadata": {},
   "outputs": [],
   "source": [
    "for i ,e in zip(OP.getVars(),s.G.edges):\n",
    "    if i.x<0.5:\n",
    "        s.G.remove_edge(*e)"
   ]
  },
  {
   "cell_type": "code",
   "execution_count": 98,
   "id": "6c34b7e6",
   "metadata": {},
   "outputs": [],
   "source": [
    "pos=nx.spring_layout(s.G)\n",
    "labels = nx.get_edge_attributes(s.G,'weight')\n",
    "nx.draw(s.G,pos)\n",
    "nx.draw_networkx_edge_labels(s.G,pos,edge_labels=labels)\n",
    "plt.show()"
   ]
  },
  {
   "cell_type": "code",
   "execution_count": 104,
   "id": "eaeb30c4",
   "metadata": {},
   "outputs": [],
   "source": [
    "nx.draw(s.G, node_color=\"green\", edge_color=\"red\", with_labels = False, node_size = 10)\n",
    "plt.show() "
   ]
  }
 ],
 "metadata": {
  "kernelspec": {
   "display_name": "Python 3.8 (XPython)",
   "language": "python",
   "name": "xpython"
  },
  "language_info": {
   "file_extension": ".py",
   "mimetype": "text/x-python",
   "name": "python",
   "version": "3.8.10"
  }
 },
 "nbformat": 4,
 "nbformat_minor": 5
}
